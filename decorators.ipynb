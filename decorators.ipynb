{
 "cells": [
  {
   "cell_type": "markdown",
   "id": "3bbcd989",
   "metadata": {},
   "source": [
    "First Class Objects\n",
    "In Python, functions are first class objects which means that functions in Python can be used or passed as arguments."
   ]
  },
  {
   "cell_type": "markdown",
   "id": "4949758a",
   "metadata": {},
   "source": [
    "Properties of first class functions:\n",
    "\n",
    "1. A function is an instance of the Object type.\n",
    "2. You can store the function in a variable.\n",
    "3. You can pass the function as a parameter to another function.\n",
    "4. You can return the function from a function.\n",
    "5. You can store them in data structures such as hash tables, lists, …"
   ]
  },
  {
   "cell_type": "markdown",
   "id": "d637f86e",
   "metadata": {},
   "source": [
    "### Example 1: Treating the functions as objects. \n",
    "\n"
   ]
  },
  {
   "cell_type": "code",
   "execution_count": 6,
   "id": "5d943380",
   "metadata": {},
   "outputs": [],
   "source": [
    "def base(text):\n",
    "    return text.upper()\n"
   ]
  },
  {
   "cell_type": "code",
   "execution_count": 7,
   "id": "6a0c41f4",
   "metadata": {},
   "outputs": [
    {
     "data": {
      "text/plain": [
       "'HELLO'"
      ]
     },
     "execution_count": 7,
     "metadata": {},
     "output_type": "execute_result"
    }
   ],
   "source": [
    "base('hello')"
   ]
  },
  {
   "cell_type": "code",
   "execution_count": 8,
   "id": "2b0bf017",
   "metadata": {
    "scrolled": true
   },
   "outputs": [
    {
     "data": {
      "text/plain": [
       "'HELLO'"
      ]
     },
     "execution_count": 8,
     "metadata": {},
     "output_type": "execute_result"
    }
   ],
   "source": [
    "variable=base\n",
    "variable('hello')"
   ]
  },
  {
   "cell_type": "markdown",
   "id": "7e14b8ba",
   "metadata": {},
   "source": [
    "In the above example, we have assigned the function shout to a variable.\n",
    "This will not call the function instead it takes the function object referenced by a shout \n",
    "and creates a second name pointing to it, yell."
   ]
  },
  {
   "cell_type": "markdown",
   "id": "83b25fb0",
   "metadata": {},
   "source": [
    "### Example 2: Passing the function as an argument "
   ]
  },
  {
   "cell_type": "code",
   "execution_count": 11,
   "id": "329054a1",
   "metadata": {
    "scrolled": true
   },
   "outputs": [
    {
     "name": "stdout",
     "output_type": "stream",
     "text": [
      "120\n"
     ]
    }
   ],
   "source": [
    "def sum(a,b):\n",
    "    return a+b\n",
    "def division(a,b):\n",
    "    return a//b\n",
    "\n",
    "def display(func):\n",
    "    s=func(100,20)\n",
    "    print(s)\n",
    "display(sum)"
   ]
  },
  {
   "cell_type": "code",
   "execution_count": 12,
   "id": "e6fad75e",
   "metadata": {
    "scrolled": true
   },
   "outputs": [
    {
     "name": "stdout",
     "output_type": "stream",
     "text": [
      "5\n"
     ]
    }
   ],
   "source": [
    "display(division)"
   ]
  },
  {
   "cell_type": "markdown",
   "id": "9b689afa",
   "metadata": {},
   "source": [
    "### Example 3: Returning functions from another function."
   ]
  },
  {
   "cell_type": "code",
   "execution_count": 14,
   "id": "810ca77e",
   "metadata": {},
   "outputs": [
    {
     "name": "stdout",
     "output_type": "stream",
     "text": [
      "15\n"
     ]
    },
    {
     "data": {
      "text/plain": [
       "25"
      ]
     },
     "execution_count": 14,
     "metadata": {},
     "output_type": "execute_result"
    }
   ],
   "source": [
    "def adder(x):\n",
    "    def add(y):\n",
    "        return x+y\n",
    "    return add\n",
    "add_15=adder(15)\n",
    "add_15(10)"
   ]
  },
  {
   "cell_type": "code",
   "execution_count": 21,
   "id": "4c4574d0",
   "metadata": {},
   "outputs": [
    {
     "data": {
      "text/plain": [
       "65337.12"
      ]
     },
     "execution_count": 21,
     "metadata": {},
     "output_type": "execute_result"
    }
   ],
   "source": [
    "def area_cricle(r):\n",
    "    return 2*3.14*r**2\n",
    "\n",
    "area_cricle(102)"
   ]
  },
  {
   "cell_type": "code",
   "execution_count": 25,
   "id": "ad321426",
   "metadata": {},
   "outputs": [
    {
     "data": {
      "text/plain": [
       "628.0"
      ]
     },
     "execution_count": 25,
     "metadata": {},
     "output_type": "execute_result"
    }
   ],
   "source": [
    "def decorator(func):\n",
    "    def inner(r):\n",
    "        if r>100:\n",
    "            r=100\n",
    "        return func(r)\n",
    "    return inner\n",
    "out=decorator(area_cricle)\n",
    "out(10)"
   ]
  },
  {
   "cell_type": "code",
   "execution_count": null,
   "id": "b4a42da0",
   "metadata": {},
   "outputs": [],
   "source": []
  },
  {
   "cell_type": "code",
   "execution_count": 40,
   "id": "c7593aba",
   "metadata": {},
   "outputs": [],
   "source": [
    "def double(n):\n",
    "    return 2*n\n"
   ]
  },
  {
   "cell_type": "code",
   "execution_count": 41,
   "id": "6d542123",
   "metadata": {},
   "outputs": [
    {
     "data": {
      "text/plain": [
       "10"
      ]
     },
     "execution_count": 41,
     "metadata": {},
     "output_type": "execute_result"
    }
   ],
   "source": [
    "double(5)"
   ]
  },
  {
   "cell_type": "code",
   "execution_count": 44,
   "id": "c4345dd7",
   "metadata": {},
   "outputs": [],
   "source": [
    "def out(func):\n",
    "    print(func+2)\n",
    "    "
   ]
  },
  {
   "cell_type": "code",
   "execution_count": 45,
   "id": "2e6f5642",
   "metadata": {},
   "outputs": [
    {
     "name": "stdout",
     "output_type": "stream",
     "text": [
      "12\n"
     ]
    }
   ],
   "source": [
    "out(double(5))"
   ]
  },
  {
   "cell_type": "code",
   "execution_count": 47,
   "id": "dace59ab",
   "metadata": {
    "scrolled": true
   },
   "outputs": [
    {
     "data": {
      "text/plain": [
       "40"
      ]
     },
     "execution_count": 47,
     "metadata": {},
     "output_type": "execute_result"
    }
   ],
   "source": [
    "double(sum(10,10))"
   ]
  },
  {
   "cell_type": "code",
   "execution_count": 58,
   "id": "dae602c5",
   "metadata": {},
   "outputs": [],
   "source": [
    "def decerator(func):\n",
    "    def inner(a,b):\n",
    "        result=func(a+b)\n",
    "        return result\n",
    "    return inner\n"
   ]
  },
  {
   "cell_type": "code",
   "execution_count": 51,
   "id": "a64cbe00",
   "metadata": {},
   "outputs": [
    {
     "data": {
      "text/plain": [
       "10"
      ]
     },
     "execution_count": 51,
     "metadata": {},
     "output_type": "execute_result"
    }
   ],
   "source": [
    "s=decerator(sum)\n",
    "double(s(2,3))"
   ]
  },
  {
   "cell_type": "code",
   "execution_count": null,
   "id": "2c783848",
   "metadata": {},
   "outputs": [],
   "source": []
  },
  {
   "cell_type": "code",
   "execution_count": 59,
   "id": "29235cc4",
   "metadata": {},
   "outputs": [],
   "source": [
    "@decerator\n",
    "def double(n):\n",
    "    return 2*n"
   ]
  },
  {
   "cell_type": "code",
   "execution_count": 62,
   "id": "56b9484f",
   "metadata": {
    "scrolled": true
   },
   "outputs": [
    {
     "data": {
      "text/plain": [
       "40"
      ]
     },
     "execution_count": 62,
     "metadata": {},
     "output_type": "execute_result"
    }
   ],
   "source": [
    "double(10,10)"
   ]
  },
  {
   "cell_type": "code",
   "execution_count": 68,
   "id": "304902fb",
   "metadata": {
    "scrolled": true
   },
   "outputs": [
    {
     "name": "stdout",
     "output_type": "stream",
     "text": [
      "<function hello_name at 0x000001ECF3B5F1A0>\n"
     ]
    }
   ],
   "source": [
    "def hello_name(name):\n",
    "    return 'hello '+name\n",
    "var=hello_name\n",
    "print(hello_name)"
   ]
  },
  {
   "cell_type": "code",
   "execution_count": 65,
   "id": "8bb71c92",
   "metadata": {},
   "outputs": [
    {
     "name": "stdout",
     "output_type": "stream",
     "text": [
      "<function hello_name at 0x000001ECF4A72840>\n"
     ]
    }
   ],
   "source": [
    "print(var)"
   ]
  },
  {
   "cell_type": "code",
   "execution_count": 69,
   "id": "744cae50",
   "metadata": {},
   "outputs": [
    {
     "data": {
      "text/plain": [
       "'HELLO ILLIYAS'"
      ]
     },
     "execution_count": 69,
     "metadata": {},
     "output_type": "execute_result"
    }
   ],
   "source": [
    "def upper_func(func,name):\n",
    "    re=func(name)\n",
    "    return re.upper()\n",
    "upper_func(hello_name,'illiyas')"
   ]
  },
  {
   "cell_type": "code",
   "execution_count": 70,
   "id": "4e36a99d",
   "metadata": {},
   "outputs": [],
   "source": [
    "def hello_nam(name):\n",
    "    return \"hello \"+name\n"
   ]
  },
  {
   "cell_type": "code",
   "execution_count": 75,
   "id": "64d67205",
   "metadata": {},
   "outputs": [
    {
     "name": "stdout",
     "output_type": "stream",
     "text": [
      "<function outer_func.<locals>.inner_func at 0x000001ECF4AF8400>\n"
     ]
    },
    {
     "data": {
      "text/plain": [
       "'Hello Illiyas'"
      ]
     },
     "execution_count": 75,
     "metadata": {},
     "output_type": "execute_result"
    }
   ],
   "source": [
    "def outer_func(func):\n",
    "    def inner_func(name):\n",
    "        re=func(name)\n",
    "        return re.title()\n",
    "    return inner_func\n",
    "\n",
    "var=outer_func(hello_nam)\n",
    "print(var)\n",
    "var('illiyas')\n",
    "        \n",
    "    "
   ]
  },
  {
   "cell_type": "code",
   "execution_count": 76,
   "id": "f1451748",
   "metadata": {},
   "outputs": [],
   "source": [
    "@outer_func\n",
    "def helo_nam(name):\n",
    "    return 'hello '+name"
   ]
  },
  {
   "cell_type": "code",
   "execution_count": 77,
   "id": "e06ceb1c",
   "metadata": {},
   "outputs": [
    {
     "data": {
      "text/plain": [
       "'Hello Illiyas'"
      ]
     },
     "execution_count": 77,
     "metadata": {},
     "output_type": "execute_result"
    }
   ],
   "source": [
    "helo_nam('illiyas')"
   ]
  },
  {
   "cell_type": "code",
   "execution_count": 80,
   "id": "9bd72c9f",
   "metadata": {},
   "outputs": [],
   "source": [
    "@outer_func\n",
    "def greet(name):\n",
    "    return \"good morning \"+name\n"
   ]
  },
  {
   "cell_type": "code",
   "execution_count": 81,
   "id": "671b49d3",
   "metadata": {
    "scrolled": true
   },
   "outputs": [
    {
     "data": {
      "text/plain": [
       "'Good Morning Iliyas'"
      ]
     },
     "execution_count": 81,
     "metadata": {},
     "output_type": "execute_result"
    }
   ],
   "source": [
    "greet('iliyas')"
   ]
  },
  {
   "cell_type": "markdown",
   "id": "7769dc39",
   "metadata": {},
   "source": [
    "## decerator"
   ]
  },
  {
   "cell_type": "code",
   "execution_count": 9,
   "id": "3f9d5231",
   "metadata": {},
   "outputs": [],
   "source": [
    "def outer_func(func):\n",
    "    def wrapper(a):\n",
    "        li=func(a)\n",
    "        return [item*2 for item in li]\n",
    "    return wrapper\n",
    "\n",
    "    "
   ]
  },
  {
   "cell_type": "code",
   "execution_count": 21,
   "id": "cc00325d",
   "metadata": {},
   "outputs": [],
   "source": [
    "@outer_func\n",
    "def reverse(l):\n",
    "    return l[::-1]\n",
    "\n",
    "@outer_func\n",
    "def upp(l):\n",
    "    return [item.upper() for item in l]\n",
    "\n",
    "@outer_func\n",
    "def fabanocci(n):\n",
    "    l=[]\n",
    "    a,b=0,1\n",
    "    while b<=n:\n",
    "        l.append(a)\n",
    "        a,b=b,a+b\n",
    "    return l\n"
   ]
  },
  {
   "cell_type": "code",
   "execution_count": 11,
   "id": "a58bad0c",
   "metadata": {},
   "outputs": [
    {
     "data": {
      "text/plain": [
       "[6, 4, 2]"
      ]
     },
     "execution_count": 11,
     "metadata": {},
     "output_type": "execute_result"
    }
   ],
   "source": [
    "reverse([1,2,3])"
   ]
  },
  {
   "cell_type": "code",
   "execution_count": 13,
   "id": "d5f42ed5",
   "metadata": {
    "scrolled": true
   },
   "outputs": [
    {
     "data": {
      "text/plain": [
       "['AA', 'BB', 'CC']"
      ]
     },
     "execution_count": 13,
     "metadata": {},
     "output_type": "execute_result"
    }
   ],
   "source": [
    "upp(['a','b','c'])"
   ]
  },
  {
   "cell_type": "code",
   "execution_count": 22,
   "id": "cd4dd5f7",
   "metadata": {
    "scrolled": true
   },
   "outputs": [
    {
     "data": {
      "text/plain": [
       "[0, 2, 2, 4, 6]"
      ]
     },
     "execution_count": 22,
     "metadata": {},
     "output_type": "execute_result"
    }
   ],
   "source": [
    "fabanocci(5)"
   ]
  },
  {
   "cell_type": "code",
   "execution_count": 19,
   "id": "3d68b565",
   "metadata": {},
   "outputs": [],
   "source": [
    "def fabanocci(n):\n",
    "    l=[]\n",
    "    a,b=0,1\n",
    "    while b<=n:\n",
    "        l.append(a)\n",
    "        a,b=b,a+b\n",
    "    return l"
   ]
  },
  {
   "cell_type": "code",
   "execution_count": 20,
   "id": "c5acb314",
   "metadata": {
    "scrolled": true
   },
   "outputs": [
    {
     "data": {
      "text/plain": [
       "[0, 1, 1, 2, 3]"
      ]
     },
     "execution_count": 20,
     "metadata": {},
     "output_type": "execute_result"
    }
   ],
   "source": [
    "fabanocci(5)"
   ]
  },
  {
   "cell_type": "code",
   "execution_count": 26,
   "id": "270d739f",
   "metadata": {},
   "outputs": [],
   "source": [
    "def up(func):\n",
    "    def inner(name):\n",
    "        re=func(name)\n",
    "        return re.upper()\n",
    "    return inner\n",
    "\n",
    "def length(func):\n",
    "    def inner(name):\n",
    "        re=func(name)\n",
    "        re+=str(len(re))\n",
    "        return re\n",
    "    return inner\n"
   ]
  },
  {
   "cell_type": "code",
   "execution_count": 27,
   "id": "42b1f9f5",
   "metadata": {},
   "outputs": [],
   "source": [
    "@up\n",
    "@length\n",
    "def hello_name(name):\n",
    "    return \"hello \"+name\n",
    "\n"
   ]
  },
  {
   "cell_type": "code",
   "execution_count": 28,
   "id": "be6c7bb4",
   "metadata": {},
   "outputs": [
    {
     "data": {
      "text/plain": [
       "'HELLO ILLIYAS13'"
      ]
     },
     "execution_count": 28,
     "metadata": {},
     "output_type": "execute_result"
    }
   ],
   "source": [
    "hello_name('illiyas')"
   ]
  }
 ],
 "metadata": {
  "kernelspec": {
   "display_name": "Python 3 (ipykernel)",
   "language": "python",
   "name": "python3"
  },
  "language_info": {
   "codemirror_mode": {
    "name": "ipython",
    "version": 3
   },
   "file_extension": ".py",
   "mimetype": "text/x-python",
   "name": "python",
   "nbconvert_exporter": "python",
   "pygments_lexer": "ipython3",
   "version": "3.11.0"
  }
 },
 "nbformat": 4,
 "nbformat_minor": 5
}
