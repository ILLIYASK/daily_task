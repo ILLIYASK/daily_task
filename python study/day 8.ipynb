{
 "cells": [
  {
   "cell_type": "code",
   "execution_count": 4,
   "id": "11e5ff69",
   "metadata": {},
   "outputs": [
    {
     "name": "stdout",
     "output_type": "stream",
     "text": [
      "0\n",
      "1\n",
      "2\n",
      "3\n",
      "4\n",
      "6\n",
      "7\n",
      "8\n",
      "9\n",
      "hai\n"
     ]
    }
   ],
   "source": [
    "for i in range(10):\n",
    "    if i == 5:\n",
    "        continue\n",
    "    print(i)\n",
    "else:\n",
    "    print('hai')"
   ]
  },
  {
   "cell_type": "code",
   "execution_count": 12,
   "id": "066bc1be",
   "metadata": {},
   "outputs": [
    {
     "name": "stdout",
     "output_type": "stream",
     "text": [
      "<class 'function'>\n"
     ]
    }
   ],
   "source": [
    "def hello(x):\n",
    "    print(x)\n",
    "print(type(hello))"
   ]
  },
  {
   "cell_type": "code",
   "execution_count": 18,
   "id": "8b471dfa",
   "metadata": {
    "scrolled": false
   },
   "outputs": [
    {
     "data": {
      "text/plain": [
       "False"
      ]
     },
     "execution_count": 18,
     "metadata": {},
     "output_type": "execute_result"
    }
   ],
   "source": [
    "isinstance(hello,int)"
   ]
  },
  {
   "cell_type": "code",
   "execution_count": 19,
   "id": "a99ac4b4",
   "metadata": {},
   "outputs": [],
   "source": [
    "a=10"
   ]
  },
  {
   "cell_type": "code",
   "execution_count": 21,
   "id": "6e3e4a35",
   "metadata": {},
   "outputs": [
    {
     "data": {
      "text/plain": [
       "function"
      ]
     },
     "execution_count": 21,
     "metadata": {},
     "output_type": "execute_result"
    }
   ],
   "source": [
    "hello.__class__"
   ]
  },
  {
   "cell_type": "code",
   "execution_count": 38,
   "id": "923f1713",
   "metadata": {},
   "outputs": [],
   "source": [
    "def add(*arg):\n",
    "    s = 0\n",
    "    for i in  arg:\n",
    "        s += i\n",
    "    return s\n"
   ]
  },
  {
   "cell_type": "code",
   "execution_count": 39,
   "id": "6487e8db",
   "metadata": {
    "scrolled": true
   },
   "outputs": [
    {
     "data": {
      "text/plain": [
       "30"
      ]
     },
     "execution_count": 39,
     "metadata": {},
     "output_type": "execute_result"
    }
   ],
   "source": [
    "add(10,20)"
   ]
  },
  {
   "cell_type": "code",
   "execution_count": 40,
   "id": "b4e48655",
   "metadata": {},
   "outputs": [],
   "source": [
    "def hello(**kwarg):\n",
    "    print(kwarg)\n"
   ]
  },
  {
   "cell_type": "code",
   "execution_count": 41,
   "id": "504cc2f1",
   "metadata": {},
   "outputs": [
    {
     "name": "stdout",
     "output_type": "stream",
     "text": [
      "{'a': 10, 'b': 20, 'c': 30}\n"
     ]
    }
   ],
   "source": [
    "hello(a=10,b=20,c=30)"
   ]
  },
  {
   "cell_type": "code",
   "execution_count": 48,
   "id": "1eeb47fd",
   "metadata": {},
   "outputs": [],
   "source": [
    "def sample(a,b,*,c,d):\n",
    "    pass"
   ]
  },
  {
   "cell_type": "code",
   "execution_count": 50,
   "id": "d35ff8bf",
   "metadata": {},
   "outputs": [],
   "source": [
    "sample(4,5,c=6,d=5)"
   ]
  },
  {
   "cell_type": "code",
   "execution_count": 52,
   "id": "b822f050",
   "metadata": {},
   "outputs": [],
   "source": [
    "l = [1,2,3,[1,2]]"
   ]
  },
  {
   "cell_type": "code",
   "execution_count": 53,
   "id": "1e8af0a1",
   "metadata": {},
   "outputs": [],
   "source": [
    "l1 =l.copy()"
   ]
  },
  {
   "cell_type": "code",
   "execution_count": 54,
   "id": "a09eac05",
   "metadata": {},
   "outputs": [],
   "source": [
    "l[3][0]=\"aa\""
   ]
  },
  {
   "cell_type": "code",
   "execution_count": 55,
   "id": "e3289086",
   "metadata": {},
   "outputs": [
    {
     "data": {
      "text/plain": [
       "[1, 2, 3, ['aa', 2]]"
      ]
     },
     "execution_count": 55,
     "metadata": {},
     "output_type": "execute_result"
    }
   ],
   "source": [
    "l"
   ]
  },
  {
   "cell_type": "code",
   "execution_count": 56,
   "id": "7b12bf7d",
   "metadata": {},
   "outputs": [
    {
     "data": {
      "text/plain": [
       "[1, 2, 3, ['aa', 2]]"
      ]
     },
     "execution_count": 56,
     "metadata": {},
     "output_type": "execute_result"
    }
   ],
   "source": [
    "l1"
   ]
  }
 ],
 "metadata": {
  "kernelspec": {
   "display_name": "Python 3 (ipykernel)",
   "language": "python",
   "name": "python3"
  },
  "language_info": {
   "codemirror_mode": {
    "name": "ipython",
    "version": 3
   },
   "file_extension": ".py",
   "mimetype": "text/x-python",
   "name": "python",
   "nbconvert_exporter": "python",
   "pygments_lexer": "ipython3",
   "version": "3.11.0"
  }
 },
 "nbformat": 4,
 "nbformat_minor": 5
}
