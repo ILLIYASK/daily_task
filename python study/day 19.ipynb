{
 "cells": [
  {
   "cell_type": "code",
   "execution_count": 25,
   "id": "e3918450",
   "metadata": {},
   "outputs": [],
   "source": [
    "from threading import *"
   ]
  },
  {
   "cell_type": "code",
   "execution_count": 26,
   "id": "47dbc90b",
   "metadata": {},
   "outputs": [],
   "source": [
    "e = Event()"
   ]
  },
  {
   "cell_type": "code",
   "execution_count": 27,
   "id": "3ae4992b",
   "metadata": {},
   "outputs": [],
   "source": [
    "import time"
   ]
  },
  {
   "cell_type": "code",
   "execution_count": 28,
   "id": "0f585dcb",
   "metadata": {},
   "outputs": [],
   "source": [
    "def color(e):\n",
    "    while True:\n",
    "        print(\"green\")\n",
    "        e.set()\n",
    "        time.sleep(5)\n",
    "        print(\"red stop....\")\n",
    "        e.clear()\n",
    "        time.sleep(5)\n"
   ]
  },
  {
   "cell_type": "code",
   "execution_count": 29,
   "id": "ffe01ef1",
   "metadata": {},
   "outputs": [],
   "source": [
    "def change(e):\n",
    "    e.wait()\n",
    "    while e.is_set():\n",
    "        print(\"you can go...\")\n",
    "        time.sleep(1)\n",
    "        e.wait()\n"
   ]
  },
  {
   "cell_type": "code",
   "execution_count": null,
   "id": "64e9917f",
   "metadata": {},
   "outputs": [
    {
     "name": "stdout",
     "output_type": "stream",
     "text": [
      "green\n",
      "you can go...\n",
      "you can go...\n",
      "you can go...\n",
      "you can go...\n",
      "you can go...\n",
      "red stop....\n",
      "green\n",
      "you can go...\n",
      "you can go...\n",
      "you can go...\n",
      "you can go...\n",
      "you can go...\n",
      "red stop....\n",
      "green\n",
      "you can go...\n",
      "you can go...\n",
      "you can go...\n",
      "you can go...\n",
      "you can go...\n",
      "red stop....\n",
      "green\n",
      "you can go...\n"
     ]
    }
   ],
   "source": [
    "t1 = Thread(target=change,args=(e,))\n",
    "t2 = Thread(target=color,args=(e,))\n",
    "t1.start()\n",
    "t2.start()\n",
    "t1.join()\n",
    "t2.join()"
   ]
  },
  {
   "cell_type": "markdown",
   "id": "24c9632a",
   "metadata": {},
   "source": [
    "## lambda"
   ]
  },
  {
   "cell_type": "code",
   "execution_count": 9,
   "id": "c13c2cca",
   "metadata": {},
   "outputs": [],
   "source": [
    "a=lambda :print"
   ]
  },
  {
   "cell_type": "code",
   "execution_count": 17,
   "id": "72ad9f90",
   "metadata": {},
   "outputs": [],
   "source": [
    "a = lambda x,y :(x+y,x-y)"
   ]
  },
  {
   "cell_type": "code",
   "execution_count": 20,
   "id": "8a28930c",
   "metadata": {
    "scrolled": true
   },
   "outputs": [
    {
     "data": {
      "text/plain": [
       "(30, -10)"
      ]
     },
     "execution_count": 20,
     "metadata": {},
     "output_type": "execute_result"
    }
   ],
   "source": [
    "a(10,20)"
   ]
  },
  {
   "cell_type": "code",
   "execution_count": 23,
   "id": "a9e6204e",
   "metadata": {},
   "outputs": [],
   "source": [
    "import types"
   ]
  },
  {
   "cell_type": "code",
   "execution_count": 24,
   "id": "cc40b00f",
   "metadata": {
    "scrolled": true
   },
   "outputs": [
    {
     "data": {
      "text/plain": [
       "True"
      ]
     },
     "execution_count": 24,
     "metadata": {},
     "output_type": "execute_result"
    }
   ],
   "source": [
    "isinstance(a,types.FunctionType)"
   ]
  },
  {
   "cell_type": "code",
   "execution_count": 2,
   "id": "dcc33d8e",
   "metadata": {
    "collapsed": true
   },
   "outputs": [
    {
     "ename": "TypeError",
     "evalue": "unsupported operand type(s) for ** or pow(): 'list' and 'int'",
     "output_type": "error",
     "traceback": [
      "\u001b[1;31m---------------------------------------------------------------------------\u001b[0m",
      "\u001b[1;31mTypeError\u001b[0m                                 Traceback (most recent call last)",
      "Cell \u001b[1;32mIn[2], line 2\u001b[0m\n\u001b[0;32m      1\u001b[0m s \u001b[38;5;241m=\u001b[39m \u001b[38;5;28;01mlambda\u001b[39;00m x : x\u001b[38;5;241m*\u001b[39m\u001b[38;5;241m*\u001b[39m\u001b[38;5;241m2\u001b[39m\n\u001b[1;32m----> 2\u001b[0m \u001b[43ms\u001b[49m\u001b[43m(\u001b[49m\u001b[43m[\u001b[49m\u001b[38;5;241;43m1\u001b[39;49m\u001b[43m,\u001b[49m\u001b[38;5;241;43m2\u001b[39;49m\u001b[43m,\u001b[49m\u001b[38;5;241;43m3\u001b[39;49m\u001b[43m]\u001b[49m\u001b[43m)\u001b[49m\n",
      "Cell \u001b[1;32mIn[2], line 1\u001b[0m, in \u001b[0;36m<lambda>\u001b[1;34m(x)\u001b[0m\n\u001b[1;32m----> 1\u001b[0m s \u001b[38;5;241m=\u001b[39m \u001b[38;5;28;01mlambda\u001b[39;00m x : \u001b[43mx\u001b[49m\u001b[38;5;241;43m*\u001b[39;49m\u001b[38;5;241;43m*\u001b[39;49m\u001b[38;5;241;43m2\u001b[39;49m\n\u001b[0;32m      2\u001b[0m s([\u001b[38;5;241m1\u001b[39m,\u001b[38;5;241m2\u001b[39m,\u001b[38;5;241m3\u001b[39m])\n",
      "\u001b[1;31mTypeError\u001b[0m: unsupported operand type(s) for ** or pow(): 'list' and 'int'"
     ]
    }
   ],
   "source": [
    "s = lambda x : x**2\n",
    "s([1,2,3])"
   ]
  },
  {
   "cell_type": "code",
   "execution_count": 10,
   "id": "51281ba6",
   "metadata": {},
   "outputs": [],
   "source": [
    "y = [10,2,0,30,21]"
   ]
  },
  {
   "cell_type": "code",
   "execution_count": 3,
   "id": "9d89714d",
   "metadata": {},
   "outputs": [],
   "source": [
    "x = [i for i in range(10)]"
   ]
  },
  {
   "cell_type": "code",
   "execution_count": 12,
   "id": "ce3edc75",
   "metadata": {},
   "outputs": [],
   "source": [
    "l = list(map(lambda x : x**2 if x % 2 == 0 else x,x))"
   ]
  },
  {
   "cell_type": "code",
   "execution_count": 9,
   "id": "3cc0b8ce",
   "metadata": {
    "scrolled": true
   },
   "outputs": [
    {
     "data": {
      "text/plain": [
       "[0, 1, 4, 3, 16, 5, 36, 7, 64, 9]"
      ]
     },
     "execution_count": 9,
     "metadata": {},
     "output_type": "execute_result"
    }
   ],
   "source": [
    "l"
   ]
  },
  {
   "cell_type": "code",
   "execution_count": 13,
   "id": "2187c0e9",
   "metadata": {
    "scrolled": true
   },
   "outputs": [
    {
     "data": {
      "text/plain": [
       "[0, 1, 2, 3, 4, 5, 6, 7, 8, 9, 10, 2, 0, 30, 21]"
      ]
     },
     "execution_count": 13,
     "metadata": {},
     "output_type": "execute_result"
    }
   ],
   "source": [
    "def add(x,y):\n",
    "    return x+y\n",
    "add(x,y)"
   ]
  },
  {
   "cell_type": "code",
   "execution_count": 14,
   "id": "642b2e38",
   "metadata": {
    "scrolled": true
   },
   "outputs": [
    {
     "data": {
      "text/plain": [
       "[10, 3, 2, 33, 25]"
      ]
     },
     "execution_count": 14,
     "metadata": {},
     "output_type": "execute_result"
    }
   ],
   "source": [
    "sums = map(add,x,y)\n",
    "list(sums)"
   ]
  },
  {
   "cell_type": "code",
   "execution_count": 16,
   "id": "1f0a7f15",
   "metadata": {},
   "outputs": [
    {
     "data": {
      "text/plain": [
       "[10, 3, 2, 33, 25]"
      ]
     },
     "execution_count": 16,
     "metadata": {},
     "output_type": "execute_result"
    }
   ],
   "source": [
    "f= lambda x,y : x+y\n",
    "list(map(f,x,y))"
   ]
  },
  {
   "cell_type": "code",
   "execution_count": 17,
   "id": "9b738b8f",
   "metadata": {},
   "outputs": [],
   "source": [
    "def is_even(x):\n",
    "    return x % 2 == 0\n"
   ]
  },
  {
   "cell_type": "code",
   "execution_count": 30,
   "id": "a89895c8",
   "metadata": {},
   "outputs": [],
   "source": [
    "def generator(func,x):\n",
    "    for i in x:\n",
    "        if func(i):\n",
    "            yield i"
   ]
  },
  {
   "cell_type": "code",
   "execution_count": 31,
   "id": "5b3366ff",
   "metadata": {},
   "outputs": [],
   "source": [
    "x = [1,2,3,4,5,6,7,8,9]"
   ]
  },
  {
   "cell_type": "code",
   "execution_count": 32,
   "id": "6ca74a78",
   "metadata": {},
   "outputs": [],
   "source": [
    "a = generator(is_even,x)"
   ]
  },
  {
   "cell_type": "code",
   "execution_count": 33,
   "id": "914425d1",
   "metadata": {
    "scrolled": true
   },
   "outputs": [
    {
     "data": {
      "text/plain": [
       "[2, 4, 6, 8]"
      ]
     },
     "execution_count": 33,
     "metadata": {},
     "output_type": "execute_result"
    }
   ],
   "source": [
    "list(a)"
   ]
  },
  {
   "cell_type": "code",
   "execution_count": 38,
   "id": "fda7dd7f",
   "metadata": {
    "scrolled": true
   },
   "outputs": [],
   "source": [
    "a=filter(is_even,x)"
   ]
  },
  {
   "cell_type": "code",
   "execution_count": 36,
   "id": "0168a203",
   "metadata": {},
   "outputs": [],
   "source": [
    "import types"
   ]
  },
  {
   "cell_type": "code",
   "execution_count": 43,
   "id": "c1284d90",
   "metadata": {
    "scrolled": true
   },
   "outputs": [
    {
     "name": "stdout",
     "output_type": "stream",
     "text": [
      "Help on class filter in module builtins:\n",
      "\n",
      "class filter(object)\n",
      " |  filter(function or None, iterable) --> filter object\n",
      " |  \n",
      " |  Return an iterator yielding those items of iterable for which function(item)\n",
      " |  is true. If function is None, return the items that are true.\n",
      " |  \n",
      " |  Methods defined here:\n",
      " |  \n",
      " |  __getattribute__(self, name, /)\n",
      " |      Return getattr(self, name).\n",
      " |  \n",
      " |  __iter__(self, /)\n",
      " |      Implement iter(self).\n",
      " |  \n",
      " |  __next__(self, /)\n",
      " |      Implement next(self).\n",
      " |  \n",
      " |  __reduce__(...)\n",
      " |      Return state information for pickling.\n",
      " |  \n",
      " |  ----------------------------------------------------------------------\n",
      " |  Static methods defined here:\n",
      " |  \n",
      " |  __new__(*args, **kwargs) from builtins.type\n",
      " |      Create and return a new object.  See help(type) for accurate signature.\n",
      "\n"
     ]
    }
   ],
   "source": [
    "help(filter)"
   ]
  },
  {
   "cell_type": "code",
   "execution_count": 45,
   "id": "48cab012",
   "metadata": {},
   "outputs": [],
   "source": [
    "n = [1,None,True,False,'s']"
   ]
  },
  {
   "cell_type": "code",
   "execution_count": 46,
   "id": "5cd5c8e4",
   "metadata": {},
   "outputs": [
    {
     "data": {
      "text/plain": [
       "[1, True, 's']"
      ]
     },
     "execution_count": 46,
     "metadata": {},
     "output_type": "execute_result"
    }
   ],
   "source": [
    "list(filter(None,n))"
   ]
  },
  {
   "cell_type": "code",
   "execution_count": 47,
   "id": "30d49d5f",
   "metadata": {
    "collapsed": true
   },
   "outputs": [
    {
     "name": "stdout",
     "output_type": "stream",
     "text": [
      "Help on class map in module builtins:\n",
      "\n",
      "class map(object)\n",
      " |  map(func, *iterables) --> map object\n",
      " |  \n",
      " |  Make an iterator that computes the function using arguments from\n",
      " |  each of the iterables.  Stops when the shortest iterable is exhausted.\n",
      " |  \n",
      " |  Methods defined here:\n",
      " |  \n",
      " |  __getattribute__(self, name, /)\n",
      " |      Return getattr(self, name).\n",
      " |  \n",
      " |  __iter__(self, /)\n",
      " |      Implement iter(self).\n",
      " |  \n",
      " |  __next__(self, /)\n",
      " |      Implement next(self).\n",
      " |  \n",
      " |  __reduce__(...)\n",
      " |      Return state information for pickling.\n",
      " |  \n",
      " |  ----------------------------------------------------------------------\n",
      " |  Static methods defined here:\n",
      " |  \n",
      " |  __new__(*args, **kwargs) from builtins.type\n",
      " |      Create and return a new object.  See help(type) for accurate signature.\n",
      "\n"
     ]
    }
   ],
   "source": [
    "help(map)"
   ]
  },
  {
   "cell_type": "code",
   "execution_count": 72,
   "id": "704c37cf",
   "metadata": {
    "scrolled": false
   },
   "outputs": [
    {
     "data": {
      "text/plain": [
       "False"
      ]
     },
     "execution_count": 72,
     "metadata": {},
     "output_type": "execute_result"
    }
   ],
   "source": [
    "a = filter(lambda x: x != None ,n)"
   ]
  },
  {
   "cell_type": "code",
   "execution_count": 53,
   "id": "626fa6db",
   "metadata": {
    "scrolled": true
   },
   "outputs": [
    {
     "ename": "TypeError",
     "evalue": "filter expected 2 arguments, got 3",
     "output_type": "error",
     "traceback": [
      "\u001b[1;31m---------------------------------------------------------------------------\u001b[0m",
      "\u001b[1;31mTypeError\u001b[0m                                 Traceback (most recent call last)",
      "Cell \u001b[1;32mIn[53], line 3\u001b[0m\n\u001b[0;32m      1\u001b[0m x \u001b[38;5;241m=\u001b[39m [\u001b[38;5;241m0\u001b[39m,\u001b[38;5;241m1\u001b[39m,\u001b[38;5;241m2\u001b[39m,\u001b[38;5;241m-\u001b[39m\u001b[38;5;241m5\u001b[39m,\u001b[38;5;241m2\u001b[39m,\u001b[38;5;241m-\u001b[39m\u001b[38;5;241m1000\u001b[39m,\u001b[38;5;241m3\u001b[39m,\u001b[38;5;241m-\u001b[39m\u001b[38;5;241m1\u001b[39m,\u001b[38;5;241m1\u001b[39m]\n\u001b[0;32m      2\u001b[0m y \u001b[38;5;241m=\u001b[39m [\u001b[38;5;241m10\u001b[39m,\u001b[38;5;241m2\u001b[39m,\u001b[38;5;241m0\u001b[39m,\u001b[38;5;241m3\u001b[39m,\u001b[38;5;241m0\u001b[39m,\u001b[38;5;241m100\u001b[39m,\u001b[38;5;241m500\u001b[39m]\n\u001b[1;32m----> 3\u001b[0m \u001b[38;5;28mlist\u001b[39m(\u001b[38;5;28;43mfilter\u001b[39;49m\u001b[43m(\u001b[49m\u001b[38;5;28;43;01mlambda\u001b[39;49;00m\u001b[43m \u001b[49m\u001b[43mx\u001b[49m\u001b[43m,\u001b[49m\u001b[43my\u001b[49m\u001b[43m \u001b[49m\u001b[43m:\u001b[49m\u001b[43m \u001b[49m\u001b[43mx\u001b[49m\u001b[38;5;241;43m+\u001b[39;49m\u001b[43my\u001b[49m\u001b[43m \u001b[49m\u001b[38;5;241;43m<\u001b[39;49m\u001b[38;5;241;43m=\u001b[39;49m\u001b[43m \u001b[49m\u001b[38;5;241;43m100\u001b[39;49m\u001b[43m,\u001b[49m\u001b[43mx\u001b[49m\u001b[43m,\u001b[49m\u001b[43my\u001b[49m\u001b[43m)\u001b[49m)\n",
      "\u001b[1;31mTypeError\u001b[0m: filter expected 2 arguments, got 3"
     ]
    }
   ],
   "source": [
    "x = [0,1,2,-5,2,-1000,3,-1,1]\n",
    "y = [10,2,0,3,0,100,500]\n",
    "list(filter(lambda x,y : x+y <= 100,x,y))"
   ]
  },
  {
   "cell_type": "code",
   "execution_count": 54,
   "id": "fa31b0ce",
   "metadata": {},
   "outputs": [],
   "source": [
    "from functools import*"
   ]
  },
  {
   "cell_type": "code",
   "execution_count": 61,
   "id": "f8c78ebc",
   "metadata": {},
   "outputs": [
    {
     "data": {
      "text/plain": [
       "6"
      ]
     },
     "execution_count": 61,
     "metadata": {},
     "output_type": "execute_result"
    }
   ],
   "source": [
    "l = [1,2,3]\n",
    "reduce(lambda x,y:x+y,l)"
   ]
  },
  {
   "cell_type": "code",
   "execution_count": 63,
   "id": "3d1fc7d1",
   "metadata": {},
   "outputs": [],
   "source": [
    "l=[(2,'z'),(1,'x'),(100,'c')]"
   ]
  },
  {
   "cell_type": "code",
   "execution_count": 64,
   "id": "b028770e",
   "metadata": {},
   "outputs": [],
   "source": [
    "l.sort(key=lambda x : x[1])"
   ]
  },
  {
   "cell_type": "code",
   "execution_count": 73,
   "id": "6514ed6b",
   "metadata": {},
   "outputs": [
    {
     "ename": "SyntaxError",
     "evalue": "cannot assign to lambda (615083555.py, line 1)",
     "output_type": "error",
     "traceback": [
      "\u001b[1;36m  Cell \u001b[1;32mIn[73], line 1\u001b[1;36m\u001b[0m\n\u001b[1;33m    a = lambda x : y=x\u001b[0m\n\u001b[1;37m        ^\u001b[0m\n\u001b[1;31mSyntaxError\u001b[0m\u001b[1;31m:\u001b[0m cannot assign to lambda\n"
     ]
    }
   ],
   "source": []
  }
 ],
 "metadata": {
  "kernelspec": {
   "display_name": "Python 3 (ipykernel)",
   "language": "python",
   "name": "python3"
  },
  "language_info": {
   "codemirror_mode": {
    "name": "ipython",
    "version": 3
   },
   "file_extension": ".py",
   "mimetype": "text/x-python",
   "name": "python",
   "nbconvert_exporter": "python",
   "pygments_lexer": "ipython3",
   "version": "3.11.0"
  }
 },
 "nbformat": 4,
 "nbformat_minor": 5
}
