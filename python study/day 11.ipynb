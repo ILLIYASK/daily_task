{
 "cells": [
  {
   "cell_type": "code",
   "execution_count": 1,
   "id": "538e8a12",
   "metadata": {},
   "outputs": [],
   "source": [
    "def generator(n):\n",
    "    while i < n:\n",
    "        yield i\n",
    "        i += 1\n",
    "    \n",
    "    "
   ]
  },
  {
   "cell_type": "code",
   "execution_count": 2,
   "id": "48324b6b",
   "metadata": {},
   "outputs": [],
   "source": [
    "gen = generator(10)"
   ]
  },
  {
   "cell_type": "code",
   "execution_count": 3,
   "id": "dcdda272",
   "metadata": {},
   "outputs": [
    {
     "ename": "TypeError",
     "evalue": "'generator' object is not subscriptable",
     "output_type": "error",
     "traceback": [
      "\u001b[1;31m---------------------------------------------------------------------------\u001b[0m",
      "\u001b[1;31mTypeError\u001b[0m                                 Traceback (most recent call last)",
      "Cell \u001b[1;32mIn[3], line 1\u001b[0m\n\u001b[1;32m----> 1\u001b[0m \u001b[38;5;28;01mfor\u001b[39;00m i \u001b[38;5;129;01min\u001b[39;00m \u001b[43mgen\u001b[49m\u001b[43m[\u001b[49m\u001b[38;5;241;43m5\u001b[39;49m\u001b[43m]\u001b[49m:\n\u001b[0;32m      2\u001b[0m     \u001b[38;5;28mprint\u001b[39m(i)\n",
      "\u001b[1;31mTypeError\u001b[0m: 'generator' object is not subscriptable"
     ]
    }
   ],
   "source": [
    "for i in gen:\n",
    "    print(i)"
   ]
  },
  {
   "cell_type": "code",
   "execution_count": 4,
   "id": "7f48397c",
   "metadata": {},
   "outputs": [],
   "source": [
    "generator = (x * 2 for x in range(5))\n"
   ]
  },
  {
   "cell_type": "code",
   "execution_count": 5,
   "id": "e5d6c87a",
   "metadata": {},
   "outputs": [
    {
     "name": "stdout",
     "output_type": "stream",
     "text": [
      "0\n",
      "2\n",
      "4\n",
      "6\n",
      "8\n"
     ]
    }
   ],
   "source": [
    "for i in generator.__iter__():\n",
    "    print(i)"
   ]
  },
  {
   "cell_type": "code",
   "execution_count": 6,
   "id": "05501c87",
   "metadata": {},
   "outputs": [
    {
     "ename": "StopIteration",
     "evalue": "",
     "output_type": "error",
     "traceback": [
      "\u001b[1;31m---------------------------------------------------------------------------\u001b[0m",
      "\u001b[1;31mStopIteration\u001b[0m                             Traceback (most recent call last)",
      "Cell \u001b[1;32mIn[6], line 1\u001b[0m\n\u001b[1;32m----> 1\u001b[0m \u001b[43mgenerator\u001b[49m\u001b[38;5;241;43m.\u001b[39;49m\u001b[38;5;21;43m__next__\u001b[39;49m\u001b[43m(\u001b[49m\u001b[43m)\u001b[49m\n",
      "\u001b[1;31mStopIteration\u001b[0m: "
     ]
    }
   ],
   "source": [
    "generator.__next__()"
   ]
  },
  {
   "cell_type": "code",
   "execution_count": 14,
   "id": "aad0e473",
   "metadata": {},
   "outputs": [],
   "source": [
    "l = 1"
   ]
  },
  {
   "cell_type": "code",
   "execution_count": 18,
   "id": "f91b3459",
   "metadata": {},
   "outputs": [
    {
     "ename": "TypeError",
     "evalue": "'int' object is not iterable",
     "output_type": "error",
     "traceback": [
      "\u001b[1;31m---------------------------------------------------------------------------\u001b[0m",
      "\u001b[1;31mTypeError\u001b[0m                                 Traceback (most recent call last)",
      "Cell \u001b[1;32mIn[18], line 1\u001b[0m\n\u001b[1;32m----> 1\u001b[0m itr \u001b[38;5;241m=\u001b[39m \u001b[38;5;28;43miter\u001b[39;49m\u001b[43m(\u001b[49m\u001b[43mi\u001b[49m\u001b[43m)\u001b[49m\n\u001b[0;32m      2\u001b[0m \u001b[38;5;28;01mwhile\u001b[39;00m \u001b[38;5;28;01mTrue\u001b[39;00m:\n\u001b[0;32m      3\u001b[0m     \u001b[38;5;28;01mtry\u001b[39;00m :\n",
      "\u001b[1;31mTypeError\u001b[0m: 'int' object is not iterable"
     ]
    }
   ],
   "source": [
    "itr = iter(i)\n",
    "while True:\n",
    "    try :\n",
    "        i = itr.__next__()\n",
    "        print(i,\" \",i**2)\n",
    "    except StopIteration:\n",
    "        break\n",
    "        "
   ]
  },
  {
   "cell_type": "code",
   "execution_count": 15,
   "id": "8d0fbbba",
   "metadata": {
    "scrolled": true
   },
   "outputs": [
    {
     "ename": "TypeError",
     "evalue": "'int' object is not iterable",
     "output_type": "error",
     "traceback": [
      "\u001b[1;31m---------------------------------------------------------------------------\u001b[0m",
      "\u001b[1;31mTypeError\u001b[0m                                 Traceback (most recent call last)",
      "Cell \u001b[1;32mIn[15], line 1\u001b[0m\n\u001b[1;32m----> 1\u001b[0m \u001b[38;5;28;01mfor\u001b[39;00m i \u001b[38;5;129;01min\u001b[39;00m l:\n\u001b[0;32m      2\u001b[0m     \u001b[38;5;28mprint\u001b[39m(i)\n",
      "\u001b[1;31mTypeError\u001b[0m: 'int' object is not iterable"
     ]
    }
   ],
   "source": [
    "for i in l:\n",
    "    print(i)"
   ]
  },
  {
   "cell_type": "code",
   "execution_count": 31,
   "id": "22e55b3d",
   "metadata": {},
   "outputs": [
    {
     "data": {
      "text/plain": [
       "100"
      ]
     },
     "execution_count": 31,
     "metadata": {},
     "output_type": "execute_result"
    }
   ],
   "source": [
    "def outer(func):\n",
    "    def inner(x,y):\n",
    "        re = func(x,y)\n",
    "        return re**2\n",
    "    return inner\n",
    "@outer\n",
    "def add(a,b):\n",
    "    return a+b\n",
    "add(5,5)\n"
   ]
  },
  {
   "cell_type": "code",
   "execution_count": 27,
   "id": "5d896e43",
   "metadata": {},
   "outputs": [
    {
     "data": {
      "text/plain": [
       "225"
      ]
     },
     "execution_count": 27,
     "metadata": {},
     "output_type": "execute_result"
    }
   ],
   "source": [
    "v(add,10,5)"
   ]
  },
  {
   "cell_type": "code",
   "execution_count": null,
   "id": "c6f784e0",
   "metadata": {},
   "outputs": [],
   "source": [
    "def wrapper(func,*args, **kwarg):\n",
    "    result = func(*args, **kwargs)\n",
    "    return result\n",
    "\n",
    "def my_function():\n",
    "    pass\n",
    "v = wrapper\n",
    "v(my_function,1,2,3)"
   ]
  },
  {
   "cell_type": "code",
   "execution_count": 114,
   "id": "555f1756",
   "metadata": {},
   "outputs": [],
   "source": [
    "def classdec(cls):\n",
    "    cls.new_attribute = 10\n",
    "#     return cls"
   ]
  },
  {
   "cell_type": "code",
   "execution_count": 115,
   "id": "0ffe5f7b",
   "metadata": {},
   "outputs": [],
   "source": [
    "@classdec\n",
    "class myclass:\n",
    "    pass\n",
    "# id(myclass)"
   ]
  },
  {
   "cell_type": "code",
   "execution_count": 116,
   "id": "1a02b854",
   "metadata": {},
   "outputs": [
    {
     "ename": "TypeError",
     "evalue": "'NoneType' object is not callable",
     "output_type": "error",
     "traceback": [
      "\u001b[1;31m---------------------------------------------------------------------------\u001b[0m",
      "\u001b[1;31mTypeError\u001b[0m                                 Traceback (most recent call last)",
      "Cell \u001b[1;32mIn[116], line 1\u001b[0m\n\u001b[1;32m----> 1\u001b[0m obj \u001b[38;5;241m=\u001b[39m \u001b[43mmyclass\u001b[49m\u001b[43m(\u001b[49m\u001b[43m)\u001b[49m\n",
      "\u001b[1;31mTypeError\u001b[0m: 'NoneType' object is not callable"
     ]
    }
   ],
   "source": [
    "obj = myclass()"
   ]
  },
  {
   "cell_type": "code",
   "execution_count": 113,
   "id": "dae04700",
   "metadata": {},
   "outputs": [
    {
     "data": {
      "text/plain": [
       "10"
      ]
     },
     "execution_count": 113,
     "metadata": {},
     "output_type": "execute_result"
    }
   ],
   "source": [
    "obj.new_attribute"
   ]
  },
  {
   "cell_type": "code",
   "execution_count": 109,
   "id": "c454c753",
   "metadata": {
    "scrolled": true
   },
   "outputs": [
    {
     "name": "stdout",
     "output_type": "stream",
     "text": [
      "2301452545552\n"
     ]
    }
   ],
   "source": [
    "class dec:\n",
    "    def __init__(self,cls):\n",
    "        print(id(cls))\n",
    "#         self.cls = cls\n",
    "        \n",
    "    def __call__(self):\n",
    "        obj = self.cls()\n",
    "        print(id(obj))\n",
    "        obj.new = \"hello\"\n",
    "        return obj\n",
    "    \n",
    "@dec   \n",
    "class myclass:\n",
    "    pass"
   ]
  },
  {
   "cell_type": "code",
   "execution_count": null,
   "id": "e55ba606",
   "metadata": {},
   "outputs": [],
   "source": []
  },
  {
   "cell_type": "code",
   "execution_count": 60,
   "id": "7bb01c8c",
   "metadata": {
    "scrolled": false
   },
   "outputs": [
    {
     "name": "stdout",
     "output_type": "stream",
     "text": [
      "2301472092432\n"
     ]
    }
   ],
   "source": [
    "obj = myclass()"
   ]
  },
  {
   "cell_type": "code",
   "execution_count": 50,
   "id": "0e25f488",
   "metadata": {
    "scrolled": true
   },
   "outputs": [
    {
     "data": {
      "text/plain": [
       "'hello'"
      ]
     },
     "execution_count": 50,
     "metadata": {},
     "output_type": "execute_result"
    }
   ],
   "source": [
    "obj.new"
   ]
  },
  {
   "cell_type": "code",
   "execution_count": 55,
   "id": "659de53b",
   "metadata": {
    "scrolled": true
   },
   "outputs": [
    {
     "data": {
      "text/plain": [
       "__main__.myclass"
      ]
     },
     "execution_count": 55,
     "metadata": {},
     "output_type": "execute_result"
    }
   ],
   "source": [
    "type(obj)"
   ]
  },
  {
   "cell_type": "code",
   "execution_count": 58,
   "id": "d138f625",
   "metadata": {},
   "outputs": [
    {
     "name": "stdout",
     "output_type": "stream",
     "text": [
      "<class 'type'>\n"
     ]
    }
   ],
   "source": [
    "class hello:\n",
    "    pass\n",
    "o = hello()\n",
    "print(type(hello))"
   ]
  },
  {
   "cell_type": "code",
   "execution_count": 61,
   "id": "76a7e3c1",
   "metadata": {
    "scrolled": true
   },
   "outputs": [
    {
     "ename": "TypeError",
     "evalue": "cannot set 'a' attribute of immutable type 'int'",
     "output_type": "error",
     "traceback": [
      "\u001b[1;31m---------------------------------------------------------------------------\u001b[0m",
      "\u001b[1;31mTypeError\u001b[0m                                 Traceback (most recent call last)",
      "Cell \u001b[1;32mIn[61], line 1\u001b[0m\n\u001b[1;32m----> 1\u001b[0m \u001b[38;5;28;43mint\u001b[39;49m\u001b[38;5;241;43m.\u001b[39;49m\u001b[43ma\u001b[49m \u001b[38;5;241m=\u001b[39m \u001b[38;5;241m10\u001b[39m\n",
      "\u001b[1;31mTypeError\u001b[0m: cannot set 'a' attribute of immutable type 'int'"
     ]
    }
   ],
   "source": [
    "int.a = 10"
   ]
  },
  {
   "cell_type": "code",
   "execution_count": 96,
   "id": "8602b08b",
   "metadata": {
    "scrolled": false
   },
   "outputs": [
    {
     "ename": "AttributeError",
     "evalue": "'NoneType' object has no attribute 'new_attribute'",
     "output_type": "error",
     "traceback": [
      "\u001b[1;31m---------------------------------------------------------------------------\u001b[0m",
      "\u001b[1;31mAttributeError\u001b[0m                            Traceback (most recent call last)",
      "Cell \u001b[1;32mIn[96], line 9\u001b[0m\n\u001b[0;32m      5\u001b[0m \u001b[38;5;129m@add_attribute_decorator\u001b[39m\n\u001b[0;32m      6\u001b[0m \u001b[38;5;28;01mclass\u001b[39;00m \u001b[38;5;21;01mMyClass\u001b[39;00m:\n\u001b[0;32m      7\u001b[0m     \u001b[38;5;28;01mpass\u001b[39;00m\n\u001b[1;32m----> 9\u001b[0m \u001b[38;5;28mprint\u001b[39m(\u001b[43mMyClass\u001b[49m\u001b[38;5;241;43m.\u001b[39;49m\u001b[43mnew_attribute\u001b[49m)\n",
      "\u001b[1;31mAttributeError\u001b[0m: 'NoneType' object has no attribute 'new_attribute'"
     ]
    }
   ],
   "source": [
    "def add_attribute_decorator(cls):\n",
    "    cls.new_attribute = \"New Attribute\"\n",
    "#     return cls\n",
    "\n",
    "@add_attribute_decorator\n",
    "class MyClass:\n",
    "    pass\n",
    "\n",
    "print(MyClass.new_attribute)\n"
   ]
  },
  {
   "cell_type": "code",
   "execution_count": 103,
   "id": "6a5a6264",
   "metadata": {},
   "outputs": [],
   "source": [
    "def add(x):\n",
    "    x.new = \"new\"\n",
    "#     return x\n"
   ]
  },
  {
   "cell_type": "code",
   "execution_count": 65,
   "id": "c1c72126",
   "metadata": {},
   "outputs": [],
   "source": [
    "l = [1,2,3]"
   ]
  },
  {
   "cell_type": "code",
   "execution_count": 77,
   "id": "d6fed168",
   "metadata": {
    "scrolled": true
   },
   "outputs": [
    {
     "name": "stdout",
     "output_type": "stream",
     "text": [
      "None\n"
     ]
    }
   ],
   "source": [
    "print(add(l))"
   ]
  },
  {
   "cell_type": "code",
   "execution_count": 78,
   "id": "f45d279f",
   "metadata": {},
   "outputs": [
    {
     "data": {
      "text/plain": [
       "[1, 2, 3, 1, 1, 1, 1, 1, 1, 1, 1, 1]"
      ]
     },
     "execution_count": 78,
     "metadata": {},
     "output_type": "execute_result"
    }
   ],
   "source": [
    "l"
   ]
  },
  {
   "cell_type": "code",
   "execution_count": 98,
   "id": "0a81bb4d",
   "metadata": {},
   "outputs": [],
   "source": [
    "class sample:\n",
    "    pass"
   ]
  },
  {
   "cell_type": "code",
   "execution_count": 119,
   "id": "dadba7b9",
   "metadata": {},
   "outputs": [
    {
     "ename": "TypeError",
     "evalue": "sample() takes no arguments",
     "output_type": "error",
     "traceback": [
      "\u001b[1;31m---------------------------------------------------------------------------\u001b[0m",
      "\u001b[1;31mTypeError\u001b[0m                                 Traceback (most recent call last)",
      "Cell \u001b[1;32mIn[119], line 1\u001b[0m\n\u001b[1;32m----> 1\u001b[0m \u001b[43msample\u001b[49m\u001b[43m(\u001b[49m\u001b[38;5;241;43m1\u001b[39;49m\u001b[43m)\u001b[49m\n",
      "\u001b[1;31mTypeError\u001b[0m: sample() takes no arguments"
     ]
    }
   ],
   "source": [
    "sample(1)"
   ]
  },
  {
   "cell_type": "code",
   "execution_count": 104,
   "id": "e030bcad",
   "metadata": {},
   "outputs": [],
   "source": [
    "a=add(sample)"
   ]
  },
  {
   "cell_type": "code",
   "execution_count": 117,
   "id": "a180605c",
   "metadata": {
    "scrolled": true
   },
   "outputs": [
    {
     "ename": "TypeError",
     "evalue": "'NoneType' object is not callable",
     "output_type": "error",
     "traceback": [
      "\u001b[1;31m---------------------------------------------------------------------------\u001b[0m",
      "\u001b[1;31mTypeError\u001b[0m                                 Traceback (most recent call last)",
      "Cell \u001b[1;32mIn[117], line 1\u001b[0m\n\u001b[1;32m----> 1\u001b[0m B \u001b[38;5;241m=\u001b[39m\u001b[43ma\u001b[49m\u001b[43m(\u001b[49m\u001b[43m)\u001b[49m\n",
      "\u001b[1;31mTypeError\u001b[0m: 'NoneType' object is not callable"
     ]
    }
   ],
   "source": [
    "B =a()"
   ]
  },
  {
   "cell_type": "code",
   "execution_count": 105,
   "id": "a5c881ee",
   "metadata": {
    "scrolled": false
   },
   "outputs": [
    {
     "name": "stdout",
     "output_type": "stream",
     "text": [
      "None\n"
     ]
    }
   ],
   "source": [
    "print(a)"
   ]
  },
  {
   "cell_type": "code",
   "execution_count": 120,
   "id": "9e17e8ac",
   "metadata": {},
   "outputs": [],
   "source": [
    "class DecoratorClass:\n",
    "    def __init__(self, cls):\n",
    "        self.cls = cls\n",
    "\n",
    "    def __call__(self):\n",
    "        # Modify the class or its behavior here\n",
    "        modified_cls = self.cls\n",
    "        # Return the modified class\n",
    "        return modified_cls\n",
    "\n",
    "\n",
    "class MyClass:\n",
    "    pass\n",
    "\n",
    "MyClass = DecoratorClass(MyClass)\n",
    "# Create an instance of the modified class\n",
    "# obj = MyClass()\n",
    "\n",
    "# Use the modified class\n"
   ]
  },
  {
   "cell_type": "code",
   "execution_count": 121,
   "id": "ec443f9c",
   "metadata": {},
   "outputs": [
    {
     "data": {
      "text/plain": [
       "<__main__.DecoratorClass at 0x217db5de090>"
      ]
     },
     "execution_count": 121,
     "metadata": {},
     "output_type": "execute_result"
    }
   ],
   "source": [
    "MyClass"
   ]
  },
  {
   "cell_type": "code",
   "execution_count": 123,
   "id": "aa0f6e05",
   "metadata": {
    "scrolled": true
   },
   "outputs": [
    {
     "data": {
      "text/plain": [
       "type"
      ]
     },
     "execution_count": 123,
     "metadata": {},
     "output_type": "execute_result"
    }
   ],
   "source": [
    "MyClass()"
   ]
  },
  {
   "cell_type": "code",
   "execution_count": 127,
   "id": "37544bbe",
   "metadata": {},
   "outputs": [],
   "source": [
    "class sample:\n",
    "    def __call__(self):\n",
    "        pass\n"
   ]
  },
  {
   "cell_type": "code",
   "execution_count": 128,
   "id": "d13a2e30",
   "metadata": {},
   "outputs": [],
   "source": [
    "a = sample()"
   ]
  },
  {
   "cell_type": "code",
   "execution_count": 129,
   "id": "d9e56445",
   "metadata": {},
   "outputs": [],
   "source": [
    "a()"
   ]
  },
  {
   "cell_type": "code",
   "execution_count": 142,
   "id": "99131e58",
   "metadata": {},
   "outputs": [],
   "source": [
    "class classdec:\n",
    "    def __init__(self,cls):\n",
    "        self.cls = cls\n",
    "        \n",
    "    def __call__(self):\n",
    "        class new(self.cls):\n",
    "            def custom_med(self):\n",
    "                print(\"suceessful\")\n",
    "        return new()\n",
    "@classdec\n",
    "class myclass:\n",
    "    pass\n",
    "                \n"
   ]
  },
  {
   "cell_type": "code",
   "execution_count": 143,
   "id": "469d4bcf",
   "metadata": {},
   "outputs": [],
   "source": [
    "o = myclass()"
   ]
  },
  {
   "cell_type": "code",
   "execution_count": 146,
   "id": "ef3bf32e",
   "metadata": {},
   "outputs": [],
   "source": [
    "n =o()"
   ]
  },
  {
   "cell_type": "code",
   "execution_count": 147,
   "id": "7ffd6eaf",
   "metadata": {},
   "outputs": [
    {
     "name": "stdout",
     "output_type": "stream",
     "text": [
      "suceessful\n"
     ]
    }
   ],
   "source": [
    "n.custom_med()"
   ]
  }
 ],
 "metadata": {
  "kernelspec": {
   "display_name": "Python 3 (ipykernel)",
   "language": "python",
   "name": "python3"
  },
  "language_info": {
   "codemirror_mode": {
    "name": "ipython",
    "version": 3
   },
   "file_extension": ".py",
   "mimetype": "text/x-python",
   "name": "python",
   "nbconvert_exporter": "python",
   "pygments_lexer": "ipython3",
   "version": "3.11.0"
  }
 },
 "nbformat": 4,
 "nbformat_minor": 5
}
