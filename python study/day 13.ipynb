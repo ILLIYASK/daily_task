{
 "cells": [
  {
   "cell_type": "code",
   "execution_count": 4,
   "id": "a56700b9",
   "metadata": {},
   "outputs": [],
   "source": [
    "class sample:\n",
    "    @classmethod\n",
    "    def add(cls,a,b):\n",
    "        return a+b\n",
    "    def another(self):\n",
    "        self.add(10,20)\n",
    "o = sample()"
   ]
  },
  {
   "cell_type": "code",
   "execution_count": 5,
   "id": "e1eb8e64",
   "metadata": {},
   "outputs": [],
   "source": [
    "class sec(sample):\n",
    "    pass\n",
    "o2 = sec()"
   ]
  },
  {
   "cell_type": "code",
   "execution_count": null,
   "id": "9a5af9ac",
   "metadata": {},
   "outputs": [],
   "source": []
  },
  {
   "cell_type": "code",
   "execution_count": 2,
   "id": "6e967595",
   "metadata": {},
   "outputs": [
    {
     "data": {
      "text/plain": [
       "30"
      ]
     },
     "execution_count": 2,
     "metadata": {},
     "output_type": "execute_result"
    }
   ],
   "source": [
    "o.add(10,20)"
   ]
  },
  {
   "cell_type": "code",
   "execution_count": 3,
   "id": "5fcb722c",
   "metadata": {
    "scrolled": true
   },
   "outputs": [
    {
     "data": {
      "text/plain": [
       "40"
      ]
     },
     "execution_count": 3,
     "metadata": {},
     "output_type": "execute_result"
    }
   ],
   "source": [
    "sample.add(10,30)"
   ]
  },
  {
   "cell_type": "code",
   "execution_count": 8,
   "id": "d1615f05",
   "metadata": {},
   "outputs": [],
   "source": [
    "class static:\n",
    "    @staticmethod \n",
    "    def st():\n",
    "        print(\"hi\")"
   ]
  },
  {
   "cell_type": "code",
   "execution_count": 9,
   "id": "044096e6",
   "metadata": {},
   "outputs": [],
   "source": [
    "o = static()"
   ]
  },
  {
   "cell_type": "code",
   "execution_count": 10,
   "id": "9ded28d7",
   "metadata": {
    "scrolled": true
   },
   "outputs": [
    {
     "name": "stdout",
     "output_type": "stream",
     "text": [
      "hi\n"
     ]
    }
   ],
   "source": [
    "o.st()"
   ]
  },
  {
   "cell_type": "code",
   "execution_count": 11,
   "id": "4e054460",
   "metadata": {},
   "outputs": [
    {
     "name": "stdout",
     "output_type": "stream",
     "text": [
      "hi\n"
     ]
    }
   ],
   "source": [
    "static.st()"
   ]
  },
  {
   "cell_type": "code",
   "execution_count": 25,
   "id": "f91f2f77",
   "metadata": {},
   "outputs": [],
   "source": [
    "class custom(Exception):\n",
    "    def __init__(self,message='bad'):\n",
    "        self.message = message\n",
    "    def __str__(self):\n",
    "        return f\"custom exception : {str(self.message)}\""
   ]
  },
  {
   "cell_type": "code",
   "execution_count": 33,
   "id": "827577a8",
   "metadata": {},
   "outputs": [
    {
     "name": "stdout",
     "output_type": "stream",
     "text": [
      "custom exception : hi\n"
     ]
    }
   ],
   "source": [
    "try:\n",
    "    a =10\n",
    "    if a == 10:\n",
    "\n",
    "        raise custom(\"hi\")\n",
    "except custom as a:\n",
    "    print(custom.__str__(a))"
   ]
  }
 ],
 "metadata": {
  "kernelspec": {
   "display_name": "Python 3 (ipykernel)",
   "language": "python",
   "name": "python3"
  },
  "language_info": {
   "codemirror_mode": {
    "name": "ipython",
    "version": 3
   },
   "file_extension": ".py",
   "mimetype": "text/x-python",
   "name": "python",
   "nbconvert_exporter": "python",
   "pygments_lexer": "ipython3",
   "version": "3.11.0"
  }
 },
 "nbformat": 4,
 "nbformat_minor": 5
}
