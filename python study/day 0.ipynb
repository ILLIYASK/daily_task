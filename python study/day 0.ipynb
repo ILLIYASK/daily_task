{
 "cells": [
  {
   "cell_type": "markdown",
   "id": "76f60254",
   "metadata": {},
   "source": [
    "### Section 1.2: Creating variables and assigning values"
   ]
  },
  {
   "cell_type": "markdown",
   "id": "f3128fce",
   "metadata": {},
   "source": [
    "<variable name> = <value>\n"
   ]
  },
  {
   "cell_type": "code",
   "execution_count": 4,
   "id": "096a7e13",
   "metadata": {},
   "outputs": [],
   "source": [
    "age=23\n",
    "name=\"illiyas\"\n",
    "single=True\n",
    "car=None\n"
   ]
  },
  {
   "cell_type": "code",
   "execution_count": 5,
   "id": "d458848c",
   "metadata": {
    "scrolled": true
   },
   "outputs": [
    {
     "data": {
      "text/plain": [
       "int"
      ]
     },
     "execution_count": 5,
     "metadata": {},
     "output_type": "execute_result"
    }
   ],
   "source": [
    "type(age)"
   ]
  },
  {
   "cell_type": "code",
   "execution_count": 6,
   "id": "8e6dd18c",
   "metadata": {},
   "outputs": [
    {
     "data": {
      "text/plain": [
       "str"
      ]
     },
     "execution_count": 6,
     "metadata": {},
     "output_type": "execute_result"
    }
   ],
   "source": [
    "type(name)"
   ]
  },
  {
   "cell_type": "code",
   "execution_count": 7,
   "id": "e6e08681",
   "metadata": {},
   "outputs": [
    {
     "data": {
      "text/plain": [
       "bool"
      ]
     },
     "execution_count": 7,
     "metadata": {},
     "output_type": "execute_result"
    }
   ],
   "source": [
    "type(single)"
   ]
  },
  {
   "cell_type": "code",
   "execution_count": 21,
   "id": "fc8192df",
   "metadata": {},
   "outputs": [
    {
     "name": "stdout",
     "output_type": "stream",
     "text": [
      "<class 'NoneType'>\n"
     ]
    }
   ],
   "source": [
    "print(type(car))"
   ]
  },
  {
   "cell_type": "code",
   "execution_count": null,
   "id": "aa9dd05b",
   "metadata": {},
   "outputs": [],
   "source": []
  },
  {
   "cell_type": "code",
   "execution_count": 15,
   "id": "b56a16c3",
   "metadata": {},
   "outputs": [
    {
     "name": "stdout",
     "output_type": "stream",
     "text": [
      "['False', 'None', 'True', 'and', 'as', 'assert', 'async', 'await', 'break', 'class', 'continue', 'def', 'del', 'elif', 'else', 'except', 'finally', 'for', 'from', 'global', 'if', 'import', 'in', 'is', 'lambda', 'nonlocal', 'not', 'or', 'pass', 'raise', 'return', 'try', 'while', 'with', 'yield']\n"
     ]
    }
   ],
   "source": [
    "import keyword\n",
    "print(keyword.kwlist)"
   ]
  },
  {
   "cell_type": "code",
   "execution_count": 16,
   "id": "cd138beb",
   "metadata": {},
   "outputs": [],
   "source": [
    "a,b,c=1,2,3"
   ]
  },
  {
   "cell_type": "code",
   "execution_count": 18,
   "id": "de7fd9c4",
   "metadata": {
    "scrolled": true
   },
   "outputs": [
    {
     "data": {
      "text/plain": [
       "2"
      ]
     },
     "execution_count": 18,
     "metadata": {},
     "output_type": "execute_result"
    }
   ],
   "source": [
    "a=2\n",
    "a"
   ]
  },
  {
   "cell_type": "code",
   "execution_count": 19,
   "id": "3076a82f",
   "metadata": {},
   "outputs": [],
   "source": [
    "a=b=c=1"
   ]
  },
  {
   "cell_type": "code",
   "execution_count": 20,
   "id": "cc86610e",
   "metadata": {
    "scrolled": true
   },
   "outputs": [
    {
     "data": {
      "text/plain": [
       "1"
      ]
     },
     "execution_count": 20,
     "metadata": {},
     "output_type": "execute_result"
    }
   ],
   "source": [
    "b=2\n",
    "a"
   ]
  },
  {
   "cell_type": "code",
   "execution_count": 23,
   "id": "74c7c35a",
   "metadata": {
    "scrolled": true
   },
   "outputs": [
    {
     "name": "stdout",
     "output_type": "stream",
     "text": [
      "<class 'int'>\n"
     ]
    }
   ],
   "source": [
    "print(type(b))"
   ]
  },
  {
   "cell_type": "code",
   "execution_count": 29,
   "id": "8d518020",
   "metadata": {
    "scrolled": true
   },
   "outputs": [
    {
     "ename": "SyntaxError",
     "evalue": "incomplete input (1973157780.py, line 1)",
     "output_type": "error",
     "traceback": [
      "\u001b[1;36m  Cell \u001b[1;32mIn[29], line 1\u001b[1;36m\u001b[0m\n\u001b[1;33m    print(type(type(b))\u001b[0m\n\u001b[1;37m                       ^\u001b[0m\n\u001b[1;31mSyntaxError\u001b[0m\u001b[1;31m:\u001b[0m incomplete input\n"
     ]
    }
   ],
   "source": [
    "print(type(type(b))"
   ]
  },
  {
   "cell_type": "code",
   "execution_count": 33,
   "id": "6bc5b1eb",
   "metadata": {
    "scrolled": true
   },
   "outputs": [
    {
     "data": {
      "text/plain": [
       "109"
      ]
     },
     "execution_count": 33,
     "metadata": {},
     "output_type": "execute_result"
    }
   ],
   "source": [
    "ord('m')"
   ]
  },
  {
   "cell_type": "code",
   "execution_count": 34,
   "id": "f2d000a5",
   "metadata": {},
   "outputs": [],
   "source": [
    "l=[1,2,3]\n",
    "t=('a',l)"
   ]
  },
  {
   "cell_type": "code",
   "execution_count": 35,
   "id": "050f28bd",
   "metadata": {
    "scrolled": true
   },
   "outputs": [
    {
     "data": {
      "text/plain": [
       "('a', [1, 2, 3])"
      ]
     },
     "execution_count": 35,
     "metadata": {},
     "output_type": "execute_result"
    }
   ],
   "source": [
    "t"
   ]
  },
  {
   "cell_type": "code",
   "execution_count": 36,
   "id": "f2f344ea",
   "metadata": {},
   "outputs": [],
   "source": [
    "l[0]=10"
   ]
  },
  {
   "cell_type": "code",
   "execution_count": 37,
   "id": "67a0dd8e",
   "metadata": {},
   "outputs": [
    {
     "data": {
      "text/plain": [
       "('a', [10, 2, 3])"
      ]
     },
     "execution_count": 37,
     "metadata": {},
     "output_type": "execute_result"
    }
   ],
   "source": [
    "t"
   ]
  },
  {
   "cell_type": "code",
   "execution_count": 38,
   "id": "f0937fd8",
   "metadata": {},
   "outputs": [],
   "source": [
    "d={'a':10,'b':20}"
   ]
  },
  {
   "cell_type": "code",
   "execution_count": 39,
   "id": "c08d8148",
   "metadata": {},
   "outputs": [],
   "source": [
    "t=(l,d)"
   ]
  },
  {
   "cell_type": "code",
   "execution_count": 40,
   "id": "32b030fd",
   "metadata": {
    "scrolled": true
   },
   "outputs": [
    {
     "data": {
      "text/plain": [
       "([10, 2, 3], {'a': 10, 'b': 20})"
      ]
     },
     "execution_count": 40,
     "metadata": {},
     "output_type": "execute_result"
    }
   ],
   "source": [
    "t"
   ]
  },
  {
   "cell_type": "code",
   "execution_count": 41,
   "id": "d6a604fb",
   "metadata": {
    "scrolled": true
   },
   "outputs": [
    {
     "name": "stdout",
     "output_type": "stream",
     "text": [
      "<class 'tuple'>\n"
     ]
    }
   ],
   "source": [
    "print(type(t))"
   ]
  },
  {
   "cell_type": "code",
   "execution_count": 42,
   "id": "a261516f",
   "metadata": {},
   "outputs": [],
   "source": [
    "d['a']=1000"
   ]
  },
  {
   "cell_type": "code",
   "execution_count": 43,
   "id": "16451377",
   "metadata": {},
   "outputs": [
    {
     "data": {
      "text/plain": [
       "([10, 2, 3], {'a': 1000, 'b': 20})"
      ]
     },
     "execution_count": 43,
     "metadata": {},
     "output_type": "execute_result"
    }
   ],
   "source": [
    "t"
   ]
  },
  {
   "cell_type": "code",
   "execution_count": 48,
   "id": "1a29254f",
   "metadata": {
    "scrolled": true
   },
   "outputs": [
    {
     "data": {
      "text/plain": [
       "<reversed at 0x15acd3b3a30>"
      ]
     },
     "execution_count": 48,
     "metadata": {},
     "output_type": "execute_result"
    }
   ],
   "source": [
    "reversed('hello')"
   ]
  },
  {
   "cell_type": "code",
   "execution_count": 49,
   "id": "182daa92",
   "metadata": {
    "scrolled": true
   },
   "outputs": [
    {
     "ename": "SyntaxError",
     "evalue": "cannot assign to expression here. Maybe you meant '==' instead of '='? (4036971147.py, line 1)",
     "output_type": "error",
     "traceback": [
      "\u001b[1;36m  Cell \u001b[1;32mIn[49], line 1\u001b[1;36m\u001b[0m\n\u001b[1;33m    PyObject* obj = Py_BuildValue(\"i\", 42);\u001b[0m\n\u001b[1;37m    ^\u001b[0m\n\u001b[1;31mSyntaxError\u001b[0m\u001b[1;31m:\u001b[0m cannot assign to expression here. Maybe you meant '==' instead of '='?\n"
     ]
    }
   ],
   "source": []
  },
  {
   "cell_type": "code",
   "execution_count": 54,
   "id": "faf47b1a",
   "metadata": {
    "scrolled": true
   },
   "outputs": [
    {
     "data": {
      "text/plain": [
       "-1826646154956904602"
      ]
     },
     "execution_count": 54,
     "metadata": {},
     "output_type": "execute_result"
    }
   ],
   "source": [
    "hash(frozenset([1,2]))"
   ]
  },
  {
   "cell_type": "code",
   "execution_count": 56,
   "id": "7e1da423",
   "metadata": {},
   "outputs": [],
   "source": [
    "f=frozenset([1,1])"
   ]
  },
  {
   "cell_type": "code",
   "execution_count": 57,
   "id": "79835f45",
   "metadata": {},
   "outputs": [],
   "source": [
    "s={1,f}"
   ]
  },
  {
   "cell_type": "code",
   "execution_count": 58,
   "id": "61db629b",
   "metadata": {
    "scrolled": true
   },
   "outputs": [
    {
     "data": {
      "text/plain": [
       "{1, frozenset({1})}"
      ]
     },
     "execution_count": 58,
     "metadata": {},
     "output_type": "execute_result"
    }
   ],
   "source": [
    "s"
   ]
  },
  {
   "cell_type": "code",
   "execution_count": 61,
   "id": "0932f3ca",
   "metadata": {},
   "outputs": [
    {
     "data": {
      "text/plain": [
       "(1, [1, 2, 3, 4])"
      ]
     },
     "execution_count": 61,
     "metadata": {},
     "output_type": "execute_result"
    }
   ],
   "source": [
    "l=[1,2,3,4]\n",
    "t=(1,l)"
   ]
  },
  {
   "cell_type": "code",
   "execution_count": 70,
   "id": "ca9890b5",
   "metadata": {},
   "outputs": [
    {
     "name": "stdout",
     "output_type": "stream",
     "text": [
      "24\n"
     ]
    }
   ],
   "source": [
    "import sys\n",
    "n=0\n",
    "print(sys.getsizeof(n))"
   ]
  },
  {
   "cell_type": "code",
   "execution_count": 82,
   "id": "e9b722a3",
   "metadata": {},
   "outputs": [
    {
     "name": "stdout",
     "output_type": "stream",
     "text": [
      "0x1.91eb851eb851fp+1\n",
      "91eb851eb851fp+1\n",
      "9\n",
      "1\n",
      "e\n",
      "b\n",
      "8\n",
      "5\n",
      "1\n",
      "e\n",
      "b\n",
      "8\n",
      "5\n",
      "1\n",
      "f\n",
      "p\n"
     ]
    },
    {
     "ename": "ValueError",
     "evalue": "invalid literal for int() with base 16: 'p'",
     "output_type": "error",
     "traceback": [
      "\u001b[1;31m---------------------------------------------------------------------------\u001b[0m",
      "\u001b[1;31mValueError\u001b[0m                                Traceback (most recent call last)",
      "Cell \u001b[1;32mIn[82], line 23\u001b[0m\n\u001b[0;32m     21\u001b[0m \u001b[38;5;66;03m# Example usage\u001b[39;00m\n\u001b[0;32m     22\u001b[0m num \u001b[38;5;241m=\u001b[39m \u001b[38;5;241m3.14\u001b[39m\n\u001b[1;32m---> 23\u001b[0m binary \u001b[38;5;241m=\u001b[39m \u001b[43mfloat_to_binary\u001b[49m\u001b[43m(\u001b[49m\u001b[43mnum\u001b[49m\u001b[43m)\u001b[49m\n\u001b[0;32m     24\u001b[0m \u001b[38;5;28mprint\u001b[39m(binary)\n",
      "Cell \u001b[1;32mIn[82], line 14\u001b[0m, in \u001b[0;36mfloat_to_binary\u001b[1;34m(f)\u001b[0m\n\u001b[0;32m     12\u001b[0m \u001b[38;5;28;01mfor\u001b[39;00m hex_digit \u001b[38;5;129;01min\u001b[39;00m fractional_part:\n\u001b[0;32m     13\u001b[0m     \u001b[38;5;28mprint\u001b[39m(hex_digit)\n\u001b[1;32m---> 14\u001b[0m     binary_digit \u001b[38;5;241m=\u001b[39m \u001b[38;5;28mbin\u001b[39m(\u001b[38;5;28;43mint\u001b[39;49m\u001b[43m(\u001b[49m\u001b[43mhex_digit\u001b[49m\u001b[43m,\u001b[49m\u001b[43m \u001b[49m\u001b[38;5;241;43m16\u001b[39;49m\u001b[43m)\u001b[49m)[\u001b[38;5;241m2\u001b[39m:]\u001b[38;5;241m.\u001b[39mzfill(\u001b[38;5;241m4\u001b[39m)\n\u001b[0;32m     15\u001b[0m     binary_fractional \u001b[38;5;241m+\u001b[39m\u001b[38;5;241m=\u001b[39m binary_digit\n\u001b[0;32m     17\u001b[0m \u001b[38;5;66;03m# Combine integer and fractional parts\u001b[39;00m\n",
      "\u001b[1;31mValueError\u001b[0m: invalid literal for int() with base 16: 'p'"
     ]
    }
   ],
   "source": [
    "def float_to_binary(f):\n",
    "    hex_string = f.hex()\n",
    "    print(hex_string)\n",
    "    integer_part, fractional_part = hex_string.split('.')\n",
    "    print(fractional_part)\n",
    "\n",
    "    # Convert integer part to binary\n",
    "    binary_integer = bin(int(integer_part, 16))[2:]\n",
    "\n",
    "    # Convert fractional part to binary\n",
    "    binary_fractional = ''\n",
    "    for hex_digit in fractional_part:\n",
    "        print(hex_digit)\n",
    "        binary_digit = bin(int(hex_digit, 16))[2:].zfill(4)\n",
    "        binary_fractional += binary_digit\n",
    "\n",
    "    # Combine integer and fractional parts\n",
    "    binary_representation = f\"{binary_integer}.{binary_fractional}\"\n",
    "    return binary_representation\n",
    "\n",
    "# Example usage\n",
    "num = 3.14\n",
    "binary = float_to_binary(num)\n",
    "print(binary)\n"
   ]
  }
 ],
 "metadata": {
  "kernelspec": {
   "display_name": "Python 3 (ipykernel)",
   "language": "python",
   "name": "python3"
  },
  "language_info": {
   "codemirror_mode": {
    "name": "ipython",
    "version": 3
   },
   "file_extension": ".py",
   "mimetype": "text/x-python",
   "name": "python",
   "nbconvert_exporter": "python",
   "pygments_lexer": "ipython3",
   "version": "3.11.0"
  }
 },
 "nbformat": 4,
 "nbformat_minor": 5
}
