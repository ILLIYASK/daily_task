{
 "cells": [
  {
   "cell_type": "code",
   "execution_count": 4,
   "id": "c39942dc",
   "metadata": {},
   "outputs": [],
   "source": [
    "import threading"
   ]
  },
  {
   "cell_type": "code",
   "execution_count": 5,
   "id": "f94d4f6b",
   "metadata": {},
   "outputs": [],
   "source": [
    "import time"
   ]
  },
  {
   "cell_type": "code",
   "execution_count": 24,
   "id": "da33c895",
   "metadata": {},
   "outputs": [
    {
     "name": "stdout",
     "output_type": "stream",
     "text": [
      "5\n"
     ]
    }
   ],
   "source": [
    "class Trd(threading.Thread):     \n",
    "    def run(self):\n",
    "        time.sleep(2)\n",
    "def reseve(n):\n",
    "    global x\n",
    "    print(\"number of seat availab for %s is %i\" % (threading.current_thread().name,n))\n",
    "    if n <= x:\n",
    "        print(threading.current_thread().name)\n",
    "        x -= n\n",
    "    else:\n",
    "        print(\"not reseve\")\n",
    "x = 5\n",
    "t1 = Trd(target=reseve,args=(1,),name='tom')\n",
    "t2 = Trd(target=reseve,args=(5,),name='jery')\n",
    "t1.start()\n",
    "t2.start()\n",
    "t1.join()\n",
    "t2.join()\n",
    "print(x)\n"
   ]
  },
  {
   "cell_type": "code",
   "execution_count": 15,
   "id": "c69ac4c1",
   "metadata": {},
   "outputs": [],
   "source": []
  },
  {
   "cell_type": "code",
   "execution_count": 16,
   "id": "cb5526b6",
   "metadata": {},
   "outputs": [
    {
     "name": "stdout",
     "output_type": "stream",
     "text": [
      "5\n"
     ]
    }
   ],
   "source": []
  },
  {
   "cell_type": "code",
   "execution_count": 21,
   "id": "a7908a2f",
   "metadata": {},
   "outputs": [],
   "source": [
    "x=5\n",
    "def mini(n):\n",
    "    global x\n",
    "    x -= n\n"
   ]
  },
  {
   "cell_type": "code",
   "execution_count": 22,
   "id": "c8513af3",
   "metadata": {},
   "outputs": [],
   "source": [
    "mini(2)"
   ]
  },
  {
   "cell_type": "code",
   "execution_count": 107,
   "id": "8c36ee85",
   "metadata": {
    "scrolled": true
   },
   "outputs": [
    {
     "name": "stdout",
     "output_type": "stream",
     "text": [
      "5\n"
     ]
    }
   ],
   "source": [
    "import threading\n",
    "import time\n",
    "\n",
    "class Trd(threading.Thread):\n",
    "    def run(self):\n",
    "        time.sleep(2)\n",
    "        return self\n",
    "\n",
    "def reseve(n):\n",
    "    global x\n",
    "    if n <= x:\n",
    "        print(\"number of seats available for %s is %i\" % (threading.current_thread().name, n))\n",
    "\n",
    "        print(threading.current_thread().name)\n",
    "        x -= n\n",
    "    else:\n",
    "        print(\"not reserve\")\n",
    "\n",
    "x = 5\n",
    "t1 = Trd(target=reseve, args=(5,), name='tom')\n",
    "t2 = Trd(target=reseve, args=(5,), name='jerry')\n",
    "t3 = Trd(target=reseve, args=(5,), name='merry')\n",
    "if t1.is_alive():\n",
    "    print('runnig')\n",
    "t1.start()\n",
    "t3.start()\n",
    "t2.start()\n",
    "t1.join()\n",
    "t2.join()\n",
    "t3.join()\n",
    "print(x)\n"
   ]
  },
  {
   "cell_type": "code",
   "execution_count": 101,
   "id": "5748b160",
   "metadata": {
    "scrolled": false
   },
   "outputs": [
    {
     "name": "stdout",
     "output_type": "stream",
     "text": [
      "is runing\n",
      "Available seats 1\n",
      "Seat is allocated for Vaishnavi\n",
      "Available seats 0\n",
      "Seats unavailable\n",
      "finished\n"
     ]
    }
   ],
   "source": [
    "from threading import Thread,current_thread\n",
    "import time\n",
    "class TktReservation:\n",
    "          def __init__(self,avail_seat):\n",
    "             self.av_seat=avail_seat\n",
    "        \n",
    "          def reserve(self,need_seat):\n",
    "                time.sleep(2)\n",
    "                print(\"Available seats\",self.av_seat)\n",
    "                if(self.av_seat>=need_seat):\n",
    "                    name=current_thread().name\n",
    "                    print(\"Seat is allocated for\",name)\n",
    "                    self.av_seat=self.av_seat-need_seat\n",
    "                else:\n",
    "                    print(\"Seats unavailable\")\n",
    "\n",
    "t=TktReservation(1)\n",
    "t1=Thread(target=t.reserve,args=(1,),name=\"Vaishnavi\")\n",
    "t2=Thread(target=t.reserve,args=(1,),name=\"Vishwas\")\n",
    "t1.start()\n",
    "t2.start()\n",
    "if t1.is_alive():\n",
    "    print(\"is runing\")\n",
    "else:\n",
    "    print(\"not running\")\n",
    "t1.join()\n",
    "t2.join()\n",
    "if t1.is_alive():\n",
    "    print(\"still running runing\")\n",
    "else:\n",
    "    print(\"finished\")"
   ]
  },
  {
   "cell_type": "code",
   "execution_count": 109,
   "id": "c279c6dd",
   "metadata": {},
   "outputs": [],
   "source": [
    "from threading import *"
   ]
  },
  {
   "cell_type": "code",
   "execution_count": null,
   "id": "8d6c3639",
   "metadata": {},
   "outputs": [],
   "source": [
    "class thr(Thread):\n",
    "    def __init__"
   ]
  }
 ],
 "metadata": {
  "kernelspec": {
   "display_name": "Python 3 (ipykernel)",
   "language": "python",
   "name": "python3"
  },
  "language_info": {
   "codemirror_mode": {
    "name": "ipython",
    "version": 3
   },
   "file_extension": ".py",
   "mimetype": "text/x-python",
   "name": "python",
   "nbconvert_exporter": "python",
   "pygments_lexer": "ipython3",
   "version": "3.11.0"
  }
 },
 "nbformat": 4,
 "nbformat_minor": 5
}
