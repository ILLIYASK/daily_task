{
 "cells": [
  {
   "cell_type": "code",
   "execution_count": 1,
   "id": "40718b28",
   "metadata": {},
   "outputs": [],
   "source": [
    "from threading import *"
   ]
  },
  {
   "cell_type": "code",
   "execution_count": 2,
   "id": "ddada7fe",
   "metadata": {},
   "outputs": [],
   "source": [
    "l =Lock()"
   ]
  },
  {
   "cell_type": "code",
   "execution_count": 5,
   "id": "28d2c9a4",
   "metadata": {
    "scrolled": false
   },
   "outputs": [
    {
     "name": "stdout",
     "output_type": "stream",
     "text": [
      "Help on built-in function locked:\n",
      "\n",
      "locked(...) method of _thread.lock instance\n",
      "    locked() -> bool\n",
      "    (locked_lock() is an obsolete synonym)\n",
      "    \n",
      "    Return whether the lock is in the locked state.\n",
      "\n"
     ]
    }
   ],
   "source": [
    "help(l.locked)"
   ]
  },
  {
   "cell_type": "code",
   "execution_count": 6,
   "id": "fecdd595",
   "metadata": {
    "scrolled": false
   },
   "outputs": [
    {
     "name": "stdout",
     "output_type": "stream",
     "text": [
      "Help on method acquire in module threading:\n",
      "\n",
      "acquire(blocking=True, timeout=None) method of threading.Semaphore instance\n",
      "    Acquire a semaphore, decrementing the internal counter by one.\n",
      "    \n",
      "    When invoked without arguments: if the internal counter is larger than\n",
      "    zero on entry, decrement it by one and return immediately. If it is zero\n",
      "    on entry, block, waiting until some other thread has called release() to\n",
      "    make it larger than zero. This is done with proper interlocking so that\n",
      "    if multiple acquire() calls are blocked, release() will wake exactly one\n",
      "    of them up. The implementation may pick one at random, so the order in\n",
      "    which blocked threads are awakened should not be relied on. There is no\n",
      "    return value in this case.\n",
      "    \n",
      "    When invoked with blocking set to true, do the same thing as when called\n",
      "    without arguments, and return true.\n",
      "    \n",
      "    When invoked with blocking set to false, do not block. If a call without\n",
      "    an argument would block, return false immediately; otherwise, do the\n",
      "    same thing as when called without arguments, and return true.\n",
      "    \n",
      "    When invoked with a timeout other than None, it will block for at\n",
      "    most timeout seconds.  If acquire does not complete successfully in\n",
      "    that interval, return false.  Return true otherwise.\n",
      "\n"
     ]
    }
   ],
   "source": [
    "l = Semaphore(1)\n",
    "help(l.__enter__)"
   ]
  },
  {
   "cell_type": "code",
   "execution_count": 69,
   "id": "a68e979a",
   "metadata": {},
   "outputs": [
    {
     "name": "stdout",
     "output_type": "stream",
     "text": [
      "5 items is produced\n",
      "3 item is consumed from 5\n",
      "item balance 2\n"
     ]
    }
   ],
   "source": [
    "l =Condition()\n",
    "item = 0\n",
    "def producers(n):\n",
    "    global item\n",
    "    l.acquire()\n",
    "    item += n\n",
    "    print(f\"{n} items is produced\")\n",
    "    l.notify_all()\n",
    "    l.release()\n",
    "\n",
    "def consumers(n):\n",
    "    global item\n",
    "    l.acquire()\n",
    "    if item <= 0:\n",
    "        l.wait()\n",
    "    print(f\"{n} item is consumed from {item}\")\n",
    "    item -= n\n",
    "    l.release()\n",
    "          \n",
    "          \n",
    "t1 = Thread(target=producers,args=(5,),name=\"producers\")\n",
    "t2 = Thread(target=consumers,args=(3,),name=\"consumers\")\n",
    "t1.start()\n",
    "t2.start()\n",
    "t1.join()\n",
    "t1.join()\n",
    "print(f\"item balance {item}\")\n",
    "          \n",
    "\n",
    "          "
   ]
  }
 ],
 "metadata": {
  "kernelspec": {
   "display_name": "Python 3 (ipykernel)",
   "language": "python",
   "name": "python3"
  },
  "language_info": {
   "codemirror_mode": {
    "name": "ipython",
    "version": 3
   },
   "file_extension": ".py",
   "mimetype": "text/x-python",
   "name": "python",
   "nbconvert_exporter": "python",
   "pygments_lexer": "ipython3",
   "version": "3.11.0"
  }
 },
 "nbformat": 4,
 "nbformat_minor": 5
}
