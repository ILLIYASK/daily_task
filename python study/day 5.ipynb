{
 "cells": [
  {
   "cell_type": "code",
   "execution_count": 1,
   "id": "32310d25",
   "metadata": {},
   "outputs": [],
   "source": [
    "s = \"012356789\""
   ]
  },
  {
   "cell_type": "code",
   "execution_count": 2,
   "id": "67950edc",
   "metadata": {},
   "outputs": [
    {
     "data": {
      "text/plain": [
       "'987'"
      ]
     },
     "execution_count": 2,
     "metadata": {},
     "output_type": "execute_result"
    }
   ],
   "source": [
    "s[:5:-1]"
   ]
  },
  {
   "cell_type": "code",
   "execution_count": 24,
   "id": "a9e39919",
   "metadata": {
    "scrolled": true
   },
   "outputs": [
    {
     "data": {
      "text/plain": [
       "'my name is illiyas    and age is 23 and cgpa 7.70  '"
      ]
     },
     "execution_count": 24,
     "metadata": {},
     "output_type": "execute_result"
    }
   ],
   "source": [
    "s='my name is %10s and age is %.2d and cgpa %.2f  '% ('illiyas',23,7.7)\n",
    "s"
   ]
  },
  {
   "cell_type": "code",
   "execution_count": 27,
   "id": "f00e9345",
   "metadata": {},
   "outputs": [
    {
     "data": {
      "text/plain": [
       "'my name illiyas age 23'"
      ]
     },
     "execution_count": 27,
     "metadata": {},
     "output_type": "execute_result"
    }
   ],
   "source": [
    "s=\"my name {name} age {age}\".format(name='illiyas',age=23)\n",
    "s"
   ]
  },
  {
   "cell_type": "code",
   "execution_count": 28,
   "id": "0bab4f86",
   "metadata": {
    "scrolled": true
   },
   "outputs": [
    {
     "data": {
      "text/plain": [
       "'10.000000'"
      ]
     },
     "execution_count": 28,
     "metadata": {},
     "output_type": "execute_result"
    }
   ],
   "source": [
    "\"{:>2f}\".format(10)"
   ]
  },
  {
   "cell_type": "code",
   "execution_count": 30,
   "id": "d4b15bbd",
   "metadata": {},
   "outputs": [
    {
     "data": {
      "text/plain": [
       "' grade : fail'"
      ]
     },
     "execution_count": 30,
     "metadata": {},
     "output_type": "execute_result"
    }
   ],
   "source": [
    "score = 6\n",
    "f\" grade : {'pass' if score >= 60 else 'fail'}\"\n"
   ]
  },
  {
   "cell_type": "code",
   "execution_count": 40,
   "id": "4860211f",
   "metadata": {
    "scrolled": true
   },
   "outputs": [
    {
     "data": {
      "text/plain": [
       "'-20'"
      ]
     },
     "execution_count": 40,
     "metadata": {},
     "output_type": "execute_result"
    }
   ],
   "source": [
    "a=-20\n",
    "\"%u\"%-20"
   ]
  },
  {
   "cell_type": "code",
   "execution_count": 55,
   "id": "1d2c9085",
   "metadata": {},
   "outputs": [
    {
     "data": {
      "text/plain": [
       "37"
      ]
     },
     "execution_count": 55,
     "metadata": {},
     "output_type": "execute_result"
    }
   ],
   "source": [
    "ord('%')"
   ]
  },
  {
   "cell_type": "code",
   "execution_count": 59,
   "id": "19dfb20a",
   "metadata": {},
   "outputs": [
    {
     "data": {
      "text/plain": [
       "'1'"
      ]
     },
     "execution_count": 59,
     "metadata": {},
     "output_type": "execute_result"
    }
   ],
   "source": [
    "\"%i\"%1"
   ]
  },
  {
   "cell_type": "code",
   "execution_count": 54,
   "id": "6405ae08",
   "metadata": {},
   "outputs": [
    {
     "data": {
      "text/plain": [
       "'&'"
      ]
     },
     "execution_count": 54,
     "metadata": {},
     "output_type": "execute_result"
    }
   ],
   "source": [
    "chr(38)"
   ]
  },
  {
   "cell_type": "code",
   "execution_count": 68,
   "id": "5d9edd07",
   "metadata": {
    "scrolled": true
   },
   "outputs": [
    {
     "data": {
      "text/plain": [
       "'The value is -5.'"
      ]
     },
     "execution_count": 68,
     "metadata": {},
     "output_type": "execute_result"
    }
   ],
   "source": [
    "num1 = 100\n",
    "num2 = -5.0\n",
    "message1 = \"The value is %i.\" % num1\n",
    "message2 = \"The value is %d.\" % num2\n",
    "message2"
   ]
  },
  {
   "cell_type": "code",
   "execution_count": 76,
   "id": "a9c181c1",
   "metadata": {
    "scrolled": true
   },
   "outputs": [
    {
     "data": {
      "text/plain": [
       "'name illiyas age 23'"
      ]
     },
     "execution_count": 76,
     "metadata": {},
     "output_type": "execute_result"
    }
   ],
   "source": [
    "class my:\n",
    "    def __init__(self,name,age):\n",
    "        self.name = name\n",
    "        self.age = age\n",
    "        \n",
    "    def __str__(self):\n",
    "        return f\"name {self.name} age {self.age}\"\n",
    "    \n",
    "    def __repr__(self):\n",
    "        return f\"name {self.name} age {self.age}\"\n",
    "obj=my('illiyas',23)\n",
    "str(obj)\n",
    "repr(obj)\n"
   ]
  },
  {
   "cell_type": "code",
   "execution_count": 77,
   "id": "7cc31843",
   "metadata": {},
   "outputs": [
    {
     "data": {
      "text/plain": [
       "'abc'"
      ]
     },
     "execution_count": 77,
     "metadata": {},
     "output_type": "execute_result"
    }
   ],
   "source": [
    "def __str__(x):\n",
    "    return \"hello\"\n",
    "str('abc')"
   ]
  },
  {
   "cell_type": "markdown",
   "id": "f0294d4d",
   "metadata": {},
   "source": [
    "### list"
   ]
  },
  {
   "cell_type": "code",
   "execution_count": 79,
   "id": "8d9d34ba",
   "metadata": {},
   "outputs": [],
   "source": [
    "import sys"
   ]
  },
  {
   "cell_type": "code",
   "execution_count": 84,
   "id": "31c1e48b",
   "metadata": {},
   "outputs": [
    {
     "data": {
      "text/plain": [
       "72"
      ]
     },
     "execution_count": 84,
     "metadata": {},
     "output_type": "execute_result"
    }
   ],
   "source": [
    "l=[1,'a']\n",
    "sys.getsizeof(l)"
   ]
  },
  {
   "cell_type": "code",
   "execution_count": 85,
   "id": "33e90215",
   "metadata": {
    "scrolled": true
   },
   "outputs": [
    {
     "ename": "TypeError",
     "evalue": "unhashable type: 'list'",
     "output_type": "error",
     "traceback": [
      "\u001b[1;31m---------------------------------------------------------------------------\u001b[0m",
      "\u001b[1;31mTypeError\u001b[0m                                 Traceback (most recent call last)",
      "Cell \u001b[1;32mIn[85], line 1\u001b[0m\n\u001b[1;32m----> 1\u001b[0m \u001b[38;5;28;43mhash\u001b[39;49m\u001b[43m(\u001b[49m\u001b[43ml\u001b[49m\u001b[43m)\u001b[49m\n",
      "\u001b[1;31mTypeError\u001b[0m: unhashable type: 'list'"
     ]
    }
   ],
   "source": [
    "hash(l"
   ]
  },
  {
   "cell_type": "code",
   "execution_count": 86,
   "id": "bf0e9885",
   "metadata": {
    "scrolled": true
   },
   "outputs": [
    {
     "ename": "TypeError",
     "evalue": "unhashable type: 'list'",
     "output_type": "error",
     "traceback": [
      "\u001b[1;31m---------------------------------------------------------------------------\u001b[0m",
      "\u001b[1;31mTypeError\u001b[0m                                 Traceback (most recent call last)",
      "Cell \u001b[1;32mIn[86], line 2\u001b[0m\n\u001b[0;32m      1\u001b[0m t\u001b[38;5;241m=\u001b[39m(\u001b[38;5;241m1\u001b[39m,\u001b[38;5;241m2\u001b[39m,l)\n\u001b[1;32m----> 2\u001b[0m \u001b[38;5;28;43mhash\u001b[39;49m\u001b[43m(\u001b[49m\u001b[43mt\u001b[49m\u001b[43m)\u001b[49m\n",
      "\u001b[1;31mTypeError\u001b[0m: unhashable type: 'list'"
     ]
    }
   ],
   "source": [
    "t=(1,2,l)\n",
    "hash(t)"
   ]
  },
  {
   "cell_type": "code",
   "execution_count": 87,
   "id": "72a4388b",
   "metadata": {},
   "outputs": [],
   "source": [
    "l=[i for i in range(10)]"
   ]
  },
  {
   "cell_type": "code",
   "execution_count": 102,
   "id": "77d55259",
   "metadata": {
    "scrolled": false
   },
   "outputs": [
    {
     "data": {
      "text/plain": [
       "[0, 1, 2, 3, 4, 5, 6, 7, 8, 9]"
      ]
     },
     "execution_count": 102,
     "metadata": {},
     "output_type": "execute_result"
    }
   ],
   "source": [
    "l"
   ]
  },
  {
   "cell_type": "code",
   "execution_count": 110,
   "id": "66f5f8dd",
   "metadata": {},
   "outputs": [
    {
     "data": {
      "text/plain": [
       "'543'"
      ]
     },
     "execution_count": 110,
     "metadata": {},
     "output_type": "execute_result"
    }
   ],
   "source": [
    "s='0123456789'\n",
    "s[5:2:-1]"
   ]
  },
  {
   "cell_type": "code",
   "execution_count": null,
   "id": "3e8326fe",
   "metadata": {},
   "outputs": [],
   "source": []
  },
  {
   "cell_type": "code",
   "execution_count": 107,
   "id": "b86d7328",
   "metadata": {
    "scrolled": true
   },
   "outputs": [
    {
     "data": {
      "text/plain": [
       "[8, 7, 6, 5, 4, 3, 2, 1, 0]"
      ]
     },
     "execution_count": 107,
     "metadata": {},
     "output_type": "execute_result"
    }
   ],
   "source": [
    "l[-2::-1]"
   ]
  },
  {
   "cell_type": "code",
   "execution_count": 117,
   "id": "d98e00fb",
   "metadata": {},
   "outputs": [],
   "source": [
    "sl=slice(1,6,1)"
   ]
  },
  {
   "cell_type": "code",
   "execution_count": 121,
   "id": "bedf9c7c",
   "metadata": {},
   "outputs": [
    {
     "data": {
      "text/plain": [
       "[0, 1, 2, 3, 4, 5, 6, 7, 8, 9]"
      ]
     },
     "execution_count": 121,
     "metadata": {},
     "output_type": "execute_result"
    }
   ],
   "source": [
    "l[slice(0,len(l),1)]"
   ]
  },
  {
   "cell_type": "code",
   "execution_count": 130,
   "id": "cfc06610",
   "metadata": {
    "scrolled": true
   },
   "outputs": [
    {
     "name": "stdout",
     "output_type": "stream",
     "text": [
      "-1\n"
     ]
    },
    {
     "data": {
      "text/plain": [
       "[9, 8, 7, 6, 5, 4, 3, 2, 1]"
      ]
     },
     "execution_count": 130,
     "metadata": {},
     "output_type": "execute_result"
    }
   ],
   "source": [
    "def my_slice(ele,start,end,step):\n",
    "    print(step)\n",
    "    li=[]\n",
    "    if step > 0:\n",
    "        for i in range(start,end,step):\n",
    "            li.append(ele[i])\n",
    "    elif step < 0:\n",
    "        li=[i for i in range(start,end,step)]\n",
    "    else :\n",
    "        print('not possible %d step' % step)\n",
    "    return li\n",
    "my_slice(l,9,0,-1)        "
   ]
  },
  {
   "cell_type": "code",
   "execution_count": 139,
   "id": "13a40294",
   "metadata": {
    "scrolled": true
   },
   "outputs": [
    {
     "name": "stdout",
     "output_type": "stream",
     "text": [
      "3\n",
      "10\n",
      "20\n",
      "30\n",
      "[10, 20, 30]\n"
     ]
    }
   ],
   "source": [
    "l=[int(input()) for i in range(int(input()))]\n",
    "s=1\n",
    "for i in l:\n",
    "    s *= i\n",
    "print(l)\n",
    "    "
   ]
  },
  {
   "cell_type": "code",
   "execution_count": 1,
   "id": "a0e9830b",
   "metadata": {
    "scrolled": true
   },
   "outputs": [
    {
     "name": "stdout",
     "output_type": "stream",
     "text": [
      "5\n",
      "10000000\n",
      "1\n",
      "5\n",
      "100\n",
      "50\n",
      "[10000000, 1, 5, 100, 50]\n",
      "10000000\n"
     ]
    }
   ],
   "source": [
    "l=[int(input()) for i in range(int(input()))]\n",
    "print(l)\n",
    "lr=l[0]\n",
    "for i in l:\n",
    "    if i >lr:\n",
    "        lr = i\n",
    "print(lr)\n",
    "        "
   ]
  },
  {
   "cell_type": "code",
   "execution_count": 2,
   "id": "278cce25",
   "metadata": {
    "scrolled": true
   },
   "outputs": [
    {
     "name": "stdout",
     "output_type": "stream",
     "text": [
      "4\n",
      "abc\n",
      "xyz\n",
      "aba\n",
      "1221\n",
      "['abc', 'xyz', 'aba', '1221']\n",
      "2\n"
     ]
    }
   ],
   "source": [
    "l=[input() for i in range(int(input()))]\n",
    "print(l)\n",
    "cnt = 0\n",
    "for i in l:\n",
    "    if len(i) >= 2:\n",
    "        if i[0] == i[-1]:\n",
    "            cnt += 1\n",
    "print(cnt)\n",
    "            "
   ]
  },
  {
   "cell_type": "code",
   "execution_count": 3,
   "id": "0c1b110d",
   "metadata": {
    "scrolled": true
   },
   "outputs": [
    {
     "name": "stdout",
     "output_type": "stream",
     "text": [
      "[5, 2, 4, 3, 1]\n"
     ]
    }
   ],
   "source": [
    "l=[(2, 5), (1, 2), (4, 4), (2, 3), (2, 1)]\n",
    "t=[i[1] for i in l]\n",
    "print(t)\n",
    "sl=[]\n",
    "for i in l:\n",
    "    if sl:\n",
    "        pass\n",
    "    else:\n",
    "        sl.append(i)\n"
   ]
  },
  {
   "cell_type": "code",
   "execution_count": 5,
   "id": "0bd56393",
   "metadata": {
    "scrolled": true
   },
   "outputs": [
    {
     "data": {
      "text/plain": [
       "[5, 2, 4, 3, 1]"
      ]
     },
     "execution_count": 5,
     "metadata": {},
     "output_type": "execute_result"
    }
   ],
   "source": [
    "l=t.copy()\n",
    "l"
   ]
  },
  {
   "cell_type": "code",
   "execution_count": 24,
   "id": "a77a2cfb",
   "metadata": {},
   "outputs": [
    {
     "name": "stdout",
     "output_type": "stream",
     "text": [
      "1\n",
      "2\n",
      "3000\n",
      "3000\n",
      "3000\n"
     ]
    },
    {
     "data": {
      "text/plain": [
       "[1, 2, 4, 500, 3000]"
      ]
     },
     "execution_count": 24,
     "metadata": {},
     "output_type": "execute_result"
    }
   ],
   "source": [
    "l=[500,4,3000,2,1]\n",
    "lc=l.copy()\n",
    "ls=[]\n",
    "n=len(lc)\n",
    "for i in range(n):\n",
    "    if l:\n",
    "        m=l[0]\n",
    "        for j in l:\n",
    "            if j < m:\n",
    "                m = j\n",
    "        ls.append(m)\n",
    "        print(j)\n",
    "        l.remove(m)\n",
    "    else :\n",
    "        break\n",
    "ls"
   ]
  },
  {
   "cell_type": "code",
   "execution_count": 30,
   "id": "e165e5c1",
   "metadata": {},
   "outputs": [],
   "source": [
    "l=[(2, 5), (1, -2), (4, 400000000000), (2, 3), (2, 1)]\n"
   ]
  },
  {
   "cell_type": "code",
   "execution_count": 31,
   "id": "bf5816d4",
   "metadata": {
    "scrolled": true
   },
   "outputs": [
    {
     "data": {
      "text/plain": [
       "[(1, -2), (2, 1), (2, 3), (2, 5), (4, 400000000000)]"
      ]
     },
     "execution_count": 31,
     "metadata": {},
     "output_type": "execute_result"
    }
   ],
   "source": [
    "lc=l.copy()\n",
    "ls=[]\n",
    "for i in range(len(l)):\n",
    "    \n",
    "    if lc :\n",
    "        m=lc[0]\n",
    "        for i in lc:\n",
    "            if i[1] < m[1] :\n",
    "                m = i\n",
    "        ls.append(m)\n",
    "        lc.remove(m)\n",
    "ls\n",
    "    \n",
    "                "
   ]
  },
  {
   "cell_type": "code",
   "execution_count": 32,
   "id": "4d310fdf",
   "metadata": {},
   "outputs": [
    {
     "data": {
      "text/plain": [
       "[1, 2, 3, 4, 5, 6]"
      ]
     },
     "execution_count": 32,
     "metadata": {},
     "output_type": "execute_result"
    }
   ],
   "source": [
    "l=[1,2,3,4,5,1,2,3,6,2,1]\n",
    "unq=[]\n",
    "for i in l:\n",
    "    if i not in unq:\n",
    "        unq.append(i)\n",
    "unq"
   ]
  },
  {
   "cell_type": "code",
   "execution_count": 38,
   "id": "d0dead63",
   "metadata": {},
   "outputs": [
    {
     "name": "stdout",
     "output_type": "stream",
     "text": [
      "0\n",
      "empty\n"
     ]
    }
   ],
   "source": [
    "l = [input() for i in range(int(input()))]\n",
    "if l:\n",
    "    print('not empty')\n",
    "else :\n",
    "    print('empty')"
   ]
  },
  {
   "cell_type": "code",
   "execution_count": 42,
   "id": "2620ea21",
   "metadata": {},
   "outputs": [],
   "source": [
    "lc=[]\n",
    "for i in l:\n",
    "    lc.append(i)"
   ]
  },
  {
   "cell_type": "code",
   "execution_count": 43,
   "id": "b65b108f",
   "metadata": {},
   "outputs": [
    {
     "data": {
      "text/plain": [
       "[]"
      ]
     },
     "execution_count": 43,
     "metadata": {},
     "output_type": "execute_result"
    }
   ],
   "source": [
    "lc"
   ]
  },
  {
   "cell_type": "code",
   "execution_count": 44,
   "id": "34d731ca",
   "metadata": {},
   "outputs": [],
   "source": [
    "l = [1,2,3,4,5]\n",
    "l[1:3]=[10,20]"
   ]
  },
  {
   "cell_type": "code",
   "execution_count": 52,
   "id": "2eeb82d4",
   "metadata": {},
   "outputs": [],
   "source": [
    "l[1:3].append(100)"
   ]
  },
  {
   "cell_type": "code",
   "execution_count": 54,
   "id": "1fb3b62c",
   "metadata": {},
   "outputs": [
    {
     "data": {
      "text/plain": [
       "[1, 10, 20, 4, 5]"
      ]
     },
     "execution_count": 54,
     "metadata": {},
     "output_type": "execute_result"
    }
   ],
   "source": [
    "l"
   ]
  },
  {
   "cell_type": "code",
   "execution_count": 58,
   "id": "7242ee55",
   "metadata": {},
   "outputs": [
    {
     "name": "stdout",
     "output_type": "stream",
     "text": [
      "5\n",
      "pqr\n",
      "abc\n",
      "xyz\n",
      "a\n",
      "v\n",
      "word length3\n"
     ]
    },
    {
     "data": {
      "text/plain": [
       "[]"
      ]
     },
     "execution_count": 58,
     "metadata": {},
     "output_type": "execute_result"
    }
   ],
   "source": [
    "l = [input() for i in range(int(input()))]\n",
    "n=int(input('word length'))\n",
    "wl=[]\n",
    "for i in l:\n",
    "    if len(i) > n:\n",
    "        wl.append(i)\n",
    "wl"
   ]
  },
  {
   "cell_type": "code",
   "execution_count": 59,
   "id": "25b698d4",
   "metadata": {
    "scrolled": true
   },
   "outputs": [
    {
     "name": "stdout",
     "output_type": "stream",
     "text": [
      "L15\n",
      "1\n",
      "2\n",
      "3\n",
      "4\n",
      "5\n",
      "L23\n",
      "1\n",
      "10\n",
      "122\n"
     ]
    },
    {
     "data": {
      "text/plain": [
       "True"
      ]
     },
     "execution_count": 59,
     "metadata": {},
     "output_type": "execute_result"
    }
   ],
   "source": [
    "l1 = [int(input()) for i in range(int(input(\"L1\")))]\n",
    "l2 = [int(input()) for i in range(int(input(\"L2\")))]\n",
    "re=False\n",
    "for i in l1:\n",
    "    if i in l2:\n",
    "        re=True\n",
    "re\n",
    "\n"
   ]
  },
  {
   "cell_type": "code",
   "execution_count": 69,
   "id": "327a960f",
   "metadata": {},
   "outputs": [
    {
     "data": {
      "text/plain": [
       "[3, 2, 1, 4]"
      ]
     },
     "execution_count": 69,
     "metadata": {},
     "output_type": "execute_result"
    }
   ],
   "source": [
    "import random\n",
    "l=[1,2,3,4]\n",
    "random.shuffle(l)\n",
    "l"
   ]
  },
  {
   "cell_type": "code",
   "execution_count": 71,
   "id": "f6ad0181",
   "metadata": {},
   "outputs": [
    {
     "name": "stdout",
     "output_type": "stream",
     "text": [
      "[0, 1, 4, 9, 16, 676, 729, 784, 841, 900]\n"
     ]
    }
   ],
   "source": [
    "sl = [i**2 for i in range(31)]\n",
    "print(sl[:5]+sl[-5:])"
   ]
  },
  {
   "cell_type": "code",
   "execution_count": 63,
   "id": "d84c6f2c",
   "metadata": {},
   "outputs": [],
   "source": [
    "ls"
   ]
  },
  {
   "cell_type": "code",
   "execution_count": 83,
   "id": "3f1d5b54",
   "metadata": {
    "scrolled": true
   },
   "outputs": [
    {
     "name": "stdout",
     "output_type": "stream",
     "text": [
      "50\n",
      "2\n",
      "3\n",
      "5\n",
      "7\n",
      "11\n",
      "13\n",
      "17\n",
      "19\n",
      "23\n",
      "29\n",
      "31\n",
      "37\n",
      "41\n",
      "43\n",
      "47\n"
     ]
    }
   ],
   "source": [
    "for i in range(2,int(input())+1):\n",
    "    flag=0\n",
    "    for j in range(2,(i//2)+1):\n",
    "        if i%j == 0:\n",
    "            flag = 1\n",
    "    if flag == 0:\n",
    "        print(i)\n"
   ]
  },
  {
   "cell_type": "code",
   "execution_count": 84,
   "id": "e29b37f8",
   "metadata": {},
   "outputs": [],
   "source": [
    "l=['a','b','c']\n",
    "per=[]"
   ]
  },
  {
   "cell_type": "code",
   "execution_count": null,
   "id": "3079d9d9",
   "metadata": {},
   "outputs": [],
   "source": [
    "for i in l:\n",
    "    al = [i for i in l if not in l]\n",
    "    \n",
    "        \n",
    "        "
   ]
  },
  {
   "cell_type": "code",
   "execution_count": 27,
   "id": "a0c973f0",
   "metadata": {},
   "outputs": [],
   "source": [
    "lz = [[1,2,3,4],[10,20,30,40],[100,200,300,400],[1000,2000,3000,4000]]"
   ]
  },
  {
   "cell_type": "code",
   "execution_count": 30,
   "id": "cff5d017",
   "metadata": {
    "scrolled": false
   },
   "outputs": [
    {
     "data": {
      "text/plain": [
       "[1, 2]"
      ]
     },
     "execution_count": 30,
     "metadata": {},
     "output_type": "execute_result"
    }
   ],
   "source": [
    "lz[0:2][0][:2]"
   ]
  },
  {
   "cell_type": "code",
   "execution_count": 26,
   "id": "7e8cd1bc",
   "metadata": {
    "scrolled": true
   },
   "outputs": [
    {
     "data": {
      "text/plain": [
       "[[1, 2, 3], [4, 5, 6]]"
      ]
     },
     "execution_count": 26,
     "metadata": {},
     "output_type": "execute_result"
    }
   ],
   "source": [
    "my_list = [[1, 2, 3], [4, 5, 6], [7, 8, 9]]\n",
    "# my_list[0:2][1][0:2]\n",
    "my_list[0:2]"
   ]
  },
  {
   "cell_type": "code",
   "execution_count": 31,
   "id": "60bce23c",
   "metadata": {
    "scrolled": true
   },
   "outputs": [
    {
     "data": {
      "text/plain": [
       "False"
      ]
     },
     "execution_count": 31,
     "metadata": {},
     "output_type": "execute_result"
    }
   ],
   "source": [
    "a=[1,2,3]\n",
    "b=[1,2,3]\n",
    "id(a)==id(b)"
   ]
  },
  {
   "cell_type": "markdown",
   "id": "de9b918d",
   "metadata": {},
   "source": [
    "### tuple"
   ]
  },
  {
   "cell_type": "code",
   "execution_count": 52,
   "id": "21104e33",
   "metadata": {},
   "outputs": [
    {
     "name": "stdout",
     "output_type": "stream",
     "text": [
      " name illiyas\n"
     ]
    }
   ],
   "source": [
    "class hello:\n",
    "    def __init__(self,name):\n",
    "        self.name = name \n",
    "    def printd(self):\n",
    "        return f\"hello {self.name}\"\n",
    "#     def __str__(self):\n",
    "#         return f\" name {self.name}\"\n",
    "#     def __repr__(self):\n",
    "#         return f\" name {self.name}\"\n",
    "\n",
    "obj=hello('illiyas')\n",
    "# list(obj)\n",
    "print(obj)\n"
   ]
  },
  {
   "cell_type": "code",
   "execution_count": 37,
   "id": "3b38771b",
   "metadata": {
    "scrolled": true
   },
   "outputs": [
    {
     "ename": "TypeError",
     "evalue": "hello.printd() missing 1 required positional argument: 'name'",
     "output_type": "error",
     "traceback": [
      "\u001b[1;31m---------------------------------------------------------------------------\u001b[0m",
      "\u001b[1;31mTypeError\u001b[0m                                 Traceback (most recent call last)",
      "Cell \u001b[1;32mIn[37], line 1\u001b[0m\n\u001b[1;32m----> 1\u001b[0m \u001b[43mhello\u001b[49m\u001b[38;5;241;43m.\u001b[39;49m\u001b[43mprintd\u001b[49m\u001b[43m(\u001b[49m\u001b[43mobj\u001b[49m\u001b[43m,\u001b[49m\u001b[43m)\u001b[49m\n",
      "\u001b[1;31mTypeError\u001b[0m: hello.printd() missing 1 required positional argument: 'name'"
     ]
    }
   ],
   "source": [
    "hello.printd(obj,)"
   ]
  },
  {
   "cell_type": "code",
   "execution_count": null,
   "id": "fef2ccf0",
   "metadata": {},
   "outputs": [],
   "source": []
  }
 ],
 "metadata": {
  "kernelspec": {
   "display_name": "Python 3 (ipykernel)",
   "language": "python",
   "name": "python3"
  },
  "language_info": {
   "codemirror_mode": {
    "name": "ipython",
    "version": 3
   },
   "file_extension": ".py",
   "mimetype": "text/x-python",
   "name": "python",
   "nbconvert_exporter": "python",
   "pygments_lexer": "ipython3",
   "version": "3.11.0"
  }
 },
 "nbformat": 4,
 "nbformat_minor": 5
}
