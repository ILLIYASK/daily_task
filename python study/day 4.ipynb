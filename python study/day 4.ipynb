{
 "cells": [
  {
   "cell_type": "markdown",
   "id": "550ccf17",
   "metadata": {},
   "source": [
    "string"
   ]
  },
  {
   "cell_type": "code",
   "execution_count": 1,
   "id": "7018590f",
   "metadata": {},
   "outputs": [],
   "source": [
    "a=\"abc\""
   ]
  },
  {
   "cell_type": "code",
   "execution_count": 6,
   "id": "3c99960a",
   "metadata": {},
   "outputs": [
    {
     "data": {
      "text/plain": [
       "2342864617968"
      ]
     },
     "execution_count": 6,
     "metadata": {},
     "output_type": "execute_result"
    }
   ],
   "source": [
    "c='122'\n",
    "id(c)"
   ]
  },
  {
   "cell_type": "code",
   "execution_count": 4,
   "id": "22d63c29",
   "metadata": {},
   "outputs": [
    {
     "data": {
      "text/plain": [
       "140732420787920"
      ]
     },
     "execution_count": 4,
     "metadata": {},
     "output_type": "execute_result"
    }
   ],
   "source": [
    "id(a)"
   ]
  },
  {
   "cell_type": "code",
   "execution_count": 5,
   "id": "bb111406",
   "metadata": {},
   "outputs": [
    {
     "data": {
      "text/plain": [
       "140732420787920"
      ]
     },
     "execution_count": 5,
     "metadata": {},
     "output_type": "execute_result"
    }
   ],
   "source": [
    "id(b)"
   ]
  },
  {
   "cell_type": "code",
   "execution_count": 2,
   "id": "e6a5da23",
   "metadata": {},
   "outputs": [
    {
     "data": {
      "text/plain": [
       "520038242067862784"
      ]
     },
     "execution_count": 2,
     "metadata": {},
     "output_type": "execute_result"
    }
   ],
   "source": [
    "hash(a)"
   ]
  },
  {
   "cell_type": "code",
   "execution_count": 3,
   "id": "86afe86b",
   "metadata": {},
   "outputs": [
    {
     "data": {
      "text/plain": [
       "520038242067862784"
      ]
     },
     "execution_count": 3,
     "metadata": {},
     "output_type": "execute_result"
    }
   ],
   "source": [
    "b=str('abc')\n",
    "hash(b)"
   ]
  },
  {
   "cell_type": "code",
   "execution_count": 7,
   "id": "ca8cbbed",
   "metadata": {
    "scrolled": false
   },
   "outputs": [
    {
     "data": {
      "text/plain": [
       "3806137150252414695"
      ]
     },
     "execution_count": 7,
     "metadata": {},
     "output_type": "execute_result"
    }
   ],
   "source": [
    "hash(c)"
   ]
  },
  {
   "cell_type": "code",
   "execution_count": 8,
   "id": "055ddde0",
   "metadata": {
    "scrolled": true
   },
   "outputs": [
    {
     "data": {
      "text/plain": [
       "True"
      ]
     },
     "execution_count": 8,
     "metadata": {},
     "output_type": "execute_result"
    }
   ],
   "source": [
    "a='abc'\n",
    "b='abc'\n",
    "id(a)==id(b)"
   ]
  },
  {
   "cell_type": "code",
   "execution_count": 15,
   "id": "01856353",
   "metadata": {},
   "outputs": [],
   "source": [
    "class a:\n",
    "    def __init__(self,a):\n",
    "        pass"
   ]
  },
  {
   "cell_type": "code",
   "execution_count": 17,
   "id": "9f2efa0c",
   "metadata": {},
   "outputs": [],
   "source": [
    "obj=a(1)\n",
    "obj1=a(1)"
   ]
  },
  {
   "cell_type": "code",
   "execution_count": 18,
   "id": "5dd9d316",
   "metadata": {
    "scrolled": false
   },
   "outputs": [
    {
     "data": {
      "text/plain": [
       "False"
      ]
     },
     "execution_count": 18,
     "metadata": {},
     "output_type": "execute_result"
    }
   ],
   "source": [
    "id(obj)==id(obj1)"
   ]
  },
  {
   "cell_type": "code",
   "execution_count": 142,
   "id": "a25d45c2",
   "metadata": {
    "scrolled": true
   },
   "outputs": [
    {
     "name": "stdout",
     "output_type": "stream",
     "text": [
      "abccba\n",
      "abccba is palindrom or symmetric\n"
     ]
    }
   ],
   "source": [
    "s=input()\n",
    "l=len(s)\n",
    "if l%2==0:\n",
    "    if s[:l//2] == s[:(l//2)-1:-1]:\n",
    "        print(f\"{s} is palindrom or symmetric\")\n",
    "    else:\n",
    "        print(f\"{s} is not palindrom or symmetric\")\n",
    "else:\n",
    "    if s[:l//2]==s[:l//2:-1]:\n",
    "        print(f\"{s} is palindrom or symmetric\")\n",
    "    else:\n",
    "        print(f\"{s} is not palindrom or symmetric\")\n"
   ]
  },
  {
   "cell_type": "code",
   "execution_count": 65,
   "id": "3a2b66e9",
   "metadata": {
    "scrolled": true
   },
   "outputs": [
    {
     "name": "stdout",
     "output_type": "stream",
     "text": [
      "\n"
     ]
    }
   ],
   "source": [
    "s1='malayalam'\n",
    "len(s1)\n",
    "print(s1[5:10:-1])"
   ]
  },
  {
   "cell_type": "code",
   "execution_count": 33,
   "id": "927c5d58",
   "metadata": {},
   "outputs": [
    {
     "data": {
      "text/plain": [
       "'malayalam'"
      ]
     },
     "execution_count": 33,
     "metadata": {},
     "output_type": "execute_result"
    }
   ],
   "source": [
    "s"
   ]
  },
  {
   "cell_type": "code",
   "execution_count": 76,
   "id": "a0fa0336",
   "metadata": {
    "scrolled": true
   },
   "outputs": [
    {
     "data": {
      "text/plain": [
       "'987'"
      ]
     },
     "execution_count": 76,
     "metadata": {},
     "output_type": "execute_result"
    }
   ],
   "source": [
    "s='0123456789'\n",
    "s[:-4:-1]"
   ]
  },
  {
   "cell_type": "code",
   "execution_count": 73,
   "id": "29c7ef8a",
   "metadata": {
    "scrolled": true
   },
   "outputs": [
    {
     "name": "stdout",
     "output_type": "stream",
     "text": [
      "9\n",
      "8\n",
      "7\n",
      "6\n",
      "5\n",
      "4\n",
      "3\n",
      "2\n"
     ]
    }
   ],
   "source": [
    "for i in range(9,1,-1):\n",
    "    print(i)"
   ]
  },
  {
   "cell_type": "code",
   "execution_count": 131,
   "id": "1b84438d",
   "metadata": {
    "scrolled": true
   },
   "outputs": [
    {
     "name": "stdout",
     "output_type": "stream",
     "text": [
      "hel\n",
      "hel\n"
     ]
    },
    {
     "data": {
      "text/plain": [
       "True"
      ]
     },
     "execution_count": 131,
     "metadata": {},
     "output_type": "execute_result"
    }
   ],
   "source": [
    "s='helleh'\n",
    "print(s[:len(s)//2])\n",
    "print(s[:(len(s)//2)-1:-1])\n",
    "s[:len(s)//2] == s[:(len(s)//2)-1:-1]"
   ]
  },
  {
   "cell_type": "code",
   "execution_count": 118,
   "id": "f19e87d5",
   "metadata": {
    "scrolled": true
   },
   "outputs": [
    {
     "data": {
      "text/plain": [
       "'mala'"
      ]
     },
     "execution_count": 118,
     "metadata": {},
     "output_type": "execute_result"
    }
   ],
   "source": [
    "s[:len(s)//2]"
   ]
  },
  {
   "cell_type": "code",
   "execution_count": 153,
   "id": "0af0d238",
   "metadata": {},
   "outputs": [
    {
     "name": "stdout",
     "output_type": "stream",
     "text": [
      "ab\n",
      "not palindrom\n"
     ]
    }
   ],
   "source": [
    "s=input()\n",
    "flag=\"palindrom\"\n",
    "for i in range(len(s)//2):\n",
    "    if s[i] != s[-(i+1)]:\n",
    "        flag='not palindrom'\n",
    "        break\n",
    "print(flag)"
   ]
  },
  {
   "cell_type": "code",
   "execution_count": 159,
   "id": "64cb73a8",
   "metadata": {
    "scrolled": true
   },
   "outputs": [
    {
     "name": "stdout",
     "output_type": "stream",
     "text": [
      "abcd\n",
      "dcba\n",
      "dcba\n",
      "dcba\n"
     ]
    }
   ],
   "source": [
    "s=input()\n",
    "print(s[::-1])\n",
    "print(\"\".join(list(reversed(s))))\n",
    "rv=\"\"\n",
    "for i in range(len(s)-1,-1,-1):\n",
    "    rv += s[i]\n",
    "print(rv)"
   ]
  },
  {
   "cell_type": "code",
   "execution_count": 157,
   "id": "65d6af63",
   "metadata": {
    "scrolled": true
   },
   "outputs": [
    {
     "name": "stdout",
     "output_type": "stream",
     "text": [
      "10\n",
      "9\n",
      "8\n",
      "7\n",
      "6\n",
      "5\n",
      "4\n",
      "3\n",
      "2\n",
      "1\n",
      "0\n"
     ]
    }
   ],
   "source": [
    "for i in range(10,-1,-1):\n",
    "    print(i)"
   ]
  },
  {
   "cell_type": "code",
   "execution_count": 1,
   "id": "796efca7",
   "metadata": {
    "scrolled": true
   },
   "outputs": [
    {
     "name": "stdout",
     "output_type": "stream",
     "text": [
      "abc\n",
      "abc\n"
     ]
    }
   ],
   "source": [
    "s=input()\n",
    "l=[]\n",
    "for i in s:\n",
    "    l.append(i)\n",
    "print(\"\".join(l))\n",
    "    "
   ]
  },
  {
   "cell_type": "code",
   "execution_count": 6,
   "id": "b760a4f7",
   "metadata": {
    "scrolled": true
   },
   "outputs": [
    {
     "name": "stdout",
     "output_type": "stream",
     "text": [
      "james\n"
     ]
    },
    {
     "data": {
      "text/plain": [
       "'jms'"
      ]
     },
     "execution_count": 6,
     "metadata": {},
     "output_type": "execute_result"
    }
   ],
   "source": [
    "s=input()\n",
    "re=s[0]+s[(len(s)//2)]+s[-1]\n",
    "re"
   ]
  },
  {
   "cell_type": "code",
   "execution_count": 9,
   "id": "78c85707",
   "metadata": {
    "scrolled": true
   },
   "outputs": [
    {
     "name": "stdout",
     "output_type": "stream",
     "text": [
      "JaSonAy\n",
      "Son\n"
     ]
    }
   ],
   "source": [
    "s=input()\n",
    "if len(s)%2 != 0:\n",
    "    print(s[(len(s)//2)-1:(len(s)//2)+2])\n",
    "    "
   ]
  },
  {
   "cell_type": "code",
   "execution_count": 13,
   "id": "a61721be",
   "metadata": {},
   "outputs": [
    {
     "name": "stdout",
     "output_type": "stream",
     "text": [
      "Ault\n",
      "kelly\n"
     ]
    }
   ],
   "source": [
    "s1=input()\n",
    "s2=input()\n",
    "s3=s1[:(len(s1)//2)]+s2+s1[len(s1)//2:]"
   ]
  },
  {
   "cell_type": "code",
   "execution_count": 15,
   "id": "c5530e58",
   "metadata": {},
   "outputs": [
    {
     "name": "stdout",
     "output_type": "stream",
     "text": [
      "America\n",
      "Japan\n"
     ]
    },
    {
     "data": {
      "text/plain": [
       "'AJrpan'"
      ]
     },
     "execution_count": 15,
     "metadata": {},
     "output_type": "execute_result"
    }
   ],
   "source": [
    "s1,s2=input(),input()\n",
    "f=s1[0]+s2[0]\n",
    "m=s1[len(s1)//2]+s2[len(s2)//2]\n",
    "e=s1[-1]+s2[-1]\n",
    "re=f+m+e\n",
    "re"
   ]
  },
  {
   "cell_type": "code",
   "execution_count": 16,
   "id": "764d21a0",
   "metadata": {},
   "outputs": [
    {
     "name": "stdout",
     "output_type": "stream",
     "text": [
      "PyNaTive\n",
      "yaivePNT\n"
     ]
    }
   ],
   "source": [
    "l=\"\"\n",
    "u=\"\"\n",
    "for i in input():\n",
    "    if i.islower():\n",
    "        l += i\n",
    "    else:\n",
    "        u += i\n",
    "print(l+u)\n",
    "    "
   ]
  },
  {
   "cell_type": "code",
   "execution_count": 20,
   "id": "c8e24340",
   "metadata": {
    "scrolled": true
   },
   "outputs": [
    {
     "name": "stdout",
     "output_type": "stream",
     "text": [
      "P@#yn26at^&i5ve\n",
      "char  8 \n",
      "num 3 \n",
      "special 4\n"
     ]
    }
   ],
   "source": [
    "d=0\n",
    "sp=0\n",
    "a=0\n",
    "for i in input():\n",
    "    if i.isalnum():\n",
    "        if i.isnumeric():\n",
    "            d += 1\n",
    "        else :\n",
    "            a += 1\n",
    "    else :\n",
    "        sp += 1\n",
    "print(f'char  {a} \\nnum {d} \\nspecial {sp}')\n",
    "        "
   ]
  },
  {
   "cell_type": "code",
   "execution_count": 24,
   "id": "f2234bfd",
   "metadata": {
    "scrolled": true
   },
   "outputs": [
    {
     "name": "stdout",
     "output_type": "stream",
     "text": [
      "abc\n",
      "xyz\n"
     ]
    },
    {
     "data": {
      "text/plain": [
       "'azbycx'"
      ]
     },
     "execution_count": 24,
     "metadata": {},
     "output_type": "execute_result"
    }
   ],
   "source": [
    "s1,s2 = input(),input()\n",
    "s=\"\"\n",
    "for i in range(len(s1)):\n",
    "    s += s1[i]+s2[-(i+1)]\n",
    "s"
   ]
  },
  {
   "cell_type": "code",
   "execution_count": 26,
   "id": "8717d31d",
   "metadata": {},
   "outputs": [
    {
     "name": "stdout",
     "output_type": "stream",
     "text": [
      "Ynf\n",
      "PYnative\n",
      "False\n"
     ]
    }
   ],
   "source": [
    "s1,s2=input(),input()\n",
    "re=True\n",
    "for i in s1:\n",
    "    if i not in s2:\n",
    "        re = False\n",
    "print(re)\n",
    "        "
   ]
  },
  {
   "cell_type": "code",
   "execution_count": 27,
   "id": "6d79a393",
   "metadata": {
    "scrolled": true
   },
   "outputs": [
    {
     "name": "stdout",
     "output_type": "stream",
     "text": [
      "Welcome to USA. usa awesome, isn't it?\n",
      "usa\n"
     ]
    },
    {
     "data": {
      "text/plain": [
       "2"
      ]
     },
     "execution_count": 27,
     "metadata": {},
     "output_type": "execute_result"
    }
   ],
   "source": [
    "main=input()\n",
    "sub=input()\n",
    "main.count(sub.upper())+main.count((sub.lower()))"
   ]
  },
  {
   "cell_type": "code",
   "execution_count": 28,
   "id": "c9f82d7e",
   "metadata": {},
   "outputs": [
    {
     "data": {
      "text/plain": [
       "1"
      ]
     },
     "execution_count": 28,
     "metadata": {},
     "output_type": "execute_result"
    }
   ],
   "source": [
    "main.count('usa')"
   ]
  },
  {
   "cell_type": "code",
   "execution_count": 38,
   "id": "d680cc7d",
   "metadata": {
    "scrolled": true
   },
   "outputs": [
    {
     "name": "stdout",
     "output_type": "stream",
     "text": [
      "PYnative29@#8496\n",
      "sum 38 average 6.333333333333333\n"
     ]
    }
   ],
   "source": [
    "sm=0\n",
    "count=0\n",
    "s=input()\n",
    "for i in s:\n",
    "    if i.isdigit():\n",
    "        count += 1\n",
    "        sm += int(i)\n",
    "print(f\"sum {sm} average {sm/count}\")\n",
    "        \n",
    "        "
   ]
  },
  {
   "cell_type": "code",
   "execution_count": 33,
   "id": "de021f91",
   "metadata": {},
   "outputs": [
    {
     "data": {
      "text/plain": [
       "False"
      ]
     },
     "execution_count": 33,
     "metadata": {},
     "output_type": "execute_result"
    }
   ],
   "source": [
    "'P'.isnumeric()"
   ]
  },
  {
   "cell_type": "code",
   "execution_count": 41,
   "id": "721f1686",
   "metadata": {
    "scrolled": true
   },
   "outputs": [
    {
     "name": "stdout",
     "output_type": "stream",
     "text": [
      "apple\n"
     ]
    },
    {
     "data": {
      "text/plain": [
       "{'e': 1, 'a': 1, 'l': 1, 'p': 2}"
      ]
     },
     "execution_count": 41,
     "metadata": {},
     "output_type": "execute_result"
    }
   ],
   "source": [
    "s=input()\n",
    "ss=set(s)\n",
    "re={}\n",
    "for i in ss:\n",
    "    re[i]=s.count(i)\n",
    "re"
   ]
  },
  {
   "cell_type": "code",
   "execution_count": 55,
   "id": "88f2d569",
   "metadata": {
    "scrolled": false
   },
   "outputs": [
    {
     "name": "stdout",
     "output_type": "stream",
     "text": [
      "Emma is a data scientist who knows Python. Emma works at google.\n",
      "Emma\n",
      "0\n",
      "1\n",
      "2\n",
      "3\n",
      "4\n",
      "5\n",
      "6\n",
      "7\n",
      "8\n",
      "9\n",
      "10\n",
      "11\n",
      "12\n",
      "13\n",
      "14\n",
      "15\n",
      "16\n",
      "17\n",
      "18\n",
      "19\n",
      "20\n",
      "21\n",
      "22\n",
      "23\n",
      "24\n",
      "25\n",
      "26\n",
      "27\n",
      "28\n",
      "29\n",
      "30\n",
      "31\n",
      "32\n",
      "33\n",
      "34\n",
      "35\n",
      "36\n",
      "37\n",
      "38\n",
      "39\n",
      "40\n",
      "41\n",
      "42\n",
      "43\n",
      "44\n",
      "43\n"
     ]
    }
   ],
   "source": [
    "occurance=-1\n",
    "main=input()\n",
    "sub=input()\n",
    "for i in range(len(main)):\n",
    "    if main[i:].count(sub) != 0:\n",
    "        if sub in main[i:i+len(sub)]:\n",
    "            occurance=i\n",
    "    else :\n",
    "        break\n",
    "print(occurance)"
   ]
  },
  {
   "cell_type": "code",
   "execution_count": null,
   "id": "782841ed",
   "metadata": {},
   "outputs": [],
   "source": [
    "for i in "
   ]
  },
  {
   "cell_type": "code",
   "execution_count": 46,
   "id": "5cb5cfa9",
   "metadata": {
    "scrolled": true
   },
   "outputs": [
    {
     "data": {
      "text/plain": [
       "'grgrgr'"
      ]
     },
     "execution_count": 46,
     "metadata": {},
     "output_type": "execute_result"
    }
   ],
   "source": []
  },
  {
   "cell_type": "code",
   "execution_count": 56,
   "id": "b5fec8ce",
   "metadata": {},
   "outputs": [
    {
     "data": {
      "text/plain": [
       "43"
      ]
     },
     "execution_count": 56,
     "metadata": {},
     "output_type": "execute_result"
    }
   ],
   "source": [
    "main.rfind(sub)"
   ]
  },
  {
   "cell_type": "code",
   "execution_count": 67,
   "id": "c570795d",
   "metadata": {
    "scrolled": true
   },
   "outputs": [
    {
     "name": "stdout",
     "output_type": "stream",
     "text": [
      "Emma-is-a-data-scientist\n",
      "['Emma', 'is', 'a', 'data', 'scientist']\n"
     ]
    }
   ],
   "source": [
    "l = []\n",
    "s = \"\"\n",
    "c=0\n",
    "inp=input()\n",
    "for i in inp:\n",
    "    c +=1\n",
    "    if inp.count('-') != 0:\n",
    "        if i != \"-\":\n",
    "            s += i\n",
    "        else :\n",
    "            l.append(s)\n",
    "            s = \"\"\n",
    "        if c == len(inp):\n",
    "            l.append(s)\n",
    "    else :\n",
    "        break\n",
    "\n",
    "\n",
    "print(l)"
   ]
  },
  {
   "cell_type": "code",
   "execution_count": 66,
   "id": "ef90eb65",
   "metadata": {},
   "outputs": [
    {
     "data": {
      "text/plain": [
       "24"
      ]
     },
     "execution_count": 66,
     "metadata": {},
     "output_type": "execute_result"
    }
   ],
   "source": [
    "c\n",
    "len(inp)"
   ]
  },
  {
   "cell_type": "code",
   "execution_count": 70,
   "id": "1dd2eb0a",
   "metadata": {
    "scrolled": true
   },
   "outputs": [
    {
     "data": {
      "text/plain": [
       "['Emma', 'Jon', 'Kelly', None, 'Eric']"
      ]
     },
     "execution_count": 70,
     "metadata": {},
     "output_type": "execute_result"
    }
   ],
   "source": [
    "l=[\"Emma\", \"Jon\", \"\", \"Kelly\", None, \"Eric\", \"\"]\n",
    "for i in l:\n",
    "    if i == \"\":\n",
    "        l.remove(i)\n",
    "l"
   ]
  },
  {
   "cell_type": "code",
   "execution_count": 78,
   "id": "d0b94eff",
   "metadata": {},
   "outputs": [
    {
     "data": {
      "text/plain": [
       "'Jon is developer  musician'"
      ]
     },
     "execution_count": 78,
     "metadata": {},
     "output_type": "execute_result"
    }
   ],
   "source": [
    "str1 = \"/*Jon is @developer & musician\"\n",
    "re = \"\"\n",
    "for i  in str1:\n",
    "    if i.isalnum() or (i == \" \") :\n",
    "        re += i\n",
    "re\n",
    "        "
   ]
  },
  {
   "cell_type": "code",
   "execution_count": 81,
   "id": "4f93ad3b",
   "metadata": {},
   "outputs": [
    {
     "name": "stdout",
     "output_type": "stream",
     "text": [
      "I am 25 years and 10 months old\n",
      "2510"
     ]
    }
   ],
   "source": [
    "for i in input():\n",
    "    if i.isnumeric():\n",
    "        print(i,end=\"\")"
   ]
  },
  {
   "cell_type": "code",
   "execution_count": 82,
   "id": "ecb9cfca",
   "metadata": {
    "scrolled": true
   },
   "outputs": [
    {
     "name": "stdout",
     "output_type": "stream",
     "text": [
      "Emma25 is Data scientist50 and AI Expert\n",
      "Emma25\n",
      "scientist50\n"
     ]
    }
   ],
   "source": [
    "l=input().split(' ')\n",
    "\n",
    "for i in l:\n",
    "    a = False\n",
    "    n = False\n",
    "    for j in i:\n",
    "        if j.isalpha():\n",
    "            a = True\n",
    "        elif j.isnumeric():\n",
    "            n = True\n",
    "    if a and n :\n",
    "        print(i)\n"
   ]
  },
  {
   "cell_type": "code",
   "execution_count": 84,
   "id": "26849185",
   "metadata": {
    "scrolled": true
   },
   "outputs": [
    {
     "name": "stdout",
     "output_type": "stream",
     "text": [
      "/*Jon is @developer & musician!!\n"
     ]
    },
    {
     "data": {
      "text/plain": [
       "'##Jon is #developer # musician##'"
      ]
     },
     "execution_count": 84,
     "metadata": {},
     "output_type": "execute_result"
    }
   ],
   "source": [
    "s=input()\n",
    "re=\"\"\n",
    "for i in s:\n",
    "    if i.isalnum() or i.isspace():\n",
    "        re += i\n",
    "    else :\n",
    "        re += '#'\n",
    "re\n",
    "        "
   ]
  },
  {
   "cell_type": "code",
   "execution_count": 85,
   "id": "600da94a",
   "metadata": {},
   "outputs": [
    {
     "data": {
      "text/plain": [
       "'!\"#$%&\\'()*+,-./:;<=>?@[\\\\]^_`{|}~'"
      ]
     },
     "execution_count": 85,
     "metadata": {},
     "output_type": "execute_result"
    }
   ],
   "source": [
    "import string \n",
    "string.punctuation"
   ]
  },
  {
   "cell_type": "code",
   "execution_count": 87,
   "id": "fbd7dc75",
   "metadata": {
    "scrolled": true
   },
   "outputs": [
    {
     "name": "stdout",
     "output_type": "stream",
     "text": [
      "pythonlobby\n"
     ]
    },
    {
     "data": {
      "text/plain": [
       "'pthnloby'"
      ]
     },
     "execution_count": 87,
     "metadata": {},
     "output_type": "execute_result"
    }
   ],
   "source": [
    "s=input()\n",
    "l=list(s)\n",
    "for i in l:\n",
    "    if l.count(i) >1:\n",
    "        l.remove(i)\n",
    "        \n",
    "\"\".join(l)"
   ]
  },
  {
   "cell_type": "code",
   "execution_count": 88,
   "id": "24227418",
   "metadata": {},
   "outputs": [
    {
     "data": {
      "text/plain": [
       "0"
      ]
     },
     "execution_count": 88,
     "metadata": {},
     "output_type": "execute_result"
    }
   ],
   "source": [
    "l=[1,1,1]\n",
    "l.index(1)"
   ]
  }
 ],
 "metadata": {
  "kernelspec": {
   "display_name": "Python 3 (ipykernel)",
   "language": "python",
   "name": "python3"
  },
  "language_info": {
   "codemirror_mode": {
    "name": "ipython",
    "version": 3
   },
   "file_extension": ".py",
   "mimetype": "text/x-python",
   "name": "python",
   "nbconvert_exporter": "python",
   "pygments_lexer": "ipython3",
   "version": "3.11.0"
  }
 },
 "nbformat": 4,
 "nbformat_minor": 5
}
