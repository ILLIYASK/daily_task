{
 "cells": [
  {
   "cell_type": "code",
   "execution_count": 9,
   "id": "602a5344",
   "metadata": {},
   "outputs": [
    {
     "data": {
      "text/plain": [
       "{3, 4, 5}"
      ]
     },
     "execution_count": 9,
     "metadata": {},
     "output_type": "execute_result"
    }
   ],
   "source": [
    "s={1,2,3,4,5}\n",
    "s1={1,2,10,20}\n",
    "snc=s.difference(s1)\n",
    "snc"
   ]
  },
  {
   "cell_type": "code",
   "execution_count": 2,
   "id": "8506ae87",
   "metadata": {},
   "outputs": [
    {
     "data": {
      "text/plain": [
       "{10, 20}"
      ]
     },
     "execution_count": 2,
     "metadata": {},
     "output_type": "execute_result"
    }
   ],
   "source": [
    "s1.difference_update(s)\n",
    "s1"
   ]
  },
  {
   "cell_type": "code",
   "execution_count": 3,
   "id": "de004a8f",
   "metadata": {},
   "outputs": [
    {
     "data": {
      "text/plain": [
       "{10, 20}"
      ]
     },
     "execution_count": 3,
     "metadata": {},
     "output_type": "execute_result"
    }
   ],
   "source": [
    "s1"
   ]
  },
  {
   "cell_type": "code",
   "execution_count": 4,
   "id": "bfcddfe5",
   "metadata": {
    "scrolled": true
   },
   "outputs": [
    {
     "data": {
      "text/plain": [
       "builtin_function_or_method"
      ]
     },
     "execution_count": 4,
     "metadata": {},
     "output_type": "execute_result"
    }
   ],
   "source": [
    "type(len)"
   ]
  },
  {
   "cell_type": "code",
   "execution_count": 11,
   "id": "cc571356",
   "metadata": {},
   "outputs": [],
   "source": [
    "s.discard(1)"
   ]
  },
  {
   "cell_type": "code",
   "execution_count": 13,
   "id": "38cceb68",
   "metadata": {},
   "outputs": [],
   "source": [
    "s.add(1)"
   ]
  },
  {
   "cell_type": "code",
   "execution_count": 21,
   "id": "c1ff7ca2",
   "metadata": {},
   "outputs": [],
   "source": [
    "s.intersection_update({1,2,3,10,20,30})"
   ]
  },
  {
   "cell_type": "code",
   "execution_count": 22,
   "id": "ba837d24",
   "metadata": {
    "scrolled": true
   },
   "outputs": [
    {
     "data": {
      "text/plain": [
       "{1, 2, 3}"
      ]
     },
     "execution_count": 22,
     "metadata": {},
     "output_type": "execute_result"
    }
   ],
   "source": [
    "s"
   ]
  },
  {
   "cell_type": "code",
   "execution_count": 27,
   "id": "7930daf5",
   "metadata": {},
   "outputs": [
    {
     "data": {
      "text/plain": [
       "False"
      ]
     },
     "execution_count": 27,
     "metadata": {},
     "output_type": "execute_result"
    }
   ],
   "source": [
    "s.issubset({1,20,3})"
   ]
  },
  {
   "cell_type": "code",
   "execution_count": 43,
   "id": "159cae5a",
   "metadata": {},
   "outputs": [],
   "source": [
    "s={1,2,3,4,5}"
   ]
  },
  {
   "cell_type": "code",
   "execution_count": 33,
   "id": "fd203095",
   "metadata": {},
   "outputs": [],
   "source": [
    "s.remove(1)"
   ]
  },
  {
   "cell_type": "code",
   "execution_count": 30,
   "id": "fa4629cd",
   "metadata": {
    "scrolled": true
   },
   "outputs": [
    {
     "data": {
      "text/plain": [
       "2"
      ]
     },
     "execution_count": 30,
     "metadata": {},
     "output_type": "execute_result"
    }
   ],
   "source": [
    "s.pop()"
   ]
  },
  {
   "cell_type": "code",
   "execution_count": 44,
   "id": "5cb96fca",
   "metadata": {},
   "outputs": [],
   "source": [
    "s1={10,20,30,40,50,1}"
   ]
  },
  {
   "cell_type": "code",
   "execution_count": 45,
   "id": "cdf1f296",
   "metadata": {},
   "outputs": [],
   "source": [
    "s.symmetric_difference_update(s1)"
   ]
  },
  {
   "cell_type": "code",
   "execution_count": 46,
   "id": "533a7bb2",
   "metadata": {},
   "outputs": [
    {
     "data": {
      "text/plain": [
       "{2, 3, 4, 5, 10, 20, 30, 40, 50}"
      ]
     },
     "execution_count": 46,
     "metadata": {},
     "output_type": "execute_result"
    }
   ],
   "source": [
    "s"
   ]
  },
  {
   "cell_type": "code",
   "execution_count": 40,
   "id": "256108ac",
   "metadata": {},
   "outputs": [],
   "source": [
    "s2={'a','b'}"
   ]
  },
  {
   "cell_type": "code",
   "execution_count": 41,
   "id": "72c30ef8",
   "metadata": {},
   "outputs": [],
   "source": [
    "s4 = s.union(s1,s2)"
   ]
  },
  {
   "cell_type": "code",
   "execution_count": 42,
   "id": "1cd841aa",
   "metadata": {
    "scrolled": true
   },
   "outputs": [
    {
     "data": {
      "text/plain": [
       "{1, 10, 2, 20, 3, 30, 4, 40, 5, 50, 'a', 'b'}"
      ]
     },
     "execution_count": 42,
     "metadata": {},
     "output_type": "execute_result"
    }
   ],
   "source": [
    "s4"
   ]
  },
  {
   "cell_type": "code",
   "execution_count": 47,
   "id": "053c7b7d",
   "metadata": {},
   "outputs": [
    {
     "data": {
      "text/plain": [
       "123172073665"
      ]
     },
     "execution_count": 47,
     "metadata": {},
     "output_type": "execute_result"
    }
   ],
   "source": [
    "class hello:\n",
    "    pass\n",
    "obj=hello()\n",
    "hash(obj)"
   ]
  },
  {
   "cell_type": "code",
   "execution_count": 49,
   "id": "ee7571f8",
   "metadata": {},
   "outputs": [],
   "source": [
    "d={obj:1}"
   ]
  },
  {
   "cell_type": "code",
   "execution_count": 50,
   "id": "a3c4c54d",
   "metadata": {},
   "outputs": [
    {
     "data": {
      "text/plain": [
       "1"
      ]
     },
     "execution_count": 50,
     "metadata": {},
     "output_type": "execute_result"
    }
   ],
   "source": [
    "d[obj]"
   ]
  },
  {
   "cell_type": "code",
   "execution_count": 53,
   "id": "5ad3fbf3",
   "metadata": {},
   "outputs": [],
   "source": [
    "f = frozenset({1000,200,3000})"
   ]
  },
  {
   "cell_type": "code",
   "execution_count": 54,
   "id": "c337f5e2",
   "metadata": {},
   "outputs": [
    {
     "data": {
      "text/plain": [
       "frozenset({2, 3, 4, 5, 10, 20, 30, 40, 50, 200, 1000, 3000})"
      ]
     },
     "execution_count": 54,
     "metadata": {},
     "output_type": "execute_result"
    }
   ],
   "source": [
    "f.union(s)"
   ]
  },
  {
   "cell_type": "code",
   "execution_count": 55,
   "id": "fe5b5e5e",
   "metadata": {},
   "outputs": [
    {
     "data": {
      "text/plain": [
       "{2, 3, 4, 5, 10, 20, 30, 40, 50, 200, 1000, 3000}"
      ]
     },
     "execution_count": 55,
     "metadata": {},
     "output_type": "execute_result"
    }
   ],
   "source": [
    "s.union(f)"
   ]
  },
  {
   "cell_type": "code",
   "execution_count": null,
   "id": "e14d375c",
   "metadata": {},
   "outputs": [],
   "source": []
  },
  {
   "cell_type": "code",
   "execution_count": 60,
   "id": "99140bf9",
   "metadata": {
    "scrolled": true
   },
   "outputs": [
    {
     "name": "stdout",
     "output_type": "stream",
     "text": [
      "2 3 4 5 10 20 30 40 50 "
     ]
    }
   ],
   "source": [
    "for i in s:\n",
    "    print(i,end=\" \")"
   ]
  },
  {
   "cell_type": "code",
   "execution_count": 2,
   "id": "1d87a095",
   "metadata": {},
   "outputs": [],
   "source": [
    "class math:\n",
    "    def __init__(self,a):\n",
    "        self.a = a\n",
    "#         self.b = b\n",
    "    def __add__(self,other):\n",
    "        m1 = self.a+other\n",
    "#         m2 = self.b+other.b\n",
    "        return m1\n",
    "\n",
    "o1 = math(10)\n",
    "o2 = math(100)\n",
    "    \n",
    "    \n",
    "        "
   ]
  },
  {
   "cell_type": "code",
   "execution_count": 3,
   "id": "3c74ddf4",
   "metadata": {
    "scrolled": false
   },
   "outputs": [
    {
     "ename": "TypeError",
     "evalue": "unsupported operand type(s) for +: 'int' and 'math'",
     "output_type": "error",
     "traceback": [
      "\u001b[1;31m---------------------------------------------------------------------------\u001b[0m",
      "\u001b[1;31mTypeError\u001b[0m                                 Traceback (most recent call last)",
      "Cell \u001b[1;32mIn[3], line 1\u001b[0m\n\u001b[1;32m----> 1\u001b[0m \u001b[38;5;28mprint\u001b[39m(\u001b[43mo1\u001b[49m\u001b[38;5;241;43m+\u001b[39;49m\u001b[43mo2\u001b[49m)\n",
      "Cell \u001b[1;32mIn[2], line 6\u001b[0m, in \u001b[0;36mmath.__add__\u001b[1;34m(self, other)\u001b[0m\n\u001b[0;32m      5\u001b[0m     \u001b[38;5;28;01mdef\u001b[39;00m \u001b[38;5;21m__add__\u001b[39m(\u001b[38;5;28mself\u001b[39m,other):\n\u001b[1;32m----> 6\u001b[0m         m1 \u001b[38;5;241m=\u001b[39m \u001b[38;5;28;43mself\u001b[39;49m\u001b[38;5;241;43m.\u001b[39;49m\u001b[43ma\u001b[49m\u001b[38;5;241;43m+\u001b[39;49m\u001b[43mother\u001b[49m\n\u001b[0;32m      7\u001b[0m \u001b[38;5;66;03m#         m2 = self.b+other.b\u001b[39;00m\n\u001b[0;32m      8\u001b[0m         \u001b[38;5;28;01mreturn\u001b[39;00m m1\n",
      "\u001b[1;31mTypeError\u001b[0m: unsupported operand type(s) for +: 'int' and 'math'"
     ]
    }
   ],
   "source": [
    "print(o1+o2)"
   ]
  },
  {
   "cell_type": "code",
   "execution_count": 68,
   "id": "251d8a95",
   "metadata": {},
   "outputs": [],
   "source": [
    "def __add__(a,b):\n",
    "    return a-b\n"
   ]
  },
  {
   "cell_type": "code",
   "execution_count": 69,
   "id": "93858b86",
   "metadata": {
    "scrolled": false
   },
   "outputs": [
    {
     "data": {
      "text/plain": [
       "30"
      ]
     },
     "execution_count": 69,
     "metadata": {},
     "output_type": "execute_result"
    }
   ],
   "source": [
    "10+20"
   ]
  },
  {
   "cell_type": "code",
   "execution_count": null,
   "id": "43349261",
   "metadata": {},
   "outputs": [],
   "source": []
  },
  {
   "cell_type": "code",
   "execution_count": 72,
   "id": "153cfc92",
   "metadata": {},
   "outputs": [
    {
     "data": {
      "text/plain": [
       "30"
      ]
     },
     "execution_count": 72,
     "metadata": {},
     "output_type": "execute_result"
    }
   ],
   "source": [
    "a+b"
   ]
  },
  {
   "cell_type": "code",
   "execution_count": 73,
   "id": "c341eecf",
   "metadata": {},
   "outputs": [
    {
     "data": {
      "text/plain": [
       "30"
      ]
     },
     "execution_count": 73,
     "metadata": {},
     "output_type": "execute_result"
    }
   ],
   "source": [
    "a.__add__(b)"
   ]
  },
  {
   "cell_type": "code",
   "execution_count": 20,
   "id": "32a9e0c1",
   "metadata": {},
   "outputs": [
    {
     "name": "stdout",
     "output_type": "stream",
     "text": [
      "5\n"
     ]
    }
   ],
   "source": [
    "class sample(int):\n",
    "    def __init__(self,v):\n",
    "        self.m1 =v\n",
    "    def __add__(self,m1):\n",
    "        return self.m1+m1\n",
    "    def __floordiv__(self,m1):\n",
    "        if m1 == 0:\n",
    "            return \"zero devision not posible\"\n",
    "        else:\n",
    "            return self.m1 // m1\n",
    "        \n",
    "o1 = sample(\"5\")\n",
    "o2 = sample(10)\n",
    "print(o1)\n",
    "# print(o1+o2)\n",
    "# print(o1+2000)\n",
    "# print(o1//o2)\n",
    "# print(o1//100)\n",
    "# print(o1//0)\n",
    "\n",
    "\n",
    "\n"
   ]
  },
  {
   "cell_type": "code",
   "execution_count": 8,
   "id": "31265805",
   "metadata": {},
   "outputs": [],
   "source": []
  },
  {
   "cell_type": "code",
   "execution_count": 223,
   "id": "709e7abc",
   "metadata": {
    "scrolled": false
   },
   "outputs": [
    {
     "data": {
      "text/plain": [
       "1010"
      ]
     },
     "execution_count": 223,
     "metadata": {},
     "output_type": "execute_result"
    }
   ],
   "source": [
    "o1+o2"
   ]
  },
  {
   "cell_type": "code",
   "execution_count": 9,
   "id": "c56969ea",
   "metadata": {
    "scrolled": true
   },
   "outputs": [
    {
     "data": {
      "text/plain": [
       "100"
      ]
     },
     "execution_count": 9,
     "metadata": {},
     "output_type": "execute_result"
    }
   ],
   "source": [
    "o1//o2"
   ]
  },
  {
   "cell_type": "code",
   "execution_count": 79,
   "id": "a0fcd39a",
   "metadata": {
    "scrolled": false
   },
   "outputs": [
    {
     "data": {
      "text/plain": [
       "110"
      ]
     },
     "execution_count": 79,
     "metadata": {},
     "output_type": "execute_result"
    }
   ],
   "source": [
    "100+10"
   ]
  },
  {
   "cell_type": "code",
   "execution_count": 79,
   "id": "f3e3594b",
   "metadata": {
    "scrolled": false
   },
   "outputs": [
    {
     "data": {
      "text/plain": [
       "110"
      ]
     },
     "execution_count": 79,
     "metadata": {},
     "output_type": "execute_result"
    }
   ],
   "source": [
    "100+10"
   ]
  },
  {
   "cell_type": "code",
   "execution_count": 21,
   "id": "d7012cfb",
   "metadata": {},
   "outputs": [
    {
     "data": {
      "text/plain": [
       "28"
      ]
     },
     "execution_count": 21,
     "metadata": {},
     "output_type": "execute_result"
    }
   ],
   "source": [
    "o1.__sizeof__()"
   ]
  },
  {
   "cell_type": "code",
   "execution_count": 110,
   "id": "2bac08b8",
   "metadata": {
    "scrolled": false
   },
   "outputs": [
    {
     "data": {
      "text/plain": [
       "__main__.sample"
      ]
     },
     "execution_count": 110,
     "metadata": {},
     "output_type": "execute_result"
    }
   ],
   "source": [
    "type(o1)"
   ]
  },
  {
   "cell_type": "code",
   "execution_count": 156,
   "id": "a6198e32",
   "metadata": {},
   "outputs": [
    {
     "data": {
      "text/plain": [
       "164"
      ]
     },
     "execution_count": 156,
     "metadata": {},
     "output_type": "execute_result"
    }
   ],
   "source": [
    "sum(s)"
   ]
  },
  {
   "cell_type": "code",
   "execution_count": 154,
   "id": "1eadb2ea",
   "metadata": {},
   "outputs": [
    {
     "name": "stdout",
     "output_type": "stream",
     "text": [
      "164\n"
     ]
    }
   ],
   "source": [
    "su = 0 \n",
    "for i in s:\n",
    "    su += i\n",
    "print(su)\n"
   ]
  },
  {
   "cell_type": "code",
   "execution_count": 161,
   "id": "55c65610",
   "metadata": {},
   "outputs": [
    {
     "name": "stdout",
     "output_type": "stream",
     "text": [
      "100000\n"
     ]
    }
   ],
   "source": [
    "it=int(input())\n",
    "s.discard(it)"
   ]
  },
  {
   "cell_type": "code",
   "execution_count": 164,
   "id": "069a855a",
   "metadata": {},
   "outputs": [],
   "source": [
    "a={1,2,3}\n",
    "b={10,20,30,1}\n",
    "c=a.intersection(b)"
   ]
  },
  {
   "cell_type": "code",
   "execution_count": 165,
   "id": "0b3453e8",
   "metadata": {},
   "outputs": [
    {
     "data": {
      "text/plain": [
       "{1}"
      ]
     },
     "execution_count": 165,
     "metadata": {},
     "output_type": "execute_result"
    }
   ],
   "source": [
    "c"
   ]
  },
  {
   "cell_type": "code",
   "execution_count": 166,
   "id": "5dc73979",
   "metadata": {},
   "outputs": [],
   "source": [
    "c.intersection_update(a)"
   ]
  },
  {
   "cell_type": "code",
   "execution_count": 168,
   "id": "a653439e",
   "metadata": {},
   "outputs": [
    {
     "data": {
      "text/plain": [
       "{1}"
      ]
     },
     "execution_count": 168,
     "metadata": {},
     "output_type": "execute_result"
    }
   ],
   "source": [
    "a & b"
   ]
  },
  {
   "cell_type": "code",
   "execution_count": 169,
   "id": "740ef6d2",
   "metadata": {
    "scrolled": true
   },
   "outputs": [
    {
     "data": {
      "text/plain": [
       "{1, 2, 3, 10, 20, 30}"
      ]
     },
     "execution_count": 169,
     "metadata": {},
     "output_type": "execute_result"
    }
   ],
   "source": [
    "a | b"
   ]
  },
  {
   "cell_type": "code",
   "execution_count": 171,
   "id": "a06c634a",
   "metadata": {
    "scrolled": true
   },
   "outputs": [
    {
     "data": {
      "text/plain": [
       "{1, 2, 3}"
      ]
     },
     "execution_count": 171,
     "metadata": {},
     "output_type": "execute_result"
    }
   ],
   "source": [
    "a"
   ]
  },
  {
   "cell_type": "code",
   "execution_count": 172,
   "id": "cc6acf64",
   "metadata": {},
   "outputs": [
    {
     "data": {
      "text/plain": [
       "{1, 10, 20, 30}"
      ]
     },
     "execution_count": 172,
     "metadata": {},
     "output_type": "execute_result"
    }
   ],
   "source": [
    "b"
   ]
  },
  {
   "cell_type": "code",
   "execution_count": 173,
   "id": "151b9954",
   "metadata": {},
   "outputs": [],
   "source": [
    "d=a.difference(b)"
   ]
  },
  {
   "cell_type": "code",
   "execution_count": 174,
   "id": "7d5b600a",
   "metadata": {},
   "outputs": [],
   "source": [
    "d.difference_update(a)"
   ]
  },
  {
   "cell_type": "code",
   "execution_count": 175,
   "id": "ff455982",
   "metadata": {
    "scrolled": true
   },
   "outputs": [
    {
     "data": {
      "text/plain": [
       "set()"
      ]
     },
     "execution_count": 175,
     "metadata": {},
     "output_type": "execute_result"
    }
   ],
   "source": [
    "d"
   ]
  },
  {
   "cell_type": "code",
   "execution_count": 178,
   "id": "9fa7d022",
   "metadata": {},
   "outputs": [
    {
     "data": {
      "text/plain": [
       "{2, 3}"
      ]
     },
     "execution_count": 178,
     "metadata": {},
     "output_type": "execute_result"
    }
   ],
   "source": [
    "a - b"
   ]
  },
  {
   "cell_type": "code",
   "execution_count": 180,
   "id": "d5d84251",
   "metadata": {
    "scrolled": true
   },
   "outputs": [
    {
     "data": {
      "text/plain": [
       "False"
      ]
     },
     "execution_count": 180,
     "metadata": {},
     "output_type": "execute_result"
    }
   ],
   "source": [
    "a.issuperset()"
   ]
  },
  {
   "cell_type": "code",
   "execution_count": 181,
   "id": "e276e0c7",
   "metadata": {
    "scrolled": true
   },
   "outputs": [
    {
     "data": {
      "text/plain": [
       "{1, 2, 3}"
      ]
     },
     "execution_count": 181,
     "metadata": {},
     "output_type": "execute_result"
    }
   ],
   "source": [
    "a"
   ]
  },
  {
   "cell_type": "code",
   "execution_count": 185,
   "id": "9d8ec249",
   "metadata": {},
   "outputs": [],
   "source": [
    "a1={10,20,30,1,2}"
   ]
  },
  {
   "cell_type": "code",
   "execution_count": 184,
   "id": "887b75b2",
   "metadata": {},
   "outputs": [
    {
     "data": {
      "text/plain": [
       "True"
      ]
     },
     "execution_count": 184,
     "metadata": {},
     "output_type": "execute_result"
    }
   ],
   "source": [
    "a1.isdisjoint(a)"
   ]
  },
  {
   "cell_type": "code",
   "execution_count": 187,
   "id": "c6dbe4ef",
   "metadata": {},
   "outputs": [],
   "source": [
    "a1.intersection_update(a)"
   ]
  },
  {
   "cell_type": "code",
   "execution_count": 188,
   "id": "de2ef8bb",
   "metadata": {},
   "outputs": [
    {
     "data": {
      "text/plain": [
       "{1, 2}"
      ]
     },
     "execution_count": 188,
     "metadata": {},
     "output_type": "execute_result"
    }
   ],
   "source": [
    "a1"
   ]
  },
  {
   "cell_type": "code",
   "execution_count": 190,
   "id": "8cd706f2",
   "metadata": {},
   "outputs": [],
   "source": [
    "a = {1:10,2:20}\n",
    "b = {'a':100,'b':200}"
   ]
  },
  {
   "cell_type": "code",
   "execution_count": 191,
   "id": "77812387",
   "metadata": {},
   "outputs": [],
   "source": [
    "a.update(b)"
   ]
  },
  {
   "cell_type": "code",
   "execution_count": 195,
   "id": "481fb76a",
   "metadata": {},
   "outputs": [
    {
     "name": "stdout",
     "output_type": "stream",
     "text": [
      "{1: 10, 2: 20, 'a': 100, 'b': 200}\n",
      "{'a': 100, 'b': 200}\n"
     ]
    }
   ],
   "source": [
    "for i in (a,b):\n",
    "    print(i)"
   ]
  },
  {
   "cell_type": "code",
   "execution_count": 201,
   "id": "50188a29",
   "metadata": {},
   "outputs": [
    {
     "data": {
      "text/plain": [
       "{'a': 1, 'b': 1}"
      ]
     },
     "execution_count": 201,
     "metadata": {},
     "output_type": "execute_result"
    }
   ],
   "source": [
    "a.fromkeys(b,1)"
   ]
  },
  {
   "cell_type": "code",
   "execution_count": 199,
   "id": "a506d756",
   "metadata": {
    "scrolled": true
   },
   "outputs": [
    {
     "ename": "TypeError",
     "evalue": "'int' object is not iterable",
     "output_type": "error",
     "traceback": [
      "\u001b[1;31m---------------------------------------------------------------------------\u001b[0m",
      "\u001b[1;31mTypeError\u001b[0m                                 Traceback (most recent call last)",
      "Cell \u001b[1;32mIn[199], line 1\u001b[0m\n\u001b[1;32m----> 1\u001b[0m \u001b[43ma\u001b[49m\u001b[38;5;241;43m.\u001b[39;49m\u001b[43mfromkeys\u001b[49m\u001b[43m(\u001b[49m\u001b[38;5;241;43m1000\u001b[39;49m\u001b[43m,\u001b[49m\u001b[38;5;124;43m'\u001b[39;49m\u001b[38;5;124;43ma\u001b[39;49m\u001b[38;5;124;43m'\u001b[39;49m\u001b[43m)\u001b[49m\n",
      "\u001b[1;31mTypeError\u001b[0m: 'int' object is not iterable"
     ]
    }
   ],
   "source": []
  },
  {
   "cell_type": "code",
   "execution_count": 198,
   "id": "aea19744",
   "metadata": {},
   "outputs": [
    {
     "data": {
      "text/plain": [
       "{1: 10, 2: 20, 'a': 100, 'b': 200}"
      ]
     },
     "execution_count": 198,
     "metadata": {},
     "output_type": "execute_result"
    }
   ],
   "source": [
    "a"
   ]
  },
  {
   "cell_type": "code",
   "execution_count": 200,
   "id": "16aefc4b",
   "metadata": {},
   "outputs": [
    {
     "data": {
      "text/plain": [
       "True"
      ]
     },
     "execution_count": 200,
     "metadata": {},
     "output_type": "execute_result"
    }
   ],
   "source": [
    "'a' in a"
   ]
  },
  {
   "cell_type": "code",
   "execution_count": 204,
   "id": "d1793396",
   "metadata": {},
   "outputs": [],
   "source": [
    "a.setdefault('z')"
   ]
  },
  {
   "cell_type": "code",
   "execution_count": 203,
   "id": "a8b80daf",
   "metadata": {},
   "outputs": [
    {
     "data": {
      "text/plain": [
       "{1: 10, 2: 20, 'a': 100, 'b': 200, 'z': None}"
      ]
     },
     "execution_count": 203,
     "metadata": {},
     "output_type": "execute_result"
    }
   ],
   "source": [
    "a"
   ]
  },
  {
   "cell_type": "code",
   "execution_count": 206,
   "id": "a0f64291",
   "metadata": {},
   "outputs": [],
   "source": [
    "a.pop('z')"
   ]
  },
  {
   "cell_type": "code",
   "execution_count": 207,
   "id": "5761fa60",
   "metadata": {},
   "outputs": [
    {
     "data": {
      "text/plain": [
       "('b', 200)"
      ]
     },
     "execution_count": 207,
     "metadata": {},
     "output_type": "execute_result"
    }
   ],
   "source": [
    "a.popitem()"
   ]
  },
  {
   "cell_type": "code",
   "execution_count": 208,
   "id": "ce360295",
   "metadata": {},
   "outputs": [
    {
     "data": {
      "text/plain": [
       "100"
      ]
     },
     "execution_count": 208,
     "metadata": {},
     "output_type": "execute_result"
    }
   ],
   "source": [
    "a.get('a')"
   ]
  },
  {
   "cell_type": "code",
   "execution_count": 213,
   "id": "aecb1967",
   "metadata": {},
   "outputs": [
    {
     "ename": "TypeError",
     "evalue": "'NoneType' object is not callable",
     "output_type": "error",
     "traceback": [
      "\u001b[1;31m---------------------------------------------------------------------------\u001b[0m",
      "\u001b[1;31mTypeError\u001b[0m                                 Traceback (most recent call last)",
      "Cell \u001b[1;32mIn[213], line 1\u001b[0m\n\u001b[1;32m----> 1\u001b[0m \u001b[43ma\u001b[49m\u001b[38;5;241;43m.\u001b[39;49m\u001b[38;5;21;43m__hash__\u001b[39;49m\u001b[43m(\u001b[49m\u001b[43m)\u001b[49m\n",
      "\u001b[1;31mTypeError\u001b[0m: 'NoneType' object is not callable"
     ]
    }
   ],
   "source": [
    "a.__hash__()\n"
   ]
  }
 ],
 "metadata": {
  "kernelspec": {
   "display_name": "Python 3 (ipykernel)",
   "language": "python",
   "name": "python3"
  },
  "language_info": {
   "codemirror_mode": {
    "name": "ipython",
    "version": 3
   },
   "file_extension": ".py",
   "mimetype": "text/x-python",
   "name": "python",
   "nbconvert_exporter": "python",
   "pygments_lexer": "ipython3",
   "version": "3.11.0"
  }
 },
 "nbformat": 4,
 "nbformat_minor": 5
}
