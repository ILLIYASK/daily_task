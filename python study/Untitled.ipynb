{
 "cells": [
  {
   "cell_type": "code",
   "execution_count": null,
   "id": "a9cf0588",
   "metadata": {},
   "outputs": [],
   "source": [
    "from threading import *\n",
    "import time"
   ]
  },
  {
   "cell_type": "code",
   "execution_count": null,
   "id": "8a030e10",
   "metadata": {},
   "outputs": [],
   "source": [
    "class trd(Thread):\n",
    "    total = 5\n",
    "    def __init__(self,time,num,name):\n",
    "        super().__init__(name=name)\n",
    "        self.time = time\n",
    "        self.num = num\n",
    "    def run(self):\n",
    "        time.sleep(self.time)\n",
    "        if self.num <= trd.total:\n",
    "            trd.total -= self.num\n",
    "            print(current_thread().name,f\" got {self.num} of seat\")\n",
    "        else:\n",
    "            print(\"seat unavailable for\",current_thread().name)\n",
    "\n",
    "t1 = trd(time=2,num=5,name='t1')\n",
    "t2 = trd(time=3,num=5,name='t2')\n",
    "t1.start()\n",
    "t2.start() "
   ]
  },
  {
   "cell_type": "code",
   "execution_count": null,
   "id": "49f925fb",
   "metadata": {},
   "outputs": [],
   "source": [
    "class check(Thread):\n",
    "    def __init__(self,target,args,name):\n",
    "        super().__init__(name=name)\n",
    "        self.name = name\n",
    "        self.target =target\n",
    "        self.args = args\n",
    "    def run(self):\n",
    "        print(f\"{self.name} is started\")\n",
    "        return self.target(*self.args)"
   ]
  },
  {
   "cell_type": "code",
   "execution_count": null,
   "id": "e52c3d41",
   "metadata": {},
   "outputs": [],
   "source": [
    "def hello(n):\n",
    "    for i in range(n):\n",
    "        time.sleep(2)\n",
    "        print('hello')\n",
    "def hi(n):\n",
    "    for i in range(n):\n",
    "        time.sleep(2)\n",
    "        print('hi')"
   ]
  },
  {
   "cell_type": "code",
   "execution_count": null,
   "id": "c00450df",
   "metadata": {
    "scrolled": false
   },
   "outputs": [],
   "source": [
    "t1 = check(target=hello,args=(5,),name=\"t1\")\n",
    "t2 = check(target=hi,args=(5,),name=\"t2\")\n",
    "t2.start()\n",
    "t2.join()\n",
    "t2.is_alive()\n"
   ]
  },
  {
   "cell_type": "code",
   "execution_count": null,
   "id": "bac795e5",
   "metadata": {
    "scrolled": true
   },
   "outputs": [],
   "source": [
    "  help(Thread.__init__)\n",
    "    "
   ]
  },
  {
   "cell_type": "code",
   "execution_count": null,
   "id": "859eb27d",
   "metadata": {
    "scrolled": true
   },
   "outputs": [],
   "source": [
    "import threading\n",
    "\n",
    "# Shared resource\n",
    "counter = 0\n",
    "\n",
    "# Create a lock\n",
    "lock = threading.Lock()\n",
    "\n",
    "# Function to increment the counter\n",
    "def increment():\n",
    "    global counter\n",
    "    for _ in range(1000000):\n",
    "        # Acquire the lock before accessing the shared resource\n",
    "#         lock.acquire()\n",
    "        counter += 1\n",
    "        # Release the lock after accessing the shared resource\n",
    "#         lock.release()\n",
    "\n",
    "# Create multiple threads\n",
    "threads = []\n",
    "for _ in range(5):\n",
    "    t = threading.Thread(target=increment)\n",
    "    threads.append(t)\n",
    "\n",
    "# Start the threads\n",
    "for t in threads:\n",
    "    t.start()\n",
    "\n",
    "# Wait for all threads to finish\n",
    "for t in threads:\n",
    "    t.join()\n",
    "\n",
    "# Print the final value of the counter\n",
    "print(\"Counter:\", counter)\n"
   ]
  },
  {
   "cell_type": "code",
   "execution_count": null,
   "id": "7e3bdaa4",
   "metadata": {},
   "outputs": [],
   "source": [
    "l = []\n",
    "lk =threading.Lock()\n",
    "def add(x):\n",
    "    time.sleep(2)\n",
    "    \n",
    "    global l,lk\n",
    "    lk.acquire()\n",
    "    l.extend(x)\n",
    "    lk.release()\n",
    "def remove(v):\n",
    "    time.sleep(2)\n",
    "    global l,lk\n",
    "    lk.acquire()\n",
    "    l.remove(v)\n",
    "    lk.release()\n",
    "t1 = Thread(target=add,args=((1,2,3),),name='add')\n",
    "t2 = Thread(target=remove,args=(2,),name='remove')\n",
    "try :\n",
    "    t1.start()\n",
    "    t2.start()\n",
    "#     t1.start()\n",
    "    t1.join()\n",
    "    t2.join()\n",
    "except Exception as e:\n",
    "    print(e)\n",
    "else:\n",
    "    print(l)\n",
    "\n",
    "\n",
    "\n",
    "\n",
    "    "
   ]
  },
  {
   "cell_type": "code",
   "execution_count": null,
   "id": "eb3a6f4f",
   "metadata": {},
   "outputs": [],
   "source": [
    "a =[]\n",
    "a.extend((1,2))"
   ]
  },
  {
   "cell_type": "code",
   "execution_count": null,
   "id": "b74da9b2",
   "metadata": {},
   "outputs": [],
   "source": [
    "a.remove(10)"
   ]
  },
  {
   "cell_type": "code",
   "execution_count": 2,
   "id": "2509547a",
   "metadata": {},
   "outputs": [],
   "source": [
    "from threading import *"
   ]
  },
  {
   "cell_type": "code",
   "execution_count": 3,
   "id": "fb6cbe23",
   "metadata": {},
   "outputs": [],
   "source": [
    "import time"
   ]
  },
  {
   "cell_type": "code",
   "execution_count": null,
   "id": "c9671fce",
   "metadata": {},
   "outputs": [],
   "source": [
    "class tk:\n",
    "    def __init__(self,total):\n",
    "        self.total = total\n",
    "        self.l = Lock()\n",
    "        \n",
    "    def reserve(self,num):\n",
    "        self.l.acquire()\n",
    "        if self.total >= num:\n",
    "            print(f\"{num} seats allotted for {current_thread().name}\")\n",
    "            self.total -= num\n",
    "\n",
    "        else:\n",
    "            print(f\"zero seats allotted for {current_thread().name}\")\n",
    "        self.l.release()\n",
    "        self.l.release()\n",
    "        \n",
    "o = tk(5)\n",
    "\n",
    "t1 = Thread(target=o.reserve,args=(5,),name='t1')\n",
    "t2 = Thread(target=o.reserve,args=(5,),name='t2')\n",
    "t1.start()\n",
    "t2.start()\n",
    "t1.join()\n",
    "t2.join()\n",
    "print(f\"number of avaialble is {o.total}\")"
   ]
  },
  {
   "cell_type": "code",
   "execution_count": 9,
   "id": "1edbd515",
   "metadata": {
    "scrolled": true
   },
   "outputs": [
    {
     "name": "stdout",
     "output_type": "stream",
     "text": [
      "True\n",
      "hello\n",
      "True\n"
     ]
    }
   ],
   "source": [
    "import threading\n",
    "\n",
    "# Create a lock\n",
    "lock = threading.Lock()\n",
    "\n",
    "# Acquire the lock with a timeout of 2 seconds\n",
    "acquired = lock.acquire(blocking=False)\n",
    "print(acquired)\n",
    "if acquired:\n",
    "    try:\n",
    "        print(\"hello\")\n",
    "        pass\n",
    "    finally:\n",
    "        # Release the lock\n",
    "        lock.release()\n",
    "else:\n",
    "    print(\"timeout\")\n",
    "    pass\n",
    "print(acquired)"
   ]
  },
  {
   "cell_type": "code",
   "execution_count": 10,
   "id": "522a81c1",
   "metadata": {},
   "outputs": [
    {
     "name": "stdout",
     "output_type": "stream",
     "text": [
      "Final count: 0\n"
     ]
    }
   ],
   "source": [
    "import threading\n",
    "\n",
    "class Counter:\n",
    "    def __init__(self):\n",
    "        self.count = 0\n",
    "        self.lock = threading.Lock()\n",
    "\n",
    "    def increment(self):\n",
    "        self.lock.acquire()  # Acquire the lock\n",
    "        self.count += 1\n",
    "        self.lock.release()  # Release the lock\n",
    "\n",
    "    def decrement(self):\n",
    "        self.lock.acquire()  # Acquire the lock\n",
    "        self.count -= 1\n",
    "        self.lock.release()  # Release the lock\n",
    "\n",
    "counter = Counter()\n",
    "\n",
    "def worker1():b\n",
    "    for _ in range(100000):\n",
    "        counter.increment()\n",
    "\n",
    "def worker2():\n",
    "    for _ in range(100000):\n",
    "        counter.decrement()\n",
    "\n",
    "# Create two threads\n",
    "thread1 = threading.Thread(target=worker1)\n",
    "thread2 = threading.Thread(target=worker2)\n",
    "\n",
    "# Start the threads\n",
    "thread1.start()\n",
    "thread2.start()\n",
    "\n",
    "# Wait for the threads to finish\n",
    "thread1.join()\n",
    "thread2.join()\n",
    "\n",
    "# Print the final count\n",
    "print(\"Final count:\", counter.count)\n"
   ]
  },
  {
   "cell_type": "code",
   "execution_count": 33,
   "id": "d87597b1",
   "metadata": {},
   "outputs": [
    {
     "ename": "UnboundLocalError",
     "evalue": "cannot access local variable 'counter' where it is not associated with a value",
     "output_type": "error",
     "traceback": [
      "\u001b[1;31m---------------------------------------------------------------------------\u001b[0m",
      "\u001b[1;31mUnboundLocalError\u001b[0m                         Traceback (most recent call last)",
      "Cell \u001b[1;32mIn[33], line 6\u001b[0m\n\u001b[0;32m      4\u001b[0m     \u001b[38;5;28mprint\u001b[39m(counter)\n\u001b[0;32m      5\u001b[0m     counter \u001b[38;5;241m+\u001b[39m\u001b[38;5;241m=\u001b[39m \u001b[38;5;241m1\u001b[39m\n\u001b[1;32m----> 6\u001b[0m \u001b[43madd\u001b[49m\u001b[43m(\u001b[49m\u001b[43m)\u001b[49m\n",
      "Cell \u001b[1;32mIn[33], line 4\u001b[0m, in \u001b[0;36madd\u001b[1;34m()\u001b[0m\n\u001b[0;32m      3\u001b[0m \u001b[38;5;28;01mdef\u001b[39;00m \u001b[38;5;21madd\u001b[39m():\n\u001b[1;32m----> 4\u001b[0m     \u001b[38;5;28mprint\u001b[39m(\u001b[43mcounter\u001b[49m)\n\u001b[0;32m      5\u001b[0m     counter \u001b[38;5;241m+\u001b[39m\u001b[38;5;241m=\u001b[39m \u001b[38;5;241m1\u001b[39m\n",
      "\u001b[1;31mUnboundLocalError\u001b[0m: cannot access local variable 'counter' where it is not associated with a value"
     ]
    }
   ],
   "source": [
    "counter = int(5)\n",
    "\n",
    "def add():\n",
    "    print(counter)\n",
    "    counter += 1\n",
    "add()"
   ]
  },
  {
   "cell_type": "code",
   "execution_count": 30,
   "id": "bd1cd875",
   "metadata": {},
   "outputs": [],
   "source": [
    "\n",
    "b = int(5)\n",
    "def hello():\n",
    "    print(b)"
   ]
  },
  {
   "cell_type": "code",
   "execution_count": 44,
   "id": "c42ad523",
   "metadata": {
    "scrolled": true
   },
   "outputs": [],
   "source": [
    "counter = {5,6}\n",
    "\n",
    "def add():\n",
    "    counter.add(50)\n",
    "add()"
   ]
  },
  {
   "cell_type": "code",
   "execution_count": 42,
   "id": "8d473544",
   "metadata": {
    "scrolled": true
   },
   "outputs": [
    {
     "data": {
      "text/plain": [
       "{5, 6, 50}"
      ]
     },
     "execution_count": 42,
     "metadata": {},
     "output_type": "execute_result"
    }
   ],
   "source": [
    "counter"
   ]
  },
  {
   "cell_type": "code",
   "execution_count": 61,
   "id": "997ba123",
   "metadata": {},
   "outputs": [],
   "source": [
    "x = 10\n",
    "def ab():\n",
    "#     x=100\n",
    "    x= x+1000\n",
    "    print(x)"
   ]
  },
  {
   "cell_type": "code",
   "execution_count": 62,
   "id": "58526cbe",
   "metadata": {
    "scrolled": true
   },
   "outputs": [
    {
     "ename": "UnboundLocalError",
     "evalue": "cannot access local variable 'x' where it is not associated with a value",
     "output_type": "error",
     "traceback": [
      "\u001b[1;31m---------------------------------------------------------------------------\u001b[0m",
      "\u001b[1;31mUnboundLocalError\u001b[0m                         Traceback (most recent call last)",
      "Cell \u001b[1;32mIn[62], line 1\u001b[0m\n\u001b[1;32m----> 1\u001b[0m \u001b[43mab\u001b[49m\u001b[43m(\u001b[49m\u001b[43m)\u001b[49m\n",
      "Cell \u001b[1;32mIn[61], line 4\u001b[0m, in \u001b[0;36mab\u001b[1;34m()\u001b[0m\n\u001b[0;32m      2\u001b[0m \u001b[38;5;28;01mdef\u001b[39;00m \u001b[38;5;21mab\u001b[39m():\n\u001b[0;32m      3\u001b[0m \u001b[38;5;66;03m#     x=100\u001b[39;00m\n\u001b[1;32m----> 4\u001b[0m     x\u001b[38;5;241m=\u001b[39m \u001b[43mx\u001b[49m\u001b[38;5;241m+\u001b[39m\u001b[38;5;241m1000\u001b[39m\n\u001b[0;32m      5\u001b[0m     \u001b[38;5;28mprint\u001b[39m(x)\n",
      "\u001b[1;31mUnboundLocalError\u001b[0m: cannot access local variable 'x' where it is not associated with a value"
     ]
    }
   ],
   "source": [
    "ab()"
   ]
  },
  {
   "cell_type": "code",
   "execution_count": 63,
   "id": "0085a976",
   "metadata": {},
   "outputs": [],
   "source": [
    "from threading import *"
   ]
  },
  {
   "cell_type": "code",
   "execution_count": 73,
   "id": "f696d13c",
   "metadata": {},
   "outputs": [
    {
     "name": "stdout",
     "output_type": "stream",
     "text": [
      "hi\n"
     ]
    }
   ],
   "source": [
    "l = Lock()\n",
    "if l.acquire(blocking=True,timeout=2):\n",
    "    print('hi')\n",
    "else:\n",
    "    print(\"no\")\n",
    "l.release()"
   ]
  },
  {
   "cell_type": "code",
   "execution_count": 75,
   "id": "a4f478a9",
   "metadata": {
    "scrolled": true
   },
   "outputs": [
    {
     "name": "stdout",
     "output_type": "stream",
     "text": [
      "Final counter value: 0\n"
     ]
    }
   ],
   "source": [
    "from threading import Lock, Thread\n",
    "\n",
    "counter = 0\n",
    "lock = Lock()\n",
    "\n",
    "def increment():\n",
    "    global counter\n",
    "    lock.acquire(blocking=False)\n",
    "    try:\n",
    "        counter += 1\n",
    "    finally:\n",
    "        lock.release()\n",
    "\n",
    "def decrement():\n",
    "    global counter\n",
    "    lock.acquire(blocking=False)\n",
    "    try:\n",
    "        counter -= 1\n",
    "    finally:\n",
    "        lock.release()\n",
    "\n",
    "# Create multiple threads to increment and decrement the counter\n",
    "threads = []\n",
    "for _ in range(10):\n",
    "    t1 = Thread(target=increment)\n",
    "    t2 = Thread(target=decrement)\n",
    "    threads.extend([t1, t2])\n",
    "\n",
    "# Start the threads\n",
    "for thread in threads:\n",
    "    thread.start()\n",
    "\n",
    "# Wait for all threads to complete\n",
    "for thread in threads:\n",
    "    thread.join()\n",
    "\n",
    "print(\"Final counter value:\", counter)\n"
   ]
  },
  {
   "cell_type": "code",
   "execution_count": 80,
   "id": "e7f83907",
   "metadata": {},
   "outputs": [
    {
     "name": "stdout",
     "output_type": "stream",
     "text": [
      "5 seats allotted for t1\n",
      "t1\n",
      "zero seats allotted for t2\n",
      "t2\n",
      "number of avaialble is 0\n"
     ]
    }
   ],
   "source": [
    "class tk:\n",
    "    def __init__(self,total):\n",
    "        self.total = total\n",
    "        self.l = Lock()\n",
    "        \n",
    "    def reserve(self,num):\n",
    "        self.l.acquire()\n",
    "        if self.total >= num:\n",
    "            print(f\"{num} seats allotted for {current_thread().name}\")\n",
    "            self.total -= num\n",
    "\n",
    "        else:\n",
    "            print(f\"zero seats allotted for {current_thread().name}\")\n",
    "        self.l.release()\n",
    "        \n",
    "o = tk(5)\n",
    "\n",
    "t1 = Thread(target=o.reserve,args=(5,),name='t1')\n",
    "t2 = Thread(target=o.reserve,args=(5,),name='t2')\n",
    "t1.start()\n",
    "t2.start()\n",
    "t1.join()\n",
    "t2.join()\n",
    "print(f\"number of avaialble is {o.total}\")"
   ]
  }
 ],
 "metadata": {
  "kernelspec": {
   "display_name": "Python 3 (ipykernel)",
   "language": "python",
   "name": "python3"
  },
  "language_info": {
   "codemirror_mode": {
    "name": "ipython",
    "version": 3
   },
   "file_extension": ".py",
   "mimetype": "text/x-python",
   "name": "python",
   "nbconvert_exporter": "python",
   "pygments_lexer": "ipython3",
   "version": "3.11.0"
  }
 },
 "nbformat": 4,
 "nbformat_minor": 5
}
