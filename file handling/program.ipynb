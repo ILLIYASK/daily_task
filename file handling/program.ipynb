{
 "cells": [
  {
   "cell_type": "markdown",
   "id": "5287aa5d",
   "metadata": {},
   "source": [
    "## write()"
   ]
  },
  {
   "cell_type": "code",
   "execution_count": 27,
   "id": "f227c411",
   "metadata": {
    "scrolled": true
   },
   "outputs": [
    {
     "data": {
      "text/plain": [
       "21"
      ]
     },
     "execution_count": 27,
     "metadata": {},
     "output_type": "execute_result"
    }
   ],
   "source": [
    "f=open('demo','w')\n",
    "f.write('hello, how are you!!!')"
   ]
  },
  {
   "cell_type": "code",
   "execution_count": 28,
   "id": "094d0da5",
   "metadata": {},
   "outputs": [],
   "source": [
    "f.close()"
   ]
  },
  {
   "cell_type": "code",
   "execution_count": 30,
   "id": "a523b784",
   "metadata": {},
   "outputs": [],
   "source": [
    "with open('demo','a') as f:\n",
    "    f.write('ok')"
   ]
  },
  {
   "cell_type": "markdown",
   "id": "ce84fd97",
   "metadata": {},
   "source": [
    "## writelines()"
   ]
  },
  {
   "cell_type": "code",
   "execution_count": 40,
   "id": "71ed92e7",
   "metadata": {},
   "outputs": [],
   "source": [
    "with open('demo','w') as f:\n",
    "    l=['mango \\n \\n','apple ']\n",
    "    f.writelines(l)"
   ]
  },
  {
   "cell_type": "markdown",
   "id": "699888bb",
   "metadata": {},
   "source": [
    "## read()"
   ]
  },
  {
   "cell_type": "code",
   "execution_count": 35,
   "id": "95fcd65b",
   "metadata": {},
   "outputs": [
    {
     "name": "stdout",
     "output_type": "stream",
     "text": [
      "mango \n"
     ]
    }
   ],
   "source": [
    "with open('demo','r') as f:\n",
    "    data=f.read(6)\n",
    "    print(data)"
   ]
  },
  {
   "cell_type": "markdown",
   "id": "c795444c",
   "metadata": {},
   "source": [
    "## readline()"
   ]
  },
  {
   "cell_type": "code",
   "execution_count": 38,
   "id": "93ae7464",
   "metadata": {},
   "outputs": [
    {
     "name": "stdout",
     "output_type": "stream",
     "text": [
      "apple\n"
     ]
    }
   ],
   "source": [
    "with open('demo','r') as f:\n",
    "    line1=f.readline()\n",
    "    line1=f.readline()\n",
    "    print(line1)"
   ]
  },
  {
   "cell_type": "markdown",
   "id": "3e2da4c1",
   "metadata": {},
   "source": [
    "## readlines()"
   ]
  },
  {
   "cell_type": "code",
   "execution_count": 41,
   "id": "25854333",
   "metadata": {},
   "outputs": [
    {
     "name": "stdout",
     "output_type": "stream",
     "text": [
      "['mango \\n', ' \\n', 'apple ']\n"
     ]
    }
   ],
   "source": [
    "with open('demo','r') as f:\n",
    "    line1=f.readlines()\n",
    "    print(line1)"
   ]
  },
  {
   "cell_type": "markdown",
   "id": "34cc8d94",
   "metadata": {},
   "source": [
    "## tell()"
   ]
  },
  {
   "cell_type": "code",
   "execution_count": 43,
   "id": "4bc22080",
   "metadata": {},
   "outputs": [
    {
     "name": "stdout",
     "output_type": "stream",
     "text": [
      "mango \n",
      "\n",
      "8\n"
     ]
    }
   ],
   "source": [
    "with open('demo','r') as f:\n",
    "    line1=f.readline()\n",
    "    print(line1)\n",
    "    print(f.tell())"
   ]
  },
  {
   "cell_type": "markdown",
   "id": "9c2dda45",
   "metadata": {},
   "source": [
    "## seek()"
   ]
  },
  {
   "cell_type": "code",
   "execution_count": 47,
   "id": "a5595ab7",
   "metadata": {
    "scrolled": true
   },
   "outputs": [
    {
     "name": "stdout",
     "output_type": "stream",
     "text": [
      "789\n"
     ]
    }
   ],
   "source": [
    "with open('demo','rb') as f:\n",
    "    f.seek(-3,2)\n",
    "    print(f.read().decode('utf-8'))"
   ]
  },
  {
   "cell_type": "markdown",
   "id": "958ff238",
   "metadata": {},
   "source": [
    ".decode('utf-8')"
   ]
  },
  {
   "cell_type": "code",
   "execution_count": 53,
   "id": "87ba2131",
   "metadata": {},
   "outputs": [
    {
     "name": "stdout",
     "output_type": "stream",
     "text": [
      "['ango \\n', 'apple']\n"
     ]
    }
   ],
   "source": [
    "with open('demo','w+') as f:\n",
    "    l=['mango \\n','apple']\n",
    "    f.writelines(l)\n",
    "    f.read(4)\n",
    "    f.seek(1)\n",
    "    print(f.readlines())"
   ]
  },
  {
   "cell_type": "markdown",
   "id": "a4cbbb1b",
   "metadata": {},
   "source": [
    "## rename()"
   ]
  },
  {
   "cell_type": "code",
   "execution_count": 54,
   "id": "26e60049",
   "metadata": {},
   "outputs": [],
   "source": [
    "import os\n",
    "os.rename('demo','xyz')"
   ]
  },
  {
   "cell_type": "markdown",
   "id": "5fef4857",
   "metadata": {},
   "source": [
    "## delete()"
   ]
  },
  {
   "cell_type": "code",
   "execution_count": 55,
   "id": "14d79f65",
   "metadata": {},
   "outputs": [],
   "source": [
    "os.remove('xyz')"
   ]
  }
 ],
 "metadata": {
  "kernelspec": {
   "display_name": "Python 3 (ipykernel)",
   "language": "python",
   "name": "python3"
  },
  "language_info": {
   "codemirror_mode": {
    "name": "ipython",
    "version": 3
   },
   "file_extension": ".py",
   "mimetype": "text/x-python",
   "name": "python",
   "nbconvert_exporter": "python",
   "pygments_lexer": "ipython3",
   "version": "3.11.0"
  }
 },
 "nbformat": 4,
 "nbformat_minor": 5
}
