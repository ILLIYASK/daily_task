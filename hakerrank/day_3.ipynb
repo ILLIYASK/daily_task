{
 "cells": [
  {
   "cell_type": "code",
   "execution_count": 9,
   "id": "cdc67331",
   "metadata": {},
   "outputs": [],
   "source": [
    "def minion_game(string):\n",
    "    # your code goes here\n",
    "    cons=0\n",
    "    vaw=0\n",
    "    vowel='aeiou'.capitalize()\n",
    "    s=len(string)\n",
    "    \n",
    "    for i in range(s):\n",
    "        if string[i] in vowel:\n",
    "            vow+=s-i\n",
    "        else:\n",
    "            cons+=s-i\n",
    "            \n",
    "                 \n",
    "    if vowel < consonant:\n",
    "        print('Stuart ' + str(consonant))\n",
    "    elif vowel > consonant:\n",
    "        print('Kevin ' + str(vowel))\n",
    "    else:\n",
    "        print('Draw')\n",
    "    "
   ]
  },
  {
   "cell_type": "code",
   "execution_count": null,
   "id": "298923b4",
   "metadata": {},
   "outputs": [],
   "source": []
  },
  {
   "cell_type": "code",
   "execution_count": 8,
   "id": "65db0e0f",
   "metadata": {
    "scrolled": true
   },
   "outputs": [
    {
     "data": {
      "text/plain": [
       "2"
      ]
     },
     "execution_count": 8,
     "metadata": {},
     "output_type": "execute_result"
    }
   ],
   "source": [
    "s='banana'\n",
    "s.find('na')"
   ]
  },
  {
   "cell_type": "code",
   "execution_count": 2,
   "id": "a21eae10",
   "metadata": {
    "scrolled": true
   },
   "outputs": [
    {
     "data": {
      "text/plain": [
       "1"
      ]
     },
     "execution_count": 2,
     "metadata": {},
     "output_type": "execute_result"
    }
   ],
   "source": [
    "s[1+1:].count('ana')"
   ]
  },
  {
   "cell_type": "code",
   "execution_count": 1,
   "id": "d011678c",
   "metadata": {
    "scrolled": true
   },
   "outputs": [
    {
     "name": "stdout",
     "output_type": "stream",
     "text": [
      "4\n"
     ]
    }
   ],
   "source": [
    "for i in range(5):\n",
    "    pass\n",
    "else:\n",
    "    print(i)"
   ]
  },
  {
   "cell_type": "code",
   "execution_count": 5,
   "id": "29d1f84c",
   "metadata": {
    "scrolled": false
   },
   "outputs": [
    {
     "name": "stdout",
     "output_type": "stream",
     "text": [
      "0\n",
      "1\n"
     ]
    },
    {
     "data": {
      "text/plain": [
       "1"
      ]
     },
     "execution_count": 5,
     "metadata": {},
     "output_type": "execute_result"
    }
   ],
   "source": [
    "for i in range(2):\n",
    "    print(i)\n",
    "i"
   ]
  },
  {
   "cell_type": "code",
   "execution_count": 68,
   "id": "4a5dc3a7",
   "metadata": {},
   "outputs": [],
   "source": [
    "string='AABCAAADA'\n",
    "k=3"
   ]
  },
  {
   "cell_type": "code",
   "execution_count": 69,
   "id": "819b93a0",
   "metadata": {},
   "outputs": [
    {
     "name": "stdout",
     "output_type": "stream",
     "text": [
      "AB\n",
      "AC\n",
      "AD\n"
     ]
    }
   ],
   "source": [
    "len_sb=len(string)//k\n",
    "for i in range(k):\n",
    "    subs=set()\n",
    "    for j in string[i*len_sb:(i+1)*len_sb]:\n",
    "        subs.add(j)\n",
    "    l=list(subs)\n",
    "    l.sort()\n",
    "    print(\"\".join(l))\n"
   ]
  },
  {
   "cell_type": "code",
   "execution_count": 89,
   "id": "d6845aaa",
   "metadata": {},
   "outputs": [
    {
     "name": "stdout",
     "output_type": "stream",
     "text": [
      "AB\n",
      "CA\n",
      "AD\n"
     ]
    }
   ],
   "source": [
    "for i in range(k,len(string)+1,k):\n",
    "    s=\"\"\n",
    "    for j in string[i-k:i]:\n",
    "        if j not in s:\n",
    "            s+=j\n",
    "    print(s)\n",
    "        \n"
   ]
  },
  {
   "cell_type": "code",
   "execution_count": 23,
   "id": "d73d65b5",
   "metadata": {
    "scrolled": true
   },
   "outputs": [
    {
     "data": {
      "text/plain": [
       "{'a', 'c'}"
      ]
     },
     "execution_count": 23,
     "metadata": {},
     "output_type": "execute_result"
    }
   ],
   "source": [
    "s={'a'}\n",
    "s.add('c')\n",
    "s"
   ]
  },
  {
   "cell_type": "code",
   "execution_count": 33,
   "id": "6538364c",
   "metadata": {
    "scrolled": true
   },
   "outputs": [
    {
     "data": {
      "text/plain": [
       "['abc']"
      ]
     },
     "execution_count": 33,
     "metadata": {},
     "output_type": "execute_result"
    }
   ],
   "source": [
    "s='abc'\n",
    "s.rsplit(None,-1)"
   ]
  },
  {
   "cell_type": "code",
   "execution_count": 34,
   "id": "caa9e7eb",
   "metadata": {},
   "outputs": [],
   "source": [
    "a,b='cb'"
   ]
  },
  {
   "cell_type": "code",
   "execution_count": 48,
   "id": "6ebd2ab8",
   "metadata": {
    "scrolled": false
   },
   "outputs": [
    {
     "ename": "AttributeError",
     "evalue": "'set' object has no attribute 'sort'",
     "output_type": "error",
     "traceback": [
      "\u001b[1;31m---------------------------------------------------------------------------\u001b[0m",
      "\u001b[1;31mAttributeError\u001b[0m                            Traceback (most recent call last)",
      "Cell \u001b[1;32mIn[48], line 2\u001b[0m\n\u001b[0;32m      1\u001b[0m a\u001b[38;5;241m=\u001b[39m{\u001b[38;5;124m'\u001b[39m\u001b[38;5;124mc\u001b[39m\u001b[38;5;124m'\u001b[39m,\u001b[38;5;124m'\u001b[39m\u001b[38;5;124mb\u001b[39m\u001b[38;5;124m'\u001b[39m,\u001b[38;5;124m'\u001b[39m\u001b[38;5;124ma\u001b[39m\u001b[38;5;124m'\u001b[39m}\n\u001b[1;32m----> 2\u001b[0m \u001b[43ma\u001b[49m\u001b[38;5;241;43m.\u001b[39;49m\u001b[43msort\u001b[49m()\n",
      "\u001b[1;31mAttributeError\u001b[0m: 'set' object has no attribute 'sort'"
     ]
    }
   ],
   "source": [
    "a={'c','b','a'}\n",
    "a.sort()"
   ]
  },
  {
   "cell_type": "code",
   "execution_count": 81,
   "id": "5a01074f",
   "metadata": {},
   "outputs": [],
   "source": [
    "string='AABCAAADA'\n",
    "k=3"
   ]
  },
  {
   "cell_type": "code",
   "execution_count": 86,
   "id": "23acc9cd",
   "metadata": {
    "scrolled": true
   },
   "outputs": [
    {
     "name": "stdout",
     "output_type": "stream",
     "text": [
      "AAB\n",
      "CAA\n",
      "ADA\n"
     ]
    }
   ],
   "source": [
    "for i in range(k,len(string)+1,k):\n",
    "    print(string[i-k:i])"
   ]
  },
  {
   "cell_type": "code",
   "execution_count": 84,
   "id": "c5b35f12",
   "metadata": {
    "scrolled": true
   },
   "outputs": [
    {
     "name": "stdout",
     "output_type": "stream",
     "text": [
      "3\n",
      "6\n",
      "9\n"
     ]
    }
   ],
   "source": [
    "for i in range(3,10,3):\n",
    "    print(i)"
   ]
  },
  {
   "cell_type": "code",
   "execution_count": 90,
   "id": "443c29e9",
   "metadata": {},
   "outputs": [
    {
     "data": {
      "text/plain": [
       "'AABCAAADA'"
      ]
     },
     "execution_count": 90,
     "metadata": {},
     "output_type": "execute_result"
    }
   ],
   "source": [
    "string.strip()"
   ]
  },
  {
   "cell_type": "code",
   "execution_count": null,
   "id": "cc9508ae",
   "metadata": {},
   "outputs": [],
   "source": []
  }
 ],
 "metadata": {
  "kernelspec": {
   "display_name": "Python 3 (ipykernel)",
   "language": "python",
   "name": "python3"
  },
  "language_info": {
   "codemirror_mode": {
    "name": "ipython",
    "version": 3
   },
   "file_extension": ".py",
   "mimetype": "text/x-python",
   "name": "python",
   "nbconvert_exporter": "python",
   "pygments_lexer": "ipython3",
   "version": "3.11.0"
  }
 },
 "nbformat": 4,
 "nbformat_minor": 5
}
