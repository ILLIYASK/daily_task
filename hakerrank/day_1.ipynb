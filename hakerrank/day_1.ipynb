{
 "cells": [
  {
   "cell_type": "code",
   "execution_count": 8,
   "id": "e849aa47",
   "metadata": {},
   "outputs": [],
   "source": [
    "result={'alpha':False,\n",
    "'num':False,\n",
    "'alnum':False,\n",
    "'low':False,\n",
    "'upp':False\n",
    "}"
   ]
  },
  {
   "cell_type": "code",
   "execution_count": null,
   "id": "6d34f53a",
   "metadata": {},
   "outputs": [],
   "source": []
  },
  {
   "cell_type": "code",
   "execution_count": 9,
   "id": "2c64ec29",
   "metadata": {},
   "outputs": [
    {
     "name": "stdout",
     "output_type": "stream",
     "text": [
      "strqA2\n"
     ]
    }
   ],
   "source": [
    "s=input(\"str\")\n",
    "\n",
    "for i in s:\n",
    "    \n",
    "    if i.isalnum():\n",
    "        result['alnum']=True\n",
    "        if i.isalpha():\n",
    "            result['alpha']=True\n",
    "            if i.upper():\n",
    "                result['upp']=True\n",
    "            if i.lower():\n",
    "                result['low']=True\n",
    "        if i.isdigit():\n",
    "            result['num']=True\n",
    " "
   ]
  },
  {
   "cell_type": "code",
   "execution_count": 10,
   "id": "4f3e60fb",
   "metadata": {
    "scrolled": false
   },
   "outputs": [
    {
     "name": "stdout",
     "output_type": "stream",
     "text": [
      "True\n",
      "True\n",
      "True\n",
      "True\n",
      "True\n"
     ]
    }
   ],
   "source": [
    "for i in result.values():\n",
    "    print(i)"
   ]
  },
  {
   "cell_type": "code",
   "execution_count": 5,
   "id": "8a9aff96",
   "metadata": {},
   "outputs": [
    {
     "name": "stdout",
     "output_type": "stream",
     "text": [
      "    H    \n",
      "   HHH   \n",
      "  HHHHH  \n",
      " HHHHHHH \n",
      "HHHHHHHHH\n"
     ]
    }
   ],
   "source": [
    "for i in range(1,10,2):\n",
    "    print(('H'*i).center(9,\" \"))"
   ]
  },
  {
   "cell_type": "code",
   "execution_count": 7,
   "id": "52375545",
   "metadata": {},
   "outputs": [],
   "source": [
    "s='ABCDEFGHIJKLIMNOQRSTUVWXYZ'\n"
   ]
  },
  {
   "cell_type": "code",
   "execution_count": 10,
   "id": "c78de844",
   "metadata": {},
   "outputs": [],
   "source": [
    "re=[s[i] for i in range(len(s)) if i%3==0]"
   ]
  },
  {
   "cell_type": "code",
   "execution_count": 11,
   "id": "501f1dde",
   "metadata": {
    "scrolled": false
   },
   "outputs": [
    {
     "data": {
      "text/plain": [
       "['A', 'D', 'G', 'J', 'I', 'O', 'S', 'V', 'Y']"
      ]
     },
     "execution_count": 11,
     "metadata": {},
     "output_type": "execute_result"
    }
   ],
   "source": [
    "re"
   ]
  },
  {
   "cell_type": "code",
   "execution_count": 43,
   "id": "45c8e4e7",
   "metadata": {},
   "outputs": [
    {
     "name": "stdout",
     "output_type": "stream",
     "text": [
      "N :9\n"
     ]
    }
   ],
   "source": [
    "N=int(input(\"N :\"))"
   ]
  },
  {
   "cell_type": "code",
   "execution_count": 44,
   "id": "649dd853",
   "metadata": {},
   "outputs": [
    {
     "name": "stdout",
     "output_type": "stream",
     "text": [
      "------------.|.------------\n",
      "---------.|..|..|.---------\n",
      "------.|..|..|..|..|.------\n",
      "---.|..|..|..|..|..|..|.---\n",
      "----------WELCOME----------\n",
      "---.|..|..|..|..|..|..|.---\n",
      "------.|..|..|..|..|.------\n",
      "---------.|..|..|.---------\n",
      "------------.|.------------\n"
     ]
    }
   ],
   "source": [
    "s='.|.'\n",
    "for i in range(1,N,2):\n",
    "        print((s*i).center(3*N,\"-\"))\n",
    "print(('WELCOME').center(3*N,\"-\"))\n",
    "for i in range(N-2,0,-2):\n",
    "        print((s*i).center(3*N,\"-\"))\n"
   ]
  },
  {
   "cell_type": "code",
   "execution_count": 42,
   "id": "b8344ee9",
   "metadata": {},
   "outputs": [
    {
     "data": {
      "text/plain": [
       "''"
      ]
     },
     "execution_count": 42,
     "metadata": {},
     "output_type": "execute_result"
    }
   ],
   "source": [
    "s*0"
   ]
  }
 ],
 "metadata": {
  "kernelspec": {
   "display_name": "Python 3 (ipykernel)",
   "language": "python",
   "name": "python3"
  },
  "language_info": {
   "codemirror_mode": {
    "name": "ipython",
    "version": 3
   },
   "file_extension": ".py",
   "mimetype": "text/x-python",
   "name": "python",
   "nbconvert_exporter": "python",
   "pygments_lexer": "ipython3",
   "version": "3.11.0"
  }
 },
 "nbformat": 4,
 "nbformat_minor": 5
}
