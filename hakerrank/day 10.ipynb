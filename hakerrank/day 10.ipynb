{
 "cells": [
  {
   "cell_type": "code",
   "execution_count": 1,
   "id": "644059ce",
   "metadata": {},
   "outputs": [],
   "source": []
  },
  {
   "cell_type": "code",
   "execution_count": 24,
   "id": "33b3b30d",
   "metadata": {
    "scrolled": true
   },
   "outputs": [
    {
     "ename": "SyntaxError",
     "evalue": "positional argument follows keyword argument (450047758.py, line 11)",
     "output_type": "error",
     "traceback": [
      "\u001b[1;36m  Cell \u001b[1;32mIn[24], line 11\u001b[1;36m\u001b[0m\n\u001b[1;33m    sort_com.sort(key=lambda x :x[0],x[1])\u001b[0m\n\u001b[1;37m                                         ^\u001b[0m\n\u001b[1;31mSyntaxError\u001b[0m\u001b[1;31m:\u001b[0m positional argument follows keyword argument\n"
     ]
    }
   ],
   "source": [
    "from itertools import combinations\n",
    "def sorting(x):\n",
    "    x=list(x)\n",
    "    x.sort()\n",
    "    return x\n",
    "word,num = input().split()\n",
    "com = list(combinations(word,int(num)))\n",
    "print(com)\n",
    "sort_com = list(map(sorting,com))\n",
    "print(sort_com)\n",
    "sort_com.sort(key=lambda x :x[0])\n",
    "print(sort_com)\n",
    "word = list(word)\n",
    "word.sort()\n",
    "for i in word : print(i)\n",
    "for i in sort_com: print(\"\".join(i))"
   ]
  },
  {
   "cell_type": "code",
   "execution_count": 29,
   "id": "80a13888",
   "metadata": {},
   "outputs": [
    {
     "name": "stdout",
     "output_type": "stream",
     "text": [
      "HACKER 4\n",
      "A\n",
      "C\n",
      "E\n",
      "H\n",
      "K\n",
      "R\n",
      "AC\n",
      "AE\n",
      "AH\n",
      "AK\n",
      "AR\n",
      "CE\n",
      "CH\n",
      "CK\n",
      "CR\n",
      "EH\n",
      "EK\n",
      "ER\n",
      "HK\n",
      "HR\n",
      "KR\n"
     ]
    }
   ],
   "source": [
    "from itertools import combinations\n",
    "word,num = input().split()\n",
    "word = list(word)\n",
    "word.sort()\n",
    "com = list(combinations(word,2))\n",
    "full = word+com\n",
    "for i in full:print(\"\".join(i))"
   ]
  },
  {
   "cell_type": "code",
   "execution_count": 26,
   "id": "817d3fe2",
   "metadata": {
    "scrolled": true
   },
   "outputs": [
    {
     "data": {
      "text/plain": [
       "[('a', 'c'), ('a', 'h'), ('a', 'k'), ('c', 'h'), ('c', 'k'), ('h', 'k')]"
      ]
     },
     "execution_count": 26,
     "metadata": {},
     "output_type": "execute_result"
    }
   ],
   "source": [
    "com"
   ]
  },
  {
   "cell_type": "code",
   "execution_count": 32,
   "id": "27488ee6",
   "metadata": {
    "scrolled": true
   },
   "outputs": [
    {
     "data": {
      "text/plain": [
       "['a', 'c', 'h', 'k']"
      ]
     },
     "execution_count": 32,
     "metadata": {},
     "output_type": "execute_result"
    }
   ],
   "source": [
    "a = 'hack'\n",
    "sorted(a)"
   ]
  },
  {
   "cell_type": "code",
   "execution_count": 36,
   "id": "0e1130aa",
   "metadata": {
    "collapsed": true
   },
   "outputs": [
    {
     "name": "stdout",
     "output_type": "stream",
     "text": [
      "HACKER 4\n",
      "A\n",
      "C\n",
      "E\n",
      "H\n",
      "K\n",
      "R\n",
      "AC\n",
      "AE\n",
      "AH\n",
      "AK\n",
      "AR\n",
      "CE\n",
      "CH\n",
      "CK\n",
      "CR\n",
      "EH\n",
      "EK\n",
      "ER\n",
      "HK\n",
      "HR\n",
      "KR\n",
      "ACE\n",
      "ACH\n",
      "ACK\n",
      "ACR\n",
      "AEH\n",
      "AEK\n",
      "AER\n",
      "AHK\n",
      "AHR\n",
      "AKR\n",
      "CEH\n",
      "CEK\n",
      "CER\n",
      "CHK\n",
      "CHR\n",
      "CKR\n",
      "EHK\n",
      "EHR\n",
      "EKR\n",
      "HKR\n",
      "ACEH\n",
      "ACEK\n",
      "ACER\n",
      "ACHK\n",
      "ACHR\n",
      "ACKR\n",
      "AEHK\n",
      "AEHR\n",
      "AEKR\n",
      "AHKR\n",
      "CEHK\n",
      "CEHR\n",
      "CEKR\n",
      "CHKR\n",
      "EHKR\n"
     ]
    }
   ],
   "source": [
    "from itertools import combinations_with_replacement\n",
    "word,length = input().split()\n",
    "for r in range(1,int(length)+1):\n",
    "    for com in combinations_with_replacement(sorted(word),r):\n",
    "        print(''.join(com))"
   ]
  },
  {
   "cell_type": "code",
   "execution_count": 37,
   "id": "31e15189",
   "metadata": {},
   "outputs": [],
   "source": [
    "from itertools import combinations,combinations_with_replacement"
   ]
  },
  {
   "cell_type": "code",
   "execution_count": 38,
   "id": "959cb627",
   "metadata": {
    "scrolled": true
   },
   "outputs": [
    {
     "name": "stdout",
     "output_type": "stream",
     "text": [
      "combination [('h', 'a'), ('h', 'c'), ('h', 'k'), ('a', 'c'), ('a', 'k'), ('c', 'k')]\n",
      "combination [('h', 'h'), ('h', 'a'), ('h', 'c'), ('h', 'k'), ('a', 'a'), ('a', 'c'), ('a', 'k'), ('c', 'c'), ('c', 'k'), ('k', 'k')]\n"
     ]
    }
   ],
   "source": [
    "word = 'hack'\n",
    "print(f\"combination {list(combinations(word,2))}\")\n",
    "print(f\"combination {list(combinations_with_replacement(word,2))}\")\n",
    "combinations_with_replacement()"
   ]
  },
  {
   "cell_type": "code",
   "execution_count": 47,
   "id": "211c7532",
   "metadata": {
    "scrolled": true
   },
   "outputs": [
    {
     "name": "stdout",
     "output_type": "stream",
     "text": [
      "5\n",
      "1\n",
      "1\n",
      "2\n",
      "2\n",
      "3\n"
     ]
    }
   ],
   "source": [
    "s = set(input() for i in range(int(input())))"
   ]
  },
  {
   "cell_type": "code",
   "execution_count": 48,
   "id": "e8c162fd",
   "metadata": {},
   "outputs": [
    {
     "data": {
      "text/plain": [
       "{'1', '2', '3'}"
      ]
     },
     "execution_count": 48,
     "metadata": {},
     "output_type": "execute_result"
    }
   ],
   "source": [
    "l = []\n",
    "a = 'append(2)'"
   ]
  }
 ],
 "metadata": {
  "kernelspec": {
   "display_name": "Python 3 (ipykernel)",
   "language": "python",
   "name": "python3"
  },
  "language_info": {
   "codemirror_mode": {
    "name": "ipython",
    "version": 3
   },
   "file_extension": ".py",
   "mimetype": "text/x-python",
   "name": "python",
   "nbconvert_exporter": "python",
   "pygments_lexer": "ipython3",
   "version": "3.11.0"
  }
 },
 "nbformat": 4,
 "nbformat_minor": 5
}
